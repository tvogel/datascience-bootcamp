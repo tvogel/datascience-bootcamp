{
 "cells": [
  {
   "cell_type": "markdown",
   "metadata": {},
   "source": [
    "# Challenges 3: Stored Procedures and Functions"
   ]
  },
  {
   "cell_type": "markdown",
   "metadata": {},
   "source": [
    "### Load SQL extension"
   ]
  },
  {
   "cell_type": "code",
   "execution_count": 1,
   "metadata": {},
   "outputs": [],
   "source": [
    "%load_ext sql"
   ]
  },
  {
   "cell_type": "markdown",
   "metadata": {},
   "source": [
    "### Establish connection\n",
    "Store your local credentials in `~/.my.cnf`."
   ]
  },
  {
   "cell_type": "code",
   "execution_count": 2,
   "metadata": {},
   "outputs": [],
   "source": [
    "%sql mysql+pymysql:///northwind?unix_socket=/var/run/mysql/mysql.sock&read_default_file=~/.my.cnf"
   ]
  },
  {
   "cell_type": "markdown",
   "metadata": {},
   "source": [
    "## Goal: Automatic restocking orders\n",
    "\n",
    "The idea is to evaluate the current stock, including already placed but not yet shipped orders and to decide for which suppliers orders should be issued.\n",
    "\n",
    "- orders are only placed for suppliers for which at least one product is running out-of-stock\n",
    "- for suppliers for which at least one product needs to be restocked, all products that are going below reorder-level are stocked up to the reorder-level\n",
    "- products that are marked as discontinued must be skipped"
   ]
  },
  {
   "cell_type": "markdown",
   "metadata": {},
   "source": [
    "> General approach: As most procedures in this context (evaluation instead of business operations) result in intermediate tabular data, I am using temporary tables to return results. In general, stored SQL views would be more appropriate but the task of this chapter is to learn stored procedures and functions, so I will use those!"
   ]
  },
  {
   "cell_type": "markdown",
   "metadata": {},
   "source": [
    "### Procedure: Collect all quantities that have been ordered but not shipped yet"
   ]
  },
  {
   "cell_type": "code",
   "execution_count": 59,
   "metadata": {},
   "outputs": [
    {
     "name": "stdout",
     "output_type": "stream",
     "text": [
      " * mysql+pymysql:///northwind?read_default_file=~%2F.my.cnf&unix_socket=%2Fvar%2Frun%2Fmysql%2Fmysql.sock\n",
      "0 rows affected.\n"
     ]
    },
    {
     "data": {
      "text/plain": [
       "[]"
      ]
     },
     "execution_count": 59,
     "metadata": {},
     "output_type": "execute_result"
    }
   ],
   "source": [
    "%%sql\n",
    "CREATE OR REPLACE PROCEDURE preordered_product_quantities()\n",
    "BEGIN\n",
    "  DROP TEMPORARY TABLE IF EXISTS preordered_product_quantities;\n",
    "  CREATE TEMPORARY TABLE preordered_product_quantities\n",
    "  AS\n",
    "    SELECT ProductID, SUM(Quantity) AS PreorderedQuantity\n",
    "    FROM orders\n",
    "    JOIN order_details USING(OrderID)\n",
    "    WHERE ShippedDate IS NULL\n",
    "    GROUP BY ProductID;\n",
    "END;"
   ]
  },
  {
   "cell_type": "markdown",
   "metadata": {},
   "source": [
    "### Procedure: Determine which products are running below reorder-level"
   ]
  },
  {
   "cell_type": "code",
   "execution_count": 136,
   "metadata": {},
   "outputs": [
    {
     "name": "stdout",
     "output_type": "stream",
     "text": [
      " * mysql+pymysql:///northwind?read_default_file=~%2F.my.cnf&unix_socket=%2Fvar%2Frun%2Fmysql%2Fmysql.sock\n",
      "0 rows affected.\n"
     ]
    },
    {
     "data": {
      "text/plain": [
       "[]"
      ]
     },
     "execution_count": 136,
     "metadata": {},
     "output_type": "execute_result"
    }
   ],
   "source": [
    "%%sql\n",
    "CREATE OR REPLACE PROCEDURE reorder_amounts()\n",
    "BEGIN\n",
    "  CALL preordered_product_quantities();\n",
    "  DROP TEMPORARY TABLE IF EXISTS reorder_amounts;\n",
    "  CREATE TEMPORARY TABLE reorder_amounts\n",
    "  AS\n",
    "    SELECT\n",
    "      ProductID,\n",
    "      UnitsInStock + UnitsOnOrder - PreorderedQuantity AS AvailableStock,\n",
    "      GREATEST(0, ReorderLevel - (UnitsInStock + UnitsOnOrder - PreorderedQuantity)) AS ReorderAmount\n",
    "    FROM products\n",
    "    JOIN preordered_product_quantities USING(ProductID)\n",
    "    WHERE Discontinued = 'n';\n",
    "END;\n"
   ]
  },
  {
   "cell_type": "markdown",
   "metadata": {},
   "source": [
    "### Key business logic procedure: Determine which suppliers to place orders for\n",
    "... and collect all products for these suppliers which are running low, so they can be ordered along in order to save freight costs even if they are not running out yet."
   ]
  },
  {
   "cell_type": "code",
   "execution_count": 137,
   "metadata": {},
   "outputs": [
    {
     "name": "stdout",
     "output_type": "stream",
     "text": [
      " * mysql+pymysql:///northwind?read_default_file=~%2F.my.cnf&unix_socket=%2Fvar%2Frun%2Fmysql%2Fmysql.sock\n",
      "0 rows affected.\n"
     ]
    },
    {
     "data": {
      "text/plain": [
       "[]"
      ]
     },
     "execution_count": 137,
     "metadata": {},
     "output_type": "execute_result"
    }
   ],
   "source": [
    "%%sql\n",
    "CREATE OR REPLACE PROCEDURE prepare_supplier_orders()\n",
    "BEGIN\n",
    "  CALL reorder_amounts();\n",
    "  DROP TEMPORARY TABLE IF EXISTS supplier_orders;\n",
    "  CREATE TEMPORARY TABLE supplier_orders AS\n",
    "  WITH\n",
    "  reorder_suppliers AS ( -- those suppliers for which at least one product is out of stock\n",
    "    SELECT DISTINCT SupplierID\n",
    "      FROM reorder_amounts\n",
    "      JOIN products USING(ProductID)\n",
    "      WHERE ReorderAmount >= ReorderLevel AND ReorderAmount > 0\n",
    "  )\n",
    "  -- restock all items for these suppliers up to reorder level\n",
    "  SELECT SupplierID, ProductID, ReorderAmount\n",
    "  FROM reorder_amounts\n",
    "  JOIN products USING(ProductID)\n",
    "  JOIN reorder_suppliers USING(SupplierID)\n",
    "  WHERE ReorderAmount > 0\n",
    "  ORDER BY SupplierID, ProductID;\n",
    "END;\n"
   ]
  },
  {
   "cell_type": "markdown",
   "metadata": {},
   "source": [
    "#### Example output of the supplier orders"
   ]
  },
  {
   "cell_type": "code",
   "execution_count": 138,
   "metadata": {},
   "outputs": [
    {
     "name": "stdout",
     "output_type": "stream",
     "text": [
      " * mysql+pymysql:///northwind?read_default_file=~%2F.my.cnf&unix_socket=%2Fvar%2Frun%2Fmysql%2Fmysql.sock\n",
      "106 rows affected.\n",
      "12 rows affected.\n"
     ]
    },
    {
     "data": {
      "text/html": [
       "<table>\n",
       "    <thead>\n",
       "        <tr>\n",
       "            <th>SupplierID</th>\n",
       "            <th>ProductID</th>\n",
       "            <th>ReorderAmount</th>\n",
       "        </tr>\n",
       "    </thead>\n",
       "    <tbody>\n",
       "        <tr>\n",
       "            <td>1</td>\n",
       "            <td>1</td>\n",
       "            <td>11</td>\n",
       "        </tr>\n",
       "        <tr>\n",
       "            <td>1</td>\n",
       "            <td>2</td>\n",
       "            <td>30</td>\n",
       "        </tr>\n",
       "        <tr>\n",
       "            <td>3</td>\n",
       "            <td>7</td>\n",
       "            <td>11</td>\n",
       "        </tr>\n",
       "        <tr>\n",
       "            <td>6</td>\n",
       "            <td>13</td>\n",
       "            <td>25</td>\n",
       "        </tr>\n",
       "        <tr>\n",
       "            <td>7</td>\n",
       "            <td>16</td>\n",
       "            <td>27</td>\n",
       "        </tr>\n",
       "        <tr>\n",
       "            <td>7</td>\n",
       "            <td>70</td>\n",
       "            <td>17</td>\n",
       "        </tr>\n",
       "        <tr>\n",
       "            <td>12</td>\n",
       "            <td>64</td>\n",
       "            <td>60</td>\n",
       "        </tr>\n",
       "        <tr>\n",
       "            <td>12</td>\n",
       "            <td>77</td>\n",
       "            <td>13</td>\n",
       "        </tr>\n",
       "        <tr>\n",
       "            <td>16</td>\n",
       "            <td>35</td>\n",
       "            <td>19</td>\n",
       "        </tr>\n",
       "        <tr>\n",
       "            <td>20</td>\n",
       "            <td>43</td>\n",
       "            <td>34</td>\n",
       "        </tr>\n",
       "        <tr>\n",
       "            <td>24</td>\n",
       "            <td>51</td>\n",
       "            <td>14</td>\n",
       "        </tr>\n",
       "        <tr>\n",
       "            <td>28</td>\n",
       "            <td>60</td>\n",
       "            <td>54</td>\n",
       "        </tr>\n",
       "    </tbody>\n",
       "</table>"
      ],
      "text/plain": [
       "[(1, 1, Decimal('11')),\n",
       " (1, 2, Decimal('30')),\n",
       " (3, 7, Decimal('11')),\n",
       " (6, 13, Decimal('25')),\n",
       " (7, 16, Decimal('27')),\n",
       " (7, 70, Decimal('17')),\n",
       " (12, 64, Decimal('60')),\n",
       " (12, 77, Decimal('13')),\n",
       " (16, 35, Decimal('19')),\n",
       " (20, 43, Decimal('34')),\n",
       " (24, 51, Decimal('14')),\n",
       " (28, 60, Decimal('54'))]"
      ]
     },
     "execution_count": 138,
     "metadata": {},
     "output_type": "execute_result"
    }
   ],
   "source": [
    "%%sql\n",
    "CALL prepare_supplier_orders();\n",
    "SELECT * FROM supplier_orders;"
   ]
  },
  {
   "cell_type": "markdown",
   "metadata": {},
   "source": [
    "## Generate order documents\n",
    "### First step: Format orders in JSON for passing it to the document generator"
   ]
  },
  {
   "cell_type": "markdown",
   "metadata": {},
   "source": [
    "#### Function: Supplier contact data as JSON"
   ]
  },
  {
   "cell_type": "code",
   "execution_count": 122,
   "metadata": {},
   "outputs": [
    {
     "name": "stdout",
     "output_type": "stream",
     "text": [
      " * mysql+pymysql:///northwind?read_default_file=~%2F.my.cnf&unix_socket=%2Fvar%2Frun%2Fmysql%2Fmysql.sock\n",
      "0 rows affected.\n"
     ]
    },
    {
     "data": {
      "text/plain": [
       "[]"
      ]
     },
     "execution_count": 122,
     "metadata": {},
     "output_type": "execute_result"
    }
   ],
   "source": [
    "%%sql\n",
    "\n",
    "CREATE OR REPLACE FUNCTION get_supplier_json(id INT)\n",
    "RETURNS JSON\n",
    "DETERMINISTIC\n",
    "BEGIN\n",
    "  RETURN (\n",
    "    SELECT\n",
    "      JSON_OBJECT(\n",
    "        \"name\", CompanyName,\n",
    "        \"contact\", JSON_OBJECT(\n",
    "          \"name\", ContactName,\n",
    "          \"title\", ContactTitle\n",
    "        ),\n",
    "        \"address\", Address,\n",
    "        \"city\", City,\n",
    "        \"region\", NULLIF(Region, ''),\n",
    "        \"postal_code\", PostalCode,\n",
    "        \"country\", Country\n",
    "      ) AS supplier_json\n",
    "    FROM suppliers\n",
    "    WHERE SupplierID = id\n",
    "  );\n",
    "END;\n"
   ]
  },
  {
   "cell_type": "markdown",
   "metadata": {},
   "source": [
    "#### Procedure: Collect all supplier contact information as JSON array"
   ]
  },
  {
   "cell_type": "code",
   "execution_count": 178,
   "metadata": {},
   "outputs": [
    {
     "name": "stdout",
     "output_type": "stream",
     "text": [
      " * mysql+pymysql:///northwind?read_default_file=~%2F.my.cnf&unix_socket=%2Fvar%2Frun%2Fmysql%2Fmysql.sock\n",
      "0 rows affected.\n"
     ]
    },
    {
     "data": {
      "text/plain": [
       "[]"
      ]
     },
     "execution_count": 178,
     "metadata": {},
     "output_type": "execute_result"
    }
   ],
   "source": [
    "%%sql\n",
    "CREATE OR REPLACE PROCEDURE prepare_supplier_json()\n",
    "BEGIN\n",
    "  DROP TEMPORARY TABLE IF EXISTS supplier_json;\n",
    "  CREATE TEMPORARY TABLE supplier_json\n",
    "  AS SELECT\n",
    "    SupplierID,\n",
    "    get_supplier_json(SupplierID) AS supplier_json\n",
    "  FROM (SELECT DISTINCT SupplierID FROM supplier_orders) s;\n",
    "END;\n"
   ]
  },
  {
   "cell_type": "markdown",
   "metadata": {},
   "source": [
    "##### Example output"
   ]
  },
  {
   "cell_type": "code",
   "execution_count": 179,
   "metadata": {},
   "outputs": [
    {
     "name": "stdout",
     "output_type": "stream",
     "text": [
      " * mysql+pymysql:///northwind?read_default_file=~%2F.my.cnf&unix_socket=%2Fvar%2Frun%2Fmysql%2Fmysql.sock\n",
      "106 rows affected.\n",
      "9 rows affected.\n",
      "9 rows affected.\n"
     ]
    },
    {
     "data": {
      "text/html": [
       "<table>\n",
       "    <thead>\n",
       "        <tr>\n",
       "            <th>SupplierID</th>\n",
       "            <th>supplier_json</th>\n",
       "        </tr>\n",
       "    </thead>\n",
       "    <tbody>\n",
       "        <tr>\n",
       "            <td>1</td>\n",
       "            <td>{&quot;name&quot;: &quot;Exotic Liquids&quot;, &quot;contact&quot;: {&quot;name&quot;: &quot;Charlotte Cooper&quot;, &quot;title&quot;: &quot;Purchasing Manager&quot;}, &quot;address&quot;: &quot;49 Gilbert St.&quot;, &quot;city&quot;: &quot;London&quot;, &quot;region&quot;: null, &quot;postal_code&quot;: &quot;EC1 4SD&quot;, &quot;country&quot;: &quot;UK&quot;}</td>\n",
       "        </tr>\n",
       "        <tr>\n",
       "            <td>3</td>\n",
       "            <td>{&quot;name&quot;: &quot;Grandma Kelly&#x27;s Homestead&quot;, &quot;contact&quot;: {&quot;name&quot;: &quot;Regina Murphy&quot;, &quot;title&quot;: &quot;Sales Representative&quot;}, &quot;address&quot;: &quot;707 Oxford Rd.&quot;, &quot;city&quot;: &quot;Ann Arbor&quot;, &quot;region&quot;: &quot;MI&quot;, &quot;postal_code&quot;: &quot;48104&quot;, &quot;country&quot;: &quot;USA&quot;}</td>\n",
       "        </tr>\n",
       "        <tr>\n",
       "            <td>6</td>\n",
       "            <td>{&quot;name&quot;: &quot;Mayumi&#x27;s&quot;, &quot;contact&quot;: {&quot;name&quot;: &quot;Mayumi Ohno&quot;, &quot;title&quot;: &quot;Marketing Representative&quot;}, &quot;address&quot;: &quot;92 Setsuko\\r\\nChuo-ku&quot;, &quot;city&quot;: &quot;Osaka&quot;, &quot;region&quot;: null, &quot;postal_code&quot;: &quot;545&quot;, &quot;country&quot;: &quot;Japan&quot;}</td>\n",
       "        </tr>\n",
       "        <tr>\n",
       "            <td>7</td>\n",
       "            <td>{&quot;name&quot;: &quot;Pavlova, Ltd.&quot;, &quot;contact&quot;: {&quot;name&quot;: &quot;Ian Devling&quot;, &quot;title&quot;: &quot;Marketing Manager&quot;}, &quot;address&quot;: &quot;74 Rose St.\\r\\nMoonie Ponds&quot;, &quot;city&quot;: &quot;Melbourne&quot;, &quot;region&quot;: &quot;Victoria&quot;, &quot;postal_code&quot;: &quot;3058&quot;, &quot;country&quot;: &quot;Australia&quot;}</td>\n",
       "        </tr>\n",
       "        <tr>\n",
       "            <td>12</td>\n",
       "            <td>{&quot;name&quot;: &quot;Plutzer Lebensmittelgroßmärkte AG&quot;, &quot;contact&quot;: {&quot;name&quot;: &quot;Martin Bein&quot;, &quot;title&quot;: &quot;International Marketing Mgr.&quot;}, &quot;address&quot;: &quot;Bogenallee 51&quot;, &quot;city&quot;: &quot;Frankfurt&quot;, &quot;region&quot;: null, &quot;postal_code&quot;: &quot;60439&quot;, &quot;country&quot;: &quot;Germany&quot;}</td>\n",
       "        </tr>\n",
       "        <tr>\n",
       "            <td>16</td>\n",
       "            <td>{&quot;name&quot;: &quot;Bigfoot Breweries&quot;, &quot;contact&quot;: {&quot;name&quot;: &quot;Cheryl Saylor&quot;, &quot;title&quot;: &quot;Regional Account Rep.&quot;}, &quot;address&quot;: &quot;3400 - 8th Avenue\\r\\nSuite 210&quot;, &quot;city&quot;: &quot;Bend&quot;, &quot;region&quot;: &quot;OR&quot;, &quot;postal_code&quot;: &quot;97101&quot;, &quot;country&quot;: &quot;USA&quot;}</td>\n",
       "        </tr>\n",
       "        <tr>\n",
       "            <td>20</td>\n",
       "            <td>{&quot;name&quot;: &quot;Leka Trading&quot;, &quot;contact&quot;: {&quot;name&quot;: &quot;Chandra Leka&quot;, &quot;title&quot;: &quot;Owner&quot;}, &quot;address&quot;: &quot;471 Serangoon Loop, Suite #402&quot;, &quot;city&quot;: &quot;Singapore&quot;, &quot;region&quot;: null, &quot;postal_code&quot;: &quot;0512&quot;, &quot;country&quot;: &quot;Singapore&quot;}</td>\n",
       "        </tr>\n",
       "        <tr>\n",
       "            <td>24</td>\n",
       "            <td>{&quot;name&quot;: &quot;G&#x27;day, Mate&quot;, &quot;contact&quot;: {&quot;name&quot;: &quot;Wendy Mackenzie&quot;, &quot;title&quot;: &quot;Sales Representative&quot;}, &quot;address&quot;: &quot;170 Prince Edward Parade\\r\\nHunter&#x27;s Hill&quot;, &quot;city&quot;: &quot;Sydney&quot;, &quot;region&quot;: &quot;NSW&quot;, &quot;postal_code&quot;: &quot;2042&quot;, &quot;country&quot;: &quot;Australia&quot;}</td>\n",
       "        </tr>\n",
       "        <tr>\n",
       "            <td>28</td>\n",
       "            <td>{&quot;name&quot;: &quot;Gai pâturage&quot;, &quot;contact&quot;: {&quot;name&quot;: &quot;Eliane Noz&quot;, &quot;title&quot;: &quot;Sales Representative&quot;}, &quot;address&quot;: &quot;Bat. B\\r\\n3, rue des Alpes&quot;, &quot;city&quot;: &quot;Annecy&quot;, &quot;region&quot;: null, &quot;postal_code&quot;: &quot;74000&quot;, &quot;country&quot;: &quot;France&quot;}</td>\n",
       "        </tr>\n",
       "    </tbody>\n",
       "</table>"
      ],
      "text/plain": [
       "[(1, '{\"name\": \"Exotic Liquids\", \"contact\": {\"name\": \"Charlotte Cooper\", \"title\": \"Purchasing Manager\"}, \"address\": \"49 Gilbert St.\", \"city\": \"London\", \"region\": null, \"postal_code\": \"EC1 4SD\", \"country\": \"UK\"}'),\n",
       " (3, '{\"name\": \"Grandma Kelly\\'s Homestead\", \"contact\": {\"name\": \"Regina Murphy\", \"title\": \"Sales Representative\"}, \"address\": \"707 Oxford Rd.\", \"city\": \"Ann Arbor\", \"region\": \"MI\", \"postal_code\": \"48104\", \"country\": \"USA\"}'),\n",
       " (6, '{\"name\": \"Mayumi\\'s\", \"contact\": {\"name\": \"Mayumi Ohno\", \"title\": \"Marketing Representative\"}, \"address\": \"92 Setsuko\\\\r\\\\nChuo-ku\", \"city\": \"Osaka\", \"region\": null, \"postal_code\": \"545\", \"country\": \"Japan\"}'),\n",
       " (7, '{\"name\": \"Pavlova, Ltd.\", \"contact\": {\"name\": \"Ian Devling\", \"title\": \"Marketing Manager\"}, \"address\": \"74 Rose St.\\\\r\\\\nMoonie Ponds\", \"city\": \"Melbourne\", \"region\": \"Victoria\", \"postal_code\": \"3058\", \"country\": \"Australia\"}'),\n",
       " (12, '{\"name\": \"Plutzer Lebensmittelgroßmärkte AG\", \"contact\": {\"name\": \"Martin Bein\", \"title\": \"International Marketing Mgr.\"}, \"address\": \"Bogenallee 51\", \"city\": \"Frankfurt\", \"region\": null, \"postal_code\": \"60439\", \"country\": \"Germany\"}'),\n",
       " (16, '{\"name\": \"Bigfoot Breweries\", \"contact\": {\"name\": \"Cheryl Saylor\", \"title\": \"Regional Account Rep.\"}, \"address\": \"3400 - 8th Avenue\\\\r\\\\nSuite 210\", \"city\": \"Bend\", \"region\": \"OR\", \"postal_code\": \"97101\", \"country\": \"USA\"}'),\n",
       " (20, '{\"name\": \"Leka Trading\", \"contact\": {\"name\": \"Chandra Leka\", \"title\": \"Owner\"}, \"address\": \"471 Serangoon Loop, Suite #402\", \"city\": \"Singapore\", \"region\": null, \"postal_code\": \"0512\", \"country\": \"Singapore\"}'),\n",
       " (24, '{\"name\": \"G\\'day, Mate\", \"contact\": {\"name\": \"Wendy Mackenzie\", \"title\": \"Sales Representative\"}, \"address\": \"170 Prince Edward Parade\\\\r\\\\nHunter\\'s Hill\", \"city\": \"Sydney\", \"region\": \"NSW\", \"postal_code\": \"2042\", \"country\": \"Australia\"}'),\n",
       " (28, '{\"name\": \"Gai pâturage\", \"contact\": {\"name\": \"Eliane Noz\", \"title\": \"Sales Representative\"}, \"address\": \"Bat. B\\\\r\\\\n3, rue des Alpes\", \"city\": \"Annecy\", \"region\": null, \"postal_code\": \"74000\", \"country\": \"France\"}')]"
      ]
     },
     "execution_count": 179,
     "metadata": {},
     "output_type": "execute_result"
    }
   ],
   "source": [
    "%%sql\n",
    "CALL prepare_supplier_orders();\n",
    "CALL prepare_supplier_json();\n",
    "SELECT * FROM supplier_json;"
   ]
  },
  {
   "cell_type": "markdown",
   "metadata": {},
   "source": [
    "#### Function: Product order line as JSON"
   ]
  },
  {
   "cell_type": "code",
   "execution_count": 140,
   "metadata": {},
   "outputs": [
    {
     "name": "stdout",
     "output_type": "stream",
     "text": [
      " * mysql+pymysql:///northwind?read_default_file=~%2F.my.cnf&unix_socket=%2Fvar%2Frun%2Fmysql%2Fmysql.sock\n",
      "0 rows affected.\n"
     ]
    },
    {
     "data": {
      "text/plain": [
       "[]"
      ]
     },
     "execution_count": 140,
     "metadata": {},
     "output_type": "execute_result"
    }
   ],
   "source": [
    "%%sql\n",
    "CREATE OR REPLACE FUNCTION get_product_order_json(product_id INT, quantity INT)\n",
    "RETURNS JSON\n",
    "DETERMINISTIC\n",
    "BEGIN\n",
    "  RETURN (\n",
    "    SELECT\n",
    "      JSON_OBJECT(\n",
    "        'name', ProductName,\n",
    "        'qpu', QuantityPerUnit,\n",
    "        'units', quantity) AS product_json\n",
    "    FROM products\n",
    "    WHERE ProductID = product_id\n",
    "  );\n",
    "END;\n"
   ]
  },
  {
   "cell_type": "markdown",
   "metadata": {},
   "source": [
    "#### Procedure: Collect all product order lines per supplier as JSON"
   ]
  },
  {
   "cell_type": "code",
   "execution_count": 204,
   "metadata": {},
   "outputs": [
    {
     "name": "stdout",
     "output_type": "stream",
     "text": [
      " * mysql+pymysql:///northwind?read_default_file=~%2F.my.cnf&unix_socket=%2Fvar%2Frun%2Fmysql%2Fmysql.sock\n",
      "0 rows affected.\n"
     ]
    },
    {
     "data": {
      "text/plain": [
       "[]"
      ]
     },
     "execution_count": 204,
     "metadata": {},
     "output_type": "execute_result"
    }
   ],
   "source": [
    "%%sql\n",
    "CREATE OR REPLACE PROCEDURE prepare_product_order_json()\n",
    "BEGIN\n",
    "  DROP TEMPORARY TABLE IF EXISTS product_order_json;\n",
    "  CREATE TEMPORARY TABLE product_order_json (SupplierID INT, product_order_json JSON)\n",
    "  AS SELECT\n",
    "    so.SupplierID,\n",
    "    JSON_ARRAYAGG(\n",
    "      JSON_EXTRACT(get_product_order_json(ProductID, ReorderAmount), '$')\n",
    "      ORDER BY ProductName\n",
    "    ) AS product_order_json\n",
    "  FROM supplier_orders so\n",
    "  JOIN products USING(ProductID)\n",
    "  GROUP BY SupplierID;\n",
    "END;\n"
   ]
  },
  {
   "cell_type": "markdown",
   "metadata": {},
   "source": [
    "##### Example output"
   ]
  },
  {
   "cell_type": "code",
   "execution_count": 205,
   "metadata": {},
   "outputs": [
    {
     "name": "stdout",
     "output_type": "stream",
     "text": [
      " * mysql+pymysql:///northwind?read_default_file=~%2F.my.cnf&unix_socket=%2Fvar%2Frun%2Fmysql%2Fmysql.sock\n",
      "106 rows affected.\n",
      "9 rows affected.\n",
      "9 rows affected.\n"
     ]
    },
    {
     "data": {
      "text/html": [
       "<table>\n",
       "    <thead>\n",
       "        <tr>\n",
       "            <th>SupplierID</th>\n",
       "            <th>product_order_json</th>\n",
       "        </tr>\n",
       "    </thead>\n",
       "    <tbody>\n",
       "        <tr>\n",
       "            <td>1</td>\n",
       "            <td>[{&quot;name&quot;: &quot;Chai&quot;, &quot;qpu&quot;: &quot;10 boxes x 20 bags&quot;, &quot;units&quot;: &quot;11&quot;},{&quot;name&quot;: &quot;Chang&quot;, &quot;qpu&quot;: &quot;24 - 12 oz bottles&quot;, &quot;units&quot;: &quot;30&quot;}]</td>\n",
       "        </tr>\n",
       "        <tr>\n",
       "            <td>3</td>\n",
       "            <td>[{&quot;name&quot;: &quot;Uncle Bob&#x27;s Organic Dried Pears&quot;, &quot;qpu&quot;: &quot;12 - 1 lb pkgs.&quot;, &quot;units&quot;: &quot;11&quot;}]</td>\n",
       "        </tr>\n",
       "        <tr>\n",
       "            <td>6</td>\n",
       "            <td>[{&quot;name&quot;: &quot;Konbu&quot;, &quot;qpu&quot;: &quot;2 kg box&quot;, &quot;units&quot;: &quot;25&quot;}]</td>\n",
       "        </tr>\n",
       "        <tr>\n",
       "            <td>7</td>\n",
       "            <td>[{&quot;name&quot;: &quot;Outback Lager&quot;, &quot;qpu&quot;: &quot;24 - 355 ml bottles&quot;, &quot;units&quot;: &quot;17&quot;},{&quot;name&quot;: &quot;Pavlova&quot;, &quot;qpu&quot;: &quot;32 - 500 g boxes&quot;, &quot;units&quot;: &quot;27&quot;}]</td>\n",
       "        </tr>\n",
       "        <tr>\n",
       "            <td>12</td>\n",
       "            <td>[{&quot;name&quot;: &quot;Original Frankfurter grüne Soße&quot;, &quot;qpu&quot;: &quot;12 boxes&quot;, &quot;units&quot;: &quot;13&quot;},{&quot;name&quot;: &quot;Wimmers gute Semmelknödel&quot;, &quot;qpu&quot;: &quot;20 bags x 4 pieces&quot;, &quot;units&quot;: &quot;60&quot;}]</td>\n",
       "        </tr>\n",
       "        <tr>\n",
       "            <td>16</td>\n",
       "            <td>[{&quot;name&quot;: &quot;Steeleye Stout&quot;, &quot;qpu&quot;: &quot;24 - 12 oz bottles&quot;, &quot;units&quot;: &quot;19&quot;}]</td>\n",
       "        </tr>\n",
       "        <tr>\n",
       "            <td>20</td>\n",
       "            <td>[{&quot;name&quot;: &quot;Ipoh Coffee&quot;, &quot;qpu&quot;: &quot;16 - 500 g tins&quot;, &quot;units&quot;: &quot;34&quot;}]</td>\n",
       "        </tr>\n",
       "        <tr>\n",
       "            <td>24</td>\n",
       "            <td>[{&quot;name&quot;: &quot;Manjimup Dried Apples&quot;, &quot;qpu&quot;: &quot;50 - 300 g pkgs.&quot;, &quot;units&quot;: &quot;14&quot;}]</td>\n",
       "        </tr>\n",
       "        <tr>\n",
       "            <td>28</td>\n",
       "            <td>[{&quot;name&quot;: &quot;Camembert Pierrot&quot;, &quot;qpu&quot;: &quot;15 - 300 g rounds&quot;, &quot;units&quot;: &quot;54&quot;}]</td>\n",
       "        </tr>\n",
       "    </tbody>\n",
       "</table>"
      ],
      "text/plain": [
       "[(1, '[{\"name\": \"Chai\", \"qpu\": \"10 boxes x 20 bags\", \"units\": \"11\"},{\"name\": \"Chang\", \"qpu\": \"24 - 12 oz bottles\", \"units\": \"30\"}]'),\n",
       " (3, '[{\"name\": \"Uncle Bob\\'s Organic Dried Pears\", \"qpu\": \"12 - 1 lb pkgs.\", \"units\": \"11\"}]'),\n",
       " (6, '[{\"name\": \"Konbu\", \"qpu\": \"2 kg box\", \"units\": \"25\"}]'),\n",
       " (7, '[{\"name\": \"Outback Lager\", \"qpu\": \"24 - 355 ml bottles\", \"units\": \"17\"},{\"name\": \"Pavlova\", \"qpu\": \"32 - 500 g boxes\", \"units\": \"27\"}]'),\n",
       " (12, '[{\"name\": \"Original Frankfurter grüne Soße\", \"qpu\": \"12 boxes\", \"units\": \"13\"},{\"name\": \"Wimmers gute Semmelknödel\", \"qpu\": \"20 bags x 4 pieces\", \"units\": \"60\"}]'),\n",
       " (16, '[{\"name\": \"Steeleye Stout\", \"qpu\": \"24 - 12 oz bottles\", \"units\": \"19\"}]'),\n",
       " (20, '[{\"name\": \"Ipoh Coffee\", \"qpu\": \"16 - 500 g tins\", \"units\": \"34\"}]'),\n",
       " (24, '[{\"name\": \"Manjimup Dried Apples\", \"qpu\": \"50 - 300 g pkgs.\", \"units\": \"14\"}]'),\n",
       " (28, '[{\"name\": \"Camembert Pierrot\", \"qpu\": \"15 - 300 g rounds\", \"units\": \"54\"}]')]"
      ]
     },
     "execution_count": 205,
     "metadata": {},
     "output_type": "execute_result"
    }
   ],
   "source": [
    "%%sql\n",
    "CALL prepare_supplier_orders();\n",
    "CALL prepare_product_order_json();\n",
    "SELECT * FROM product_order_json;"
   ]
  },
  {
   "cell_type": "markdown",
   "metadata": {},
   "source": [
    "#### Procedure: Combine contact data and order data for each supplier as JSON"
   ]
  },
  {
   "cell_type": "code",
   "execution_count": 209,
   "metadata": {},
   "outputs": [
    {
     "name": "stdout",
     "output_type": "stream",
     "text": [
      " * mysql+pymysql:///northwind?read_default_file=~%2F.my.cnf&unix_socket=%2Fvar%2Frun%2Fmysql%2Fmysql.sock\n",
      "0 rows affected.\n"
     ]
    },
    {
     "data": {
      "text/plain": [
       "[]"
      ]
     },
     "execution_count": 209,
     "metadata": {},
     "output_type": "execute_result"
    }
   ],
   "source": [
    "%%sql\n",
    "CREATE OR REPLACE PROCEDURE prepare_all_supplier_orders()\n",
    "BEGIN\n",
    "  CALL prepare_supplier_orders();\n",
    "  CALL prepare_supplier_json();\n",
    "  CALL prepare_product_order_json();\n",
    "  SELECT\n",
    "    JSON_ARRAYAGG(\n",
    "      JSON_OBJECT(\n",
    "        'supplier', JSON_EXTRACT(supplier_json, '$'),\n",
    "        'products', JSON_EXTRACT(product_order_json, '$')\n",
    "      )\n",
    "    ) AS supplier_orders\n",
    "  FROM (SELECT DISTINCT SupplierID FROM supplier_orders) s\n",
    "  JOIN supplier_json USING(SupplierID)\n",
    "  JOIN product_order_json USING(SupplierID);\n",
    "END;"
   ]
  },
  {
   "cell_type": "markdown",
   "metadata": {},
   "source": [
    "#### Pass JSON data on to the Python document generator layer"
   ]
  },
  {
   "cell_type": "code",
   "execution_count": 210,
   "metadata": {},
   "outputs": [
    {
     "name": "stdout",
     "output_type": "stream",
     "text": [
      " * mysql+pymysql:///northwind?read_default_file=~%2F.my.cnf&unix_socket=%2Fvar%2Frun%2Fmysql%2Fmysql.sock\n",
      "1 rows affected.\n",
      "Returning data to local variable supplier_orders\n"
     ]
    }
   ],
   "source": [
    "%%sql supplier_orders <<\n",
    "CALL prepare_all_supplier_orders();"
   ]
  },
  {
   "cell_type": "markdown",
   "metadata": {},
   "source": [
    "### Second step: Use f-string based template to format supplier orders"
   ]
  },
  {
   "cell_type": "code",
   "execution_count": 254,
   "metadata": {},
   "outputs": [
    {
     "data": {
      "text/markdown": [
       "\n",
       "> __Northwind Traders__\\\n",
       "1234 NW Market Street\\\n",
       "Seattle, WA 98107\\\n",
       "USA\n",
       "\n",
       "&nbsp;\\\n",
       "&nbsp;\\\n",
       "&nbsp;\\\n",
       "__Exotic Liquids__\\\n",
       "49 Gilbert St.\\\n",
       "London None EC1 4SD\\\n",
       "UK\n",
       "\n",
       "# Order\n",
       "\n",
       "Dear Charlotte Cooper,\n",
       "\n",
       "We would like to place an order for the following items:\n",
       "\n",
       "| Units | Product Name | Quantity per Unit |\n",
       "|------:|:-------------|:------------------|\n",
       "| 11 | Chai | 10 boxes x 20 bags |\r| 30 | Chang | 24 - 12 oz bottles |\n",
       "\n",
       "Please ship to our warehouse at your earliest convenience.\n",
       "\n",
       "Sincerely,\n",
       "\n",
       "Pumbaa\\\n",
       "Purchase Manager\\\n",
       "Northwind Traders\\\n",
       "&nbsp;\\\n",
       "&nbsp;\\\n",
       "&nbsp;\n",
       "\n",
       "\n",
       "----\n",
       "\n",
       "> __Northwind Traders__\\\n",
       "1234 NW Market Street\\\n",
       "Seattle, WA 98107\\\n",
       "USA\n",
       "\n",
       "&nbsp;\\\n",
       "&nbsp;\\\n",
       "&nbsp;\\\n",
       "__Grandma Kelly's Homestead__\\\n",
       "707 Oxford Rd.\\\n",
       "Ann Arbor MI 48104\\\n",
       "USA\n",
       "\n",
       "# Order\n",
       "\n",
       "Dear Regina Murphy,\n",
       "\n",
       "We would like to place an order for the following items:\n",
       "\n",
       "| Units | Product Name | Quantity per Unit |\n",
       "|------:|:-------------|:------------------|\n",
       "| 11 | Uncle Bob's Organic Dried Pears | 12 - 1 lb pkgs. |\n",
       "\n",
       "Please ship to our warehouse at your earliest convenience.\n",
       "\n",
       "Sincerely,\n",
       "\n",
       "Pumbaa\\\n",
       "Purchase Manager\\\n",
       "Northwind Traders\\\n",
       "&nbsp;\\\n",
       "&nbsp;\\\n",
       "&nbsp;\n",
       "\n",
       "\n",
       "----\n",
       "\n",
       "> __Northwind Traders__\\\n",
       "1234 NW Market Street\\\n",
       "Seattle, WA 98107\\\n",
       "USA\n",
       "\n",
       "&nbsp;\\\n",
       "&nbsp;\\\n",
       "&nbsp;\\\n",
       "__Mayumi's__\\\n",
       "92 Setsuko\r\n",
       "Chuo-ku\\\n",
       "Osaka None 545\\\n",
       "Japan\n",
       "\n",
       "# Order\n",
       "\n",
       "Dear Mayumi Ohno,\n",
       "\n",
       "We would like to place an order for the following items:\n",
       "\n",
       "| Units | Product Name | Quantity per Unit |\n",
       "|------:|:-------------|:------------------|\n",
       "| 25 | Konbu | 2 kg box |\n",
       "\n",
       "Please ship to our warehouse at your earliest convenience.\n",
       "\n",
       "Sincerely,\n",
       "\n",
       "Pumbaa\\\n",
       "Purchase Manager\\\n",
       "Northwind Traders\\\n",
       "&nbsp;\\\n",
       "&nbsp;\\\n",
       "&nbsp;\n",
       "\n",
       "\n",
       "----\n",
       "\n",
       "> __Northwind Traders__\\\n",
       "1234 NW Market Street\\\n",
       "Seattle, WA 98107\\\n",
       "USA\n",
       "\n",
       "&nbsp;\\\n",
       "&nbsp;\\\n",
       "&nbsp;\\\n",
       "__Pavlova, Ltd.__\\\n",
       "74 Rose St.\r\n",
       "Moonie Ponds\\\n",
       "Melbourne Victoria 3058\\\n",
       "Australia\n",
       "\n",
       "# Order\n",
       "\n",
       "Dear Ian Devling,\n",
       "\n",
       "We would like to place an order for the following items:\n",
       "\n",
       "| Units | Product Name | Quantity per Unit |\n",
       "|------:|:-------------|:------------------|\n",
       "| 17 | Outback Lager | 24 - 355 ml bottles |\r| 27 | Pavlova | 32 - 500 g boxes |\n",
       "\n",
       "Please ship to our warehouse at your earliest convenience.\n",
       "\n",
       "Sincerely,\n",
       "\n",
       "Pumbaa\\\n",
       "Purchase Manager\\\n",
       "Northwind Traders\\\n",
       "&nbsp;\\\n",
       "&nbsp;\\\n",
       "&nbsp;\n",
       "\n",
       "\n",
       "----\n",
       "\n",
       "> __Northwind Traders__\\\n",
       "1234 NW Market Street\\\n",
       "Seattle, WA 98107\\\n",
       "USA\n",
       "\n",
       "&nbsp;\\\n",
       "&nbsp;\\\n",
       "&nbsp;\\\n",
       "__Plutzer Lebensmittelgroßmärkte AG__\\\n",
       "Bogenallee 51\\\n",
       "Frankfurt None 60439\\\n",
       "Germany\n",
       "\n",
       "# Order\n",
       "\n",
       "Dear Martin Bein,\n",
       "\n",
       "We would like to place an order for the following items:\n",
       "\n",
       "| Units | Product Name | Quantity per Unit |\n",
       "|------:|:-------------|:------------------|\n",
       "| 13 | Original Frankfurter grüne Soße | 12 boxes |\r| 60 | Wimmers gute Semmelknödel | 20 bags x 4 pieces |\n",
       "\n",
       "Please ship to our warehouse at your earliest convenience.\n",
       "\n",
       "Sincerely,\n",
       "\n",
       "Pumbaa\\\n",
       "Purchase Manager\\\n",
       "Northwind Traders\\\n",
       "&nbsp;\\\n",
       "&nbsp;\\\n",
       "&nbsp;\n",
       "\n",
       "\n",
       "----\n",
       "\n",
       "> __Northwind Traders__\\\n",
       "1234 NW Market Street\\\n",
       "Seattle, WA 98107\\\n",
       "USA\n",
       "\n",
       "&nbsp;\\\n",
       "&nbsp;\\\n",
       "&nbsp;\\\n",
       "__Bigfoot Breweries__\\\n",
       "3400 - 8th Avenue\r\n",
       "Suite 210\\\n",
       "Bend OR 97101\\\n",
       "USA\n",
       "\n",
       "# Order\n",
       "\n",
       "Dear Cheryl Saylor,\n",
       "\n",
       "We would like to place an order for the following items:\n",
       "\n",
       "| Units | Product Name | Quantity per Unit |\n",
       "|------:|:-------------|:------------------|\n",
       "| 19 | Steeleye Stout | 24 - 12 oz bottles |\n",
       "\n",
       "Please ship to our warehouse at your earliest convenience.\n",
       "\n",
       "Sincerely,\n",
       "\n",
       "Pumbaa\\\n",
       "Purchase Manager\\\n",
       "Northwind Traders\\\n",
       "&nbsp;\\\n",
       "&nbsp;\\\n",
       "&nbsp;\n",
       "\n",
       "\n",
       "----\n",
       "\n",
       "> __Northwind Traders__\\\n",
       "1234 NW Market Street\\\n",
       "Seattle, WA 98107\\\n",
       "USA\n",
       "\n",
       "&nbsp;\\\n",
       "&nbsp;\\\n",
       "&nbsp;\\\n",
       "__Leka Trading__\\\n",
       "471 Serangoon Loop, Suite #402\\\n",
       "Singapore None 0512\\\n",
       "Singapore\n",
       "\n",
       "# Order\n",
       "\n",
       "Dear Chandra Leka,\n",
       "\n",
       "We would like to place an order for the following items:\n",
       "\n",
       "| Units | Product Name | Quantity per Unit |\n",
       "|------:|:-------------|:------------------|\n",
       "| 34 | Ipoh Coffee | 16 - 500 g tins |\n",
       "\n",
       "Please ship to our warehouse at your earliest convenience.\n",
       "\n",
       "Sincerely,\n",
       "\n",
       "Pumbaa\\\n",
       "Purchase Manager\\\n",
       "Northwind Traders\\\n",
       "&nbsp;\\\n",
       "&nbsp;\\\n",
       "&nbsp;\n",
       "\n",
       "\n",
       "----\n",
       "\n",
       "> __Northwind Traders__\\\n",
       "1234 NW Market Street\\\n",
       "Seattle, WA 98107\\\n",
       "USA\n",
       "\n",
       "&nbsp;\\\n",
       "&nbsp;\\\n",
       "&nbsp;\\\n",
       "__G'day, Mate__\\\n",
       "170 Prince Edward Parade\r\n",
       "Hunter's Hill\\\n",
       "Sydney NSW 2042\\\n",
       "Australia\n",
       "\n",
       "# Order\n",
       "\n",
       "Dear Wendy Mackenzie,\n",
       "\n",
       "We would like to place an order for the following items:\n",
       "\n",
       "| Units | Product Name | Quantity per Unit |\n",
       "|------:|:-------------|:------------------|\n",
       "| 14 | Manjimup Dried Apples | 50 - 300 g pkgs. |\n",
       "\n",
       "Please ship to our warehouse at your earliest convenience.\n",
       "\n",
       "Sincerely,\n",
       "\n",
       "Pumbaa\\\n",
       "Purchase Manager\\\n",
       "Northwind Traders\\\n",
       "&nbsp;\\\n",
       "&nbsp;\\\n",
       "&nbsp;\n",
       "\n",
       "\n",
       "----\n",
       "\n",
       "> __Northwind Traders__\\\n",
       "1234 NW Market Street\\\n",
       "Seattle, WA 98107\\\n",
       "USA\n",
       "\n",
       "&nbsp;\\\n",
       "&nbsp;\\\n",
       "&nbsp;\\\n",
       "__Gai pâturage__\\\n",
       "Bat. B\r\n",
       "3, rue des Alpes\\\n",
       "Annecy None 74000\\\n",
       "France\n",
       "\n",
       "# Order\n",
       "\n",
       "Dear Eliane Noz,\n",
       "\n",
       "We would like to place an order for the following items:\n",
       "\n",
       "| Units | Product Name | Quantity per Unit |\n",
       "|------:|:-------------|:------------------|\n",
       "| 54 | Camembert Pierrot | 15 - 300 g rounds |\n",
       "\n",
       "Please ship to our warehouse at your earliest convenience.\n",
       "\n",
       "Sincerely,\n",
       "\n",
       "Pumbaa\\\n",
       "Purchase Manager\\\n",
       "Northwind Traders\\\n",
       "&nbsp;\\\n",
       "&nbsp;\\\n",
       "&nbsp;\n"
      ],
      "text/plain": [
       "<IPython.core.display.Markdown object>"
      ]
     },
     "execution_count": 254,
     "metadata": {},
     "output_type": "execute_result"
    }
   ],
   "source": [
    "from IPython.display import display, Markdown, Latex\n",
    "import json\n",
    "Markdown(\n",
    "  '\\n\\n----\\n'.join(\n",
    "    [\n",
    "f'''\n",
    "> __Northwind Traders__\\\\\n",
    "1234 NW Market Street\\\\\n",
    "Seattle, WA 98107\\\\\n",
    "USA\n",
    "\n",
    "&nbsp;\\\\\n",
    "&nbsp;\\\\\n",
    "&nbsp;\\\\\n",
    "__{ order['supplier']['name'] }__\\\\\n",
    "{ order['supplier']['address'] }\\\\\n",
    "{ order['supplier']['city'] } { order['supplier']['region'] } { order['supplier']['postal_code'] }\\\\\n",
    "{ order['supplier']['country'] }\n",
    "\n",
    "# Order\n",
    "\n",
    "Dear { order['supplier']['contact']['name'] },\n",
    "\n",
    "We would like to place an order for the following items:\n",
    "\n",
    "| Units | Product Name | Quantity per Unit |\n",
    "|------:|:-------------|:------------------|\n",
    "{\n",
    "  chr(13).join([\n",
    "    f\"| {product['units']} | {product['name']} | {product['qpu']} |\"\n",
    "    for product in order['products']\n",
    "  ])\n",
    "}\n",
    "\n",
    "Please ship to our warehouse at your earliest convenience.\n",
    "\n",
    "Sincerely,\n",
    "\n",
    "Pumbaa\\\\\n",
    "Purchase Manager\\\\\n",
    "Northwind Traders\\\\\n",
    "&nbsp;\\\\\n",
    "&nbsp;\\\\\n",
    "&nbsp;\n",
    "'''\n",
    "      for order in json.loads(supplier_orders[0][0])\n",
    "    ]\n",
    "  )\n",
    ")"
   ]
  },
  {
   "cell_type": "markdown",
   "metadata": {},
   "source": [
    "## Summary\n",
    "Using Jupyter notebooks with the `ipython-sql` extension is a useful method to prototype SQL database logic and allows to integrate post-procession right away :-)"
   ]
  }
 ],
 "metadata": {
  "kernelspec": {
   "display_name": "base",
   "language": "python",
   "name": "python3"
  },
  "language_info": {
   "codemirror_mode": {
    "name": "ipython",
    "version": 3
   },
   "file_extension": ".py",
   "mimetype": "text/x-python",
   "name": "python",
   "nbconvert_exporter": "python",
   "pygments_lexer": "ipython3",
   "version": "3.11.7"
  }
 },
 "nbformat": 4,
 "nbformat_minor": 2
}
