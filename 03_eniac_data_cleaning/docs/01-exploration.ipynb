{
 "cells": [
  {
   "cell_type": "markdown",
   "id": "7e984b5a-dbbf-4b82-8c70-2cab91d096ad",
   "metadata": {},
   "source": [
    "# Chapter 3: Eniac Data Cleaning (Exploration and Cleaning)"
   ]
  },
  {
   "cell_type": "code",
   "execution_count": 1,
   "id": "5accdb57-4181-44fc-93a5-97bb91dab177",
   "metadata": {},
   "outputs": [],
   "source": [
    "import os\n",
    "import re\n",
    "import math\n",
    "import pandas as pd\n",
    "import numpy as np"
   ]
  },
  {
   "cell_type": "markdown",
   "id": "0450efdd-3880-4a1a-8371-b64233d07076",
   "metadata": {},
   "source": [
    "## Import"
   ]
  },
  {
   "cell_type": "code",
   "execution_count": 2,
   "id": "cfd1e067-ba2d-4f29-a8aa-977ce1156804",
   "metadata": {
    "tags": []
   },
   "outputs": [],
   "source": [
    "os.chdir(os.path.join('..', 'data'))"
   ]
  },
  {
   "cell_type": "code",
   "execution_count": 3,
   "id": "5027db49",
   "metadata": {},
   "outputs": [
    {
     "data": {
      "text/plain": [
       "['brands.csv',\n",
       " 'orderlines.csv',\n",
       " 'orderlines_cl.csv',\n",
       " 'orders.csv',\n",
       " 'orders_cl.csv',\n",
       " 'products.csv',\n",
       " 'products_cl.csv',\n",
       " 'type_to_name.csv',\n",
       " 'type_to_name_empty.csv']"
      ]
     },
     "execution_count": 3,
     "metadata": {},
     "output_type": "execute_result"
    }
   ],
   "source": [
    "tables_csv = [ csv for csv in os.listdir() if csv.endswith('.csv') ]\n",
    "tables_csv"
   ]
  },
  {
   "cell_type": "code",
   "execution_count": 4,
   "id": "1110d68e-fffc-4987-a11a-bb2c961ae3d5",
   "metadata": {
    "tags": []
   },
   "outputs": [
    {
     "name": "stdout",
     "output_type": "stream",
     "text": [
      "Reading brands.csv into brands and brands_orig\n",
      "Reading orderlines.csv into orderlines and orderlines_orig\n",
      "Reading orderlines_cl.csv into orderlines_cl and orderlines_cl_orig\n",
      "Reading orders.csv into orders and orders_orig\n",
      "Reading orders_cl.csv into orders_cl and orders_cl_orig\n",
      "Reading products.csv into products and products_orig\n",
      "Reading products_cl.csv into products_cl and products_cl_orig\n",
      "Reading type_to_name.csv into type_to_name and type_to_name_orig\n",
      "Reading type_to_name_empty.csv into type_to_name_empty and type_to_name_empty_orig\n"
     ]
    }
   ],
   "source": [
    "tables = {}\n",
    "for table_csv in tables_csv:\n",
    "    varname = table_csv.removesuffix('.csv')\n",
    "    print(f'Reading {table_csv} into {varname} and {varname}_orig')\n",
    "    tables[varname] = pd.read_csv(table_csv)\n",
    "    tables[f'{varname}_orig'] = tables[varname].copy()\n",
    "\n",
    "locals().update(tables)"
   ]
  },
  {
   "cell_type": "markdown",
   "id": "02d29d0f-d277-4ce6-b9b0-92a28fc44c24",
   "metadata": {},
   "source": [
    "## Config"
   ]
  },
  {
   "cell_type": "code",
   "execution_count": 5,
   "id": "a2b7bc45-0e83-4c4b-84e6-05dae851951e",
   "metadata": {
    "tags": []
   },
   "outputs": [],
   "source": [
    "pd.set_option('display.max_rows', 500)\n",
    "pd.set_option('display.float_format', lambda x: f'{x:.2f}')"
   ]
  },
  {
   "cell_type": "markdown",
   "id": "f3d09af1-1da9-4700-a8e0-faf0bad242ac",
   "metadata": {
    "tags": []
   },
   "source": [
    "## Tools"
   ]
  },
  {
   "cell_type": "markdown",
   "id": "2d6b3258-9e99-4a94-bb11-9349f3ddcfc7",
   "metadata": {},
   "source": [
    "### Range of confidence (outlier detection)"
   ]
  },
  {
   "cell_type": "code",
   "execution_count": 6,
   "id": "f8a3a1be-1c27-407a-8232-09296008442e",
   "metadata": {
    "tags": []
   },
   "outputs": [],
   "source": [
    "DEFAULT_IQR_FACTOR = 1.5\n",
    "\n",
    "def range_of_confidence(series: pd.Series, iqr_factor = DEFAULT_IQR_FACTOR) -> pd.Series:\n",
    "  '''\n",
    "  Get series.describe() and add 'left'/'right' as confidence limits\n",
    "  '''\n",
    "  result = series.describe()\n",
    "  q3 = result['75%']\n",
    "  q1 = result['25%']\n",
    "  iqr = q3 - q1\n",
    "  result['iqr'] = iqr\n",
    "  result['left'] = q1 - iqr_factor * iqr\n",
    "  result['right'] = q3 + iqr_factor * iqr\n",
    "  return result\n",
    "\n",
    "def isin_range_of_confidence(series: pd.Series, iqr_factor = DEFAULT_IQR_FACTOR):\n",
    "  roc = range_of_confidence(series, iqr_factor)\n",
    "  return series.between(roc['left'], roc['right'])\n"
   ]
  },
  {
   "cell_type": "markdown",
   "id": "bdac00f0-78fb-4745-b1ad-f05044f88eb7",
   "metadata": {},
   "source": [
    "### Value counts and proportion"
   ]
  },
  {
   "cell_type": "code",
   "execution_count": 7,
   "id": "e8464d7a-12f7-4145-81e2-0da4c0086466",
   "metadata": {
    "tags": []
   },
   "outputs": [],
   "source": [
    "def value_counts_and_proportion(df):\n",
    "    return (\n",
    "        df.value_counts()\n",
    "        .reset_index()\n",
    "        .assign(proportion=lambda x: x['count'] / x['count'].sum())\n",
    "    )\n"
   ]
  },
  {
   "cell_type": "markdown",
   "id": "77155076-752e-4db1-a1b3-51e87772993a",
   "metadata": {
    "tags": []
   },
   "source": [
    "## Brands"
   ]
  },
  {
   "cell_type": "code",
   "execution_count": 8,
   "id": "a662a2a5-0fd0-4e23-ab53-0ef876baf5de",
   "metadata": {
    "tags": []
   },
   "outputs": [
    {
     "name": "stdout",
     "output_type": "stream",
     "text": [
      "<class 'pandas.core.frame.DataFrame'>\n",
      "RangeIndex: 187 entries, 0 to 186\n",
      "Data columns (total 2 columns):\n",
      " #   Column  Non-Null Count  Dtype \n",
      "---  ------  --------------  ----- \n",
      " 0   short   187 non-null    object\n",
      " 1   long    187 non-null    object\n",
      "dtypes: object(2)\n",
      "memory usage: 3.1+ KB\n"
     ]
    }
   ],
   "source": [
    "brands.info()"
   ]
  },
  {
   "cell_type": "markdown",
   "id": "ced0247a-269a-4318-aa66-0cbe0c48f541",
   "metadata": {},
   "source": [
    "> Seems ok"
   ]
  },
  {
   "cell_type": "code",
   "execution_count": 9,
   "id": "5f823a00-dd92-42b0-a79a-31404182c5b3",
   "metadata": {
    "tags": []
   },
   "outputs": [
    {
     "data": {
      "text/html": [
       "<div>\n",
       "<style scoped>\n",
       "    .dataframe tbody tr th:only-of-type {\n",
       "        vertical-align: middle;\n",
       "    }\n",
       "\n",
       "    .dataframe tbody tr th {\n",
       "        vertical-align: top;\n",
       "    }\n",
       "\n",
       "    .dataframe thead th {\n",
       "        text-align: right;\n",
       "    }\n",
       "</style>\n",
       "<table border=\"1\" class=\"dataframe\">\n",
       "  <thead>\n",
       "    <tr style=\"text-align: right;\">\n",
       "      <th></th>\n",
       "      <th>short</th>\n",
       "      <th>long</th>\n",
       "    </tr>\n",
       "  </thead>\n",
       "  <tbody>\n",
       "    <tr>\n",
       "      <th>count</th>\n",
       "      <td>187</td>\n",
       "      <td>187</td>\n",
       "    </tr>\n",
       "    <tr>\n",
       "      <th>unique</th>\n",
       "      <td>187</td>\n",
       "      <td>181</td>\n",
       "    </tr>\n",
       "    <tr>\n",
       "      <th>top</th>\n",
       "      <td>8MO</td>\n",
       "      <td>Mophie</td>\n",
       "    </tr>\n",
       "    <tr>\n",
       "      <th>freq</th>\n",
       "      <td>1</td>\n",
       "      <td>2</td>\n",
       "    </tr>\n",
       "  </tbody>\n",
       "</table>\n",
       "</div>"
      ],
      "text/plain": [
       "       short    long\n",
       "count    187     187\n",
       "unique   187     181\n",
       "top      8MO  Mophie\n",
       "freq       1       2"
      ]
     },
     "execution_count": 9,
     "metadata": {},
     "output_type": "execute_result"
    }
   ],
   "source": [
    "brands.describe()"
   ]
  },
  {
   "cell_type": "markdown",
   "id": "64437024-19ee-4760-b0e0-9857440e9ba7",
   "metadata": {},
   "source": [
    "> interesting, some non-unique long names, which are they?"
   ]
  },
  {
   "cell_type": "code",
   "execution_count": 10,
   "id": "989d3704-7c68-4def-afc3-b2a231a7e5f7",
   "metadata": {
    "tags": []
   },
   "outputs": [
    {
     "data": {
      "text/html": [
       "<div>\n",
       "<style scoped>\n",
       "    .dataframe tbody tr th:only-of-type {\n",
       "        vertical-align: middle;\n",
       "    }\n",
       "\n",
       "    .dataframe tbody tr th {\n",
       "        vertical-align: top;\n",
       "    }\n",
       "\n",
       "    .dataframe thead th {\n",
       "        text-align: right;\n",
       "    }\n",
       "</style>\n",
       "<table border=\"1\" class=\"dataframe\">\n",
       "  <thead>\n",
       "    <tr style=\"text-align: right;\">\n",
       "      <th></th>\n",
       "      <th>short</th>\n",
       "      <th>long</th>\n",
       "    </tr>\n",
       "  </thead>\n",
       "  <tbody>\n",
       "    <tr>\n",
       "      <th>6</th>\n",
       "      <td>AP2</td>\n",
       "      <td>Apple</td>\n",
       "    </tr>\n",
       "    <tr>\n",
       "      <th>7</th>\n",
       "      <td>APP</td>\n",
       "      <td>Apple</td>\n",
       "    </tr>\n",
       "    <tr>\n",
       "      <th>17</th>\n",
       "      <td>BOS</td>\n",
       "      <td>Bose</td>\n",
       "    </tr>\n",
       "    <tr>\n",
       "      <th>19</th>\n",
       "      <td>CAD</td>\n",
       "      <td>Bose</td>\n",
       "    </tr>\n",
       "    <tr>\n",
       "      <th>67</th>\n",
       "      <td>JYB</td>\n",
       "      <td>Jaybird</td>\n",
       "    </tr>\n",
       "    <tr>\n",
       "      <th>70</th>\n",
       "      <td>KEN</td>\n",
       "      <td>Jaybird</td>\n",
       "    </tr>\n",
       "    <tr>\n",
       "      <th>94</th>\n",
       "      <td>MOP</td>\n",
       "      <td>Mophie</td>\n",
       "    </tr>\n",
       "    <tr>\n",
       "      <th>98</th>\n",
       "      <td>MUJ</td>\n",
       "      <td>Mophie</td>\n",
       "    </tr>\n",
       "    <tr>\n",
       "      <th>117</th>\n",
       "      <td>OTR</td>\n",
       "      <td>Startech</td>\n",
       "    </tr>\n",
       "    <tr>\n",
       "      <th>153</th>\n",
       "      <td>STA</td>\n",
       "      <td>Startech</td>\n",
       "    </tr>\n",
       "    <tr>\n",
       "      <th>37</th>\n",
       "      <td>ENV</td>\n",
       "      <td>Unknown</td>\n",
       "    </tr>\n",
       "    <tr>\n",
       "      <th>80</th>\n",
       "      <td>LIB</td>\n",
       "      <td>Unknown</td>\n",
       "    </tr>\n",
       "  </tbody>\n",
       "</table>\n",
       "</div>"
      ],
      "text/plain": [
       "    short      long\n",
       "6     AP2     Apple\n",
       "7     APP     Apple\n",
       "17    BOS      Bose\n",
       "19    CAD      Bose\n",
       "67    JYB   Jaybird\n",
       "70    KEN   Jaybird\n",
       "94    MOP    Mophie\n",
       "98    MUJ    Mophie\n",
       "117   OTR  Startech\n",
       "153   STA  Startech\n",
       "37    ENV   Unknown\n",
       "80    LIB   Unknown"
      ]
     },
     "execution_count": 10,
     "metadata": {},
     "output_type": "execute_result"
    }
   ],
   "source": [
    "brands[brands.long.duplicated(keep=False)].sort_values(['long','short'])"
   ]
  },
  {
   "cell_type": "markdown",
   "id": "4248b33a-33c2-4373-a601-e1180ab9845c",
   "metadata": {},
   "source": [
    "> Seems, some result from company renames/acquisitions but the **Unknown**s are probably *not* the same companies. Needs disambiguation?"
   ]
  },
  {
   "cell_type": "markdown",
   "id": "103347a4-95d6-4981-8258-c518a1238348",
   "metadata": {},
   "source": [
    "Visually looking at all of `brands.csv` shows that apart from these findings, the table is in general quite sane."
   ]
  },
  {
   "cell_type": "markdown",
   "id": "ba97f83e-d5f6-42a0-b78e-a8b7d625922a",
   "metadata": {},
   "source": [
    "## Orders"
   ]
  },
  {
   "cell_type": "code",
   "execution_count": 11,
   "id": "221c4337-e1d3-4f19-9f36-91a10f7d40d3",
   "metadata": {
    "tags": []
   },
   "outputs": [
    {
     "name": "stdout",
     "output_type": "stream",
     "text": [
      "<class 'pandas.core.frame.DataFrame'>\n",
      "RangeIndex: 226909 entries, 0 to 226908\n",
      "Data columns (total 4 columns):\n",
      " #   Column        Non-Null Count   Dtype  \n",
      "---  ------        --------------   -----  \n",
      " 0   order_id      226909 non-null  int64  \n",
      " 1   created_date  226909 non-null  object \n",
      " 2   total_paid    226904 non-null  float64\n",
      " 3   state         226909 non-null  object \n",
      "dtypes: float64(1), int64(1), object(2)\n",
      "memory usage: 6.9+ MB\n"
     ]
    }
   ],
   "source": [
    "orders.info()"
   ]
  },
  {
   "cell_type": "code",
   "execution_count": 12,
   "id": "3cde6e6d-ba9c-408f-a4e4-4810ee20b493",
   "metadata": {
    "tags": []
   },
   "outputs": [
    {
     "data": {
      "text/html": [
       "<div>\n",
       "<style scoped>\n",
       "    .dataframe tbody tr th:only-of-type {\n",
       "        vertical-align: middle;\n",
       "    }\n",
       "\n",
       "    .dataframe tbody tr th {\n",
       "        vertical-align: top;\n",
       "    }\n",
       "\n",
       "    .dataframe thead th {\n",
       "        text-align: right;\n",
       "    }\n",
       "</style>\n",
       "<table border=\"1\" class=\"dataframe\">\n",
       "  <thead>\n",
       "    <tr style=\"text-align: right;\">\n",
       "      <th></th>\n",
       "      <th>order_id</th>\n",
       "      <th>total_paid</th>\n",
       "    </tr>\n",
       "  </thead>\n",
       "  <tbody>\n",
       "    <tr>\n",
       "      <th>count</th>\n",
       "      <td>226909.00</td>\n",
       "      <td>226904.00</td>\n",
       "    </tr>\n",
       "    <tr>\n",
       "      <th>mean</th>\n",
       "      <td>413296.48</td>\n",
       "      <td>569.23</td>\n",
       "    </tr>\n",
       "    <tr>\n",
       "      <th>std</th>\n",
       "      <td>65919.25</td>\n",
       "      <td>1761.78</td>\n",
       "    </tr>\n",
       "    <tr>\n",
       "      <th>min</th>\n",
       "      <td>241319.00</td>\n",
       "      <td>0.00</td>\n",
       "    </tr>\n",
       "    <tr>\n",
       "      <th>25%</th>\n",
       "      <td>356263.00</td>\n",
       "      <td>34.19</td>\n",
       "    </tr>\n",
       "    <tr>\n",
       "      <th>50%</th>\n",
       "      <td>413040.00</td>\n",
       "      <td>112.99</td>\n",
       "    </tr>\n",
       "    <tr>\n",
       "      <th>75%</th>\n",
       "      <td>470553.00</td>\n",
       "      <td>525.98</td>\n",
       "    </tr>\n",
       "    <tr>\n",
       "      <th>max</th>\n",
       "      <td>527401.00</td>\n",
       "      <td>214747.53</td>\n",
       "    </tr>\n",
       "  </tbody>\n",
       "</table>\n",
       "</div>"
      ],
      "text/plain": [
       "       order_id  total_paid\n",
       "count 226909.00   226904.00\n",
       "mean  413296.48      569.23\n",
       "std    65919.25     1761.78\n",
       "min   241319.00        0.00\n",
       "25%   356263.00       34.19\n",
       "50%   413040.00      112.99\n",
       "75%   470553.00      525.98\n",
       "max   527401.00   214747.53"
      ]
     },
     "execution_count": 12,
     "metadata": {},
     "output_type": "execute_result"
    }
   ],
   "source": [
    "orders.describe()"
   ]
  },
  {
   "cell_type": "markdown",
   "id": "6b38f5b7-8892-4ff1-81cb-3d232b81ddd4",
   "metadata": {},
   "source": [
    "### Fix data-types"
   ]
  },
  {
   "cell_type": "code",
   "execution_count": 13,
   "id": "751f3be7-795d-4cf4-99f7-151c3e8b6678",
   "metadata": {
    "tags": []
   },
   "outputs": [],
   "source": [
    "orders.created_date = pd.to_datetime(orders.created_date)"
   ]
  },
  {
   "cell_type": "code",
   "execution_count": 14,
   "id": "acc95712-32c0-48ea-8a69-2e14a70b3815",
   "metadata": {
    "tags": []
   },
   "outputs": [
    {
     "name": "stdout",
     "output_type": "stream",
     "text": [
      "<class 'pandas.core.frame.DataFrame'>\n",
      "RangeIndex: 226909 entries, 0 to 226908\n",
      "Data columns (total 4 columns):\n",
      " #   Column        Non-Null Count   Dtype         \n",
      "---  ------        --------------   -----         \n",
      " 0   order_id      226909 non-null  int64         \n",
      " 1   created_date  226909 non-null  datetime64[ns]\n",
      " 2   total_paid    226904 non-null  float64       \n",
      " 3   state         226909 non-null  object        \n",
      "dtypes: datetime64[ns](1), float64(1), int64(1), object(1)\n",
      "memory usage: 6.9+ MB\n"
     ]
    }
   ],
   "source": [
    "orders.info()"
   ]
  },
  {
   "cell_type": "markdown",
   "id": "3e407c61-89fc-4566-a921-5a57a2065782",
   "metadata": {
    "tags": []
   },
   "source": [
    "## Orderlines"
   ]
  },
  {
   "cell_type": "code",
   "execution_count": 15,
   "id": "d39ebabe-f697-448a-97df-4649f5121f83",
   "metadata": {},
   "outputs": [
    {
     "name": "stdout",
     "output_type": "stream",
     "text": [
      "<class 'pandas.core.frame.DataFrame'>\n",
      "RangeIndex: 293983 entries, 0 to 293982\n",
      "Data columns (total 7 columns):\n",
      " #   Column            Non-Null Count   Dtype \n",
      "---  ------            --------------   ----- \n",
      " 0   id                293983 non-null  int64 \n",
      " 1   id_order          293983 non-null  int64 \n",
      " 2   product_id        293983 non-null  int64 \n",
      " 3   product_quantity  293983 non-null  int64 \n",
      " 4   sku               293983 non-null  object\n",
      " 5   unit_price        293983 non-null  object\n",
      " 6   date              293983 non-null  object\n",
      "dtypes: int64(4), object(3)\n",
      "memory usage: 15.7+ MB\n"
     ]
    }
   ],
   "source": [
    "orderlines.info()"
   ]
  },
  {
   "cell_type": "markdown",
   "id": "e87f7c6d-12c4-4419-9201-120c3c2275f2",
   "metadata": {},
   "source": [
    "> - No missing data\n",
    "> - `unit_price` is not float -> corruption\n",
    "> - `date` should be converted to dt"
   ]
  },
  {
   "cell_type": "code",
   "execution_count": 16,
   "id": "6523c98f-86fe-4ed8-b174-d07349c97f1c",
   "metadata": {},
   "outputs": [
    {
     "data": {
      "text/plain": [
       "0"
      ]
     },
     "execution_count": 16,
     "metadata": {},
     "output_type": "execute_result"
    }
   ],
   "source": [
    "orderlines.duplicated().sum()"
   ]
  },
  {
   "cell_type": "code",
   "execution_count": 17,
   "id": "dfb3eb47-66a9-4317-a723-03d68bb7dc0c",
   "metadata": {},
   "outputs": [
    {
     "data": {
      "text/plain": [
       "unit_price\n",
       "1   0.88\n",
       "2   0.12\n",
       "Name: proportion, dtype: float64"
      ]
     },
     "execution_count": 17,
     "metadata": {},
     "output_type": "execute_result"
    }
   ],
   "source": [
    "orderlines.unit_price.str.count(r'\\.').value_counts(dropna=False, normalize=True)"
   ]
  },
  {
   "cell_type": "markdown",
   "id": "599e5aec-eeb0-4796-b3ea-89c7f71cc48c",
   "metadata": {},
   "source": [
    "> There are over 12% orderlines with two decimal dots."
   ]
  },
  {
   "cell_type": "code",
   "execution_count": 18,
   "id": "6e2e98a2-db9a-4b31-b248-91589eeee8df",
   "metadata": {},
   "outputs": [
    {
     "data": {
      "text/plain": [
       "36169"
      ]
     },
     "execution_count": 18,
     "metadata": {},
     "output_type": "execute_result"
    }
   ],
   "source": [
    "len(orderlines.query('unit_price.str.count(r\"\\.\") == 2'))"
   ]
  },
  {
   "cell_type": "markdown",
   "id": "37c9560b-620e-4a12-b073-b0121b06fcfe",
   "metadata": {},
   "source": [
    "> The corrupted all match the following pattern:"
   ]
  },
  {
   "cell_type": "code",
   "execution_count": 19,
   "id": "497df9b4-e842-4b2b-9ff9-c42aaa8e7940",
   "metadata": {},
   "outputs": [],
   "source": [
    "BROKEN_ORDERLINES = r'\\d+\\.\\d\\d\\d\\.\\d\\d'"
   ]
  },
  {
   "cell_type": "code",
   "execution_count": 20,
   "id": "09d45725-e71b-41af-9765-edc0f5b41be4",
   "metadata": {
    "tags": []
   },
   "outputs": [
    {
     "data": {
      "text/plain": [
       "36169"
      ]
     },
     "execution_count": 20,
     "metadata": {},
     "output_type": "execute_result"
    }
   ],
   "source": [
    "len(orderlines.query(f\"unit_price.str.fullmatch(r'{BROKEN_ORDERLINES}')\"))"
   ]
  },
  {
   "cell_type": "markdown",
   "id": "0e58b055-a9c0-422b-adbf-5a3534befb6d",
   "metadata": {},
   "source": [
    "### Fix broken `unit_price`"
   ]
  },
  {
   "cell_type": "code",
   "execution_count": 21,
   "id": "54cab6e8-3ff6-4cc9-87d7-24ff991a0cb8",
   "metadata": {},
   "outputs": [
    {
     "data": {
      "text/plain": [
       "0"
      ]
     },
     "execution_count": 21,
     "metadata": {},
     "output_type": "execute_result"
    }
   ],
   "source": [
    "broken_orderlines_mask = orderlines.unit_price.str.fullmatch(BROKEN_ORDERLINES)\n",
    "orderlines.loc[broken_orderlines_mask,'unit_price'] = orderlines[broken_orderlines_mask].unit_price.str.replace('.','',n=1)\n",
    "len(orderlines.query(f\"unit_price.str.fullmatch(r'{BROKEN_ORDERLINES}')\"))"
   ]
  },
  {
   "cell_type": "markdown",
   "id": "1b75ca4c-d43e-48b8-8362-4019f3476364",
   "metadata": {},
   "source": [
    "### Fix data-types"
   ]
  },
  {
   "cell_type": "code",
   "execution_count": 22,
   "id": "f77ea03d-c278-4bd0-b7ec-1e940107aed1",
   "metadata": {},
   "outputs": [],
   "source": [
    "orderlines.unit_price = pd.to_numeric(orderlines.unit_price)"
   ]
  },
  {
   "cell_type": "code",
   "execution_count": 23,
   "id": "de672098-0184-46ee-abf6-3b3f61ebe7fa",
   "metadata": {},
   "outputs": [],
   "source": [
    "orderlines.date = pd.to_datetime(orderlines.date)"
   ]
  },
  {
   "cell_type": "code",
   "execution_count": 24,
   "id": "a2c57b25-0324-4ddd-b450-f928742fb3a8",
   "metadata": {},
   "outputs": [
    {
     "name": "stdout",
     "output_type": "stream",
     "text": [
      "<class 'pandas.core.frame.DataFrame'>\n",
      "RangeIndex: 293983 entries, 0 to 293982\n",
      "Data columns (total 7 columns):\n",
      " #   Column            Non-Null Count   Dtype         \n",
      "---  ------            --------------   -----         \n",
      " 0   id                293983 non-null  int64         \n",
      " 1   id_order          293983 non-null  int64         \n",
      " 2   product_id        293983 non-null  int64         \n",
      " 3   product_quantity  293983 non-null  int64         \n",
      " 4   sku               293983 non-null  object        \n",
      " 5   unit_price        293983 non-null  float64       \n",
      " 6   date              293983 non-null  datetime64[ns]\n",
      "dtypes: datetime64[ns](1), float64(1), int64(4), object(1)\n",
      "memory usage: 15.7+ MB\n"
     ]
    }
   ],
   "source": [
    "orderlines.info()"
   ]
  },
  {
   "cell_type": "markdown",
   "id": "67e73572-27ad-4b24-85f0-775779ce90ca",
   "metadata": {},
   "source": [
    "### There are crazy overshooting prices in some orderlines"
   ]
  },
  {
   "cell_type": "code",
   "execution_count": 25,
   "id": "fb27f5e7-c57b-481f-a905-ffcd1e5d2d20",
   "metadata": {
    "tags": []
   },
   "outputs": [
    {
     "data": {
      "text/html": [
       "<div>\n",
       "<style scoped>\n",
       "    .dataframe tbody tr th:only-of-type {\n",
       "        vertical-align: middle;\n",
       "    }\n",
       "\n",
       "    .dataframe tbody tr th {\n",
       "        vertical-align: top;\n",
       "    }\n",
       "\n",
       "    .dataframe thead tr th {\n",
       "        text-align: left;\n",
       "    }\n",
       "\n",
       "    .dataframe thead tr:last-of-type th {\n",
       "        text-align: right;\n",
       "    }\n",
       "</style>\n",
       "<table border=\"1\" class=\"dataframe\">\n",
       "  <thead>\n",
       "    <tr>\n",
       "      <th></th>\n",
       "      <th colspan=\"4\" halign=\"left\">unit_price</th>\n",
       "      <th>overshoot</th>\n",
       "    </tr>\n",
       "    <tr>\n",
       "      <th></th>\n",
       "      <th>mean</th>\n",
       "      <th>std</th>\n",
       "      <th>max</th>\n",
       "      <th>q90</th>\n",
       "      <th></th>\n",
       "    </tr>\n",
       "    <tr>\n",
       "      <th>sku</th>\n",
       "      <th></th>\n",
       "      <th></th>\n",
       "      <th></th>\n",
       "      <th></th>\n",
       "      <th></th>\n",
       "    </tr>\n",
       "  </thead>\n",
       "  <tbody>\n",
       "    <tr>\n",
       "      <th>NEA0009</th>\n",
       "      <td>479.28</td>\n",
       "      <td>7311.16</td>\n",
       "      <td>159989.83</td>\n",
       "      <td>160.99</td>\n",
       "      <td>993.79</td>\n",
       "    </tr>\n",
       "    <tr>\n",
       "      <th>TUC0280</th>\n",
       "      <td>57.42</td>\n",
       "      <td>297.48</td>\n",
       "      <td>1741.00</td>\n",
       "      <td>6.99</td>\n",
       "      <td>249.07</td>\n",
       "    </tr>\n",
       "    <tr>\n",
       "      <th>SHE0045</th>\n",
       "      <td>17.67</td>\n",
       "      <td>76.35</td>\n",
       "      <td>500.00</td>\n",
       "      <td>6.99</td>\n",
       "      <td>71.53</td>\n",
       "    </tr>\n",
       "    <tr>\n",
       "      <th>SEV0021</th>\n",
       "      <td>134.09</td>\n",
       "      <td>409.66</td>\n",
       "      <td>1967.61</td>\n",
       "      <td>49.99</td>\n",
       "      <td>39.36</td>\n",
       "    </tr>\n",
       "    <tr>\n",
       "      <th>SPE0206</th>\n",
       "      <td>31.91</td>\n",
       "      <td>99.62</td>\n",
       "      <td>810.00</td>\n",
       "      <td>20.99</td>\n",
       "      <td>38.59</td>\n",
       "    </tr>\n",
       "    <tr>\n",
       "      <th>SEV0025</th>\n",
       "      <td>59.81</td>\n",
       "      <td>18.53</td>\n",
       "      <td>474.96</td>\n",
       "      <td>59.99</td>\n",
       "      <td>7.92</td>\n",
       "    </tr>\n",
       "    <tr>\n",
       "      <th>SEV0028</th>\n",
       "      <td>20.67</td>\n",
       "      <td>8.06</td>\n",
       "      <td>108.90</td>\n",
       "      <td>19.99</td>\n",
       "      <td>5.45</td>\n",
       "    </tr>\n",
       "    <tr>\n",
       "      <th>GRT0462</th>\n",
       "      <td>4.59</td>\n",
       "      <td>2.12</td>\n",
       "      <td>22.99</td>\n",
       "      <td>4.99</td>\n",
       "      <td>4.61</td>\n",
       "    </tr>\n",
       "    <tr>\n",
       "      <th>GRT0315</th>\n",
       "      <td>12.85</td>\n",
       "      <td>9.02</td>\n",
       "      <td>39.99</td>\n",
       "      <td>9.99</td>\n",
       "      <td>4.00</td>\n",
       "    </tr>\n",
       "    <tr>\n",
       "      <th>MOP0107</th>\n",
       "      <td>7.64</td>\n",
       "      <td>3.20</td>\n",
       "      <td>26.99</td>\n",
       "      <td>7.99</td>\n",
       "      <td>3.38</td>\n",
       "    </tr>\n",
       "    <tr>\n",
       "      <th>MOP0109</th>\n",
       "      <td>7.64</td>\n",
       "      <td>3.22</td>\n",
       "      <td>26.99</td>\n",
       "      <td>7.99</td>\n",
       "      <td>3.38</td>\n",
       "    </tr>\n",
       "    <tr>\n",
       "      <th>GRT0459</th>\n",
       "      <td>5.47</td>\n",
       "      <td>2.88</td>\n",
       "      <td>25.99</td>\n",
       "      <td>7.99</td>\n",
       "      <td>3.25</td>\n",
       "    </tr>\n",
       "    <tr>\n",
       "      <th>ZAG0037</th>\n",
       "      <td>10.10</td>\n",
       "      <td>3.59</td>\n",
       "      <td>29.99</td>\n",
       "      <td>9.99</td>\n",
       "      <td>3.00</td>\n",
       "    </tr>\n",
       "    <tr>\n",
       "      <th>JMO0068</th>\n",
       "      <td>13.30</td>\n",
       "      <td>7.36</td>\n",
       "      <td>37.84</td>\n",
       "      <td>14.99</td>\n",
       "      <td>2.52</td>\n",
       "    </tr>\n",
       "    <tr>\n",
       "      <th>ZAG0030</th>\n",
       "      <td>20.58</td>\n",
       "      <td>3.69</td>\n",
       "      <td>49.99</td>\n",
       "      <td>21.24</td>\n",
       "      <td>2.35</td>\n",
       "    </tr>\n",
       "    <tr>\n",
       "      <th>GRT0464</th>\n",
       "      <td>5.56</td>\n",
       "      <td>3.02</td>\n",
       "      <td>22.99</td>\n",
       "      <td>9.99</td>\n",
       "      <td>2.30</td>\n",
       "    </tr>\n",
       "    <tr>\n",
       "      <th>ZAG0024</th>\n",
       "      <td>34.60</td>\n",
       "      <td>12.80</td>\n",
       "      <td>79.99</td>\n",
       "      <td>34.99</td>\n",
       "      <td>2.29</td>\n",
       "    </tr>\n",
       "    <tr>\n",
       "      <th>BEL0303</th>\n",
       "      <td>24.17</td>\n",
       "      <td>4.65</td>\n",
       "      <td>49.99</td>\n",
       "      <td>22.99</td>\n",
       "      <td>2.17</td>\n",
       "    </tr>\n",
       "    <tr>\n",
       "      <th>JAW0040</th>\n",
       "      <td>58.41</td>\n",
       "      <td>24.56</td>\n",
       "      <td>139.99</td>\n",
       "      <td>66.66</td>\n",
       "      <td>2.10</td>\n",
       "    </tr>\n",
       "    <tr>\n",
       "      <th>BEL0189</th>\n",
       "      <td>34.85</td>\n",
       "      <td>9.28</td>\n",
       "      <td>79.99</td>\n",
       "      <td>39.99</td>\n",
       "      <td>2.00</td>\n",
       "    </tr>\n",
       "  </tbody>\n",
       "</table>\n",
       "</div>"
      ],
      "text/plain": [
       "        unit_price                          overshoot\n",
       "              mean     std       max    q90          \n",
       "sku                                                  \n",
       "NEA0009     479.28 7311.16 159989.83 160.99    993.79\n",
       "TUC0280      57.42  297.48   1741.00   6.99    249.07\n",
       "SHE0045      17.67   76.35    500.00   6.99     71.53\n",
       "SEV0021     134.09  409.66   1967.61  49.99     39.36\n",
       "SPE0206      31.91   99.62    810.00  20.99     38.59\n",
       "SEV0025      59.81   18.53    474.96  59.99      7.92\n",
       "SEV0028      20.67    8.06    108.90  19.99      5.45\n",
       "GRT0462       4.59    2.12     22.99   4.99      4.61\n",
       "GRT0315      12.85    9.02     39.99   9.99      4.00\n",
       "MOP0107       7.64    3.20     26.99   7.99      3.38\n",
       "MOP0109       7.64    3.22     26.99   7.99      3.38\n",
       "GRT0459       5.47    2.88     25.99   7.99      3.25\n",
       "ZAG0037      10.10    3.59     29.99   9.99      3.00\n",
       "JMO0068      13.30    7.36     37.84  14.99      2.52\n",
       "ZAG0030      20.58    3.69     49.99  21.24      2.35\n",
       "GRT0464       5.56    3.02     22.99   9.99      2.30\n",
       "ZAG0024      34.60   12.80     79.99  34.99      2.29\n",
       "BEL0303      24.17    4.65     49.99  22.99      2.17\n",
       "JAW0040      58.41   24.56    139.99  66.66      2.10\n",
       "BEL0189      34.85    9.28     79.99  39.99      2.00"
      ]
     },
     "execution_count": 25,
     "metadata": {},
     "output_type": "execute_result"
    }
   ],
   "source": [
    "(\n",
    "    orderlines\n",
    "    .groupby('sku')\n",
    "    .agg({'unit_price':['mean','std','max', ('q90', lambda x: x.quantile(.9))]})\n",
    "    .assign(overshoot = lambda x: x['unit_price','max']/x['unit_price','q90'])\n",
    "    [lambda x: x.overshoot > 2]\n",
    "    .sort_values('overshoot', ascending=False)\n",
    ")"
   ]
  },
  {
   "cell_type": "code",
   "execution_count": 26,
   "id": "e57b6b43-67b2-4382-a428-056b5fd84a3d",
   "metadata": {
    "tags": []
   },
   "outputs": [],
   "source": [
    "def orders_sku(sku):\n",
    "    return (\n",
    "        orderlines.query(f'sku == \"{sku}\"')\n",
    "        .sort_values(by='unit_price', ascending=False)\n",
    "        .join(products.set_index('sku'), on='sku')\n",
    "        .join(orders.set_index('order_id'), on='id_order')\n",
    "        [['product_quantity', 'sku', 'unit_price', 'name', 'price', 'promo_price', 'total_paid', 'state']]\n",
    "    )"
   ]
  },
  {
   "cell_type": "code",
   "execution_count": 27,
   "id": "0566d328-6aa7-4da1-8fe8-daf8da9be21e",
   "metadata": {
    "tags": []
   },
   "outputs": [
    {
     "data": {
      "text/html": [
       "<div>\n",
       "<style scoped>\n",
       "    .dataframe tbody tr th:only-of-type {\n",
       "        vertical-align: middle;\n",
       "    }\n",
       "\n",
       "    .dataframe tbody tr th {\n",
       "        vertical-align: top;\n",
       "    }\n",
       "\n",
       "    .dataframe thead th {\n",
       "        text-align: right;\n",
       "    }\n",
       "</style>\n",
       "<table border=\"1\" class=\"dataframe\">\n",
       "  <thead>\n",
       "    <tr style=\"text-align: right;\">\n",
       "      <th></th>\n",
       "      <th>product_quantity</th>\n",
       "      <th>sku</th>\n",
       "      <th>unit_price</th>\n",
       "      <th>name</th>\n",
       "      <th>price</th>\n",
       "      <th>promo_price</th>\n",
       "      <th>total_paid</th>\n",
       "      <th>state</th>\n",
       "    </tr>\n",
       "  </thead>\n",
       "  <tbody>\n",
       "    <tr>\n",
       "      <th>36979</th>\n",
       "      <td>1</td>\n",
       "      <td>NEA0009</td>\n",
       "      <td>159989.83</td>\n",
       "      <td>Netatmo home thermostat for iPhone and iPad</td>\n",
       "      <td>179</td>\n",
       "      <td>174.989</td>\n",
       "      <td>159989.83</td>\n",
       "      <td>Shopping Basket</td>\n",
       "    </tr>\n",
       "    <tr>\n",
       "      <th>282103</th>\n",
       "      <td>1</td>\n",
       "      <td>NEA0009</td>\n",
       "      <td>174.99</td>\n",
       "      <td>Netatmo home thermostat for iPhone and iPad</td>\n",
       "      <td>179</td>\n",
       "      <td>174.989</td>\n",
       "      <td>174.99</td>\n",
       "      <td>Place Order</td>\n",
       "    </tr>\n",
       "    <tr>\n",
       "      <th>286913</th>\n",
       "      <td>1</td>\n",
       "      <td>NEA0009</td>\n",
       "      <td>174.99</td>\n",
       "      <td>Netatmo home thermostat for iPhone and iPad</td>\n",
       "      <td>179</td>\n",
       "      <td>174.989</td>\n",
       "      <td>174.99</td>\n",
       "      <td>Shopping Basket</td>\n",
       "    </tr>\n",
       "    <tr>\n",
       "      <th>287852</th>\n",
       "      <td>1</td>\n",
       "      <td>NEA0009</td>\n",
       "      <td>174.99</td>\n",
       "      <td>Netatmo home thermostat for iPhone and iPad</td>\n",
       "      <td>179</td>\n",
       "      <td>174.989</td>\n",
       "      <td>174.99</td>\n",
       "      <td>Shopping Basket</td>\n",
       "    </tr>\n",
       "    <tr>\n",
       "      <th>1925</th>\n",
       "      <td>1</td>\n",
       "      <td>NEA0009</td>\n",
       "      <td>169.99</td>\n",
       "      <td>Netatmo home thermostat for iPhone and iPad</td>\n",
       "      <td>179</td>\n",
       "      <td>174.989</td>\n",
       "      <td>237.97</td>\n",
       "      <td>Completed</td>\n",
       "    </tr>\n",
       "    <tr>\n",
       "      <th>24011</th>\n",
       "      <td>1</td>\n",
       "      <td>NEA0009</td>\n",
       "      <td>169.99</td>\n",
       "      <td>Netatmo home thermostat for iPhone and iPad</td>\n",
       "      <td>179</td>\n",
       "      <td>174.989</td>\n",
       "      <td>169.99</td>\n",
       "      <td>Place Order</td>\n",
       "    </tr>\n",
       "    <tr>\n",
       "      <th>25468</th>\n",
       "      <td>1</td>\n",
       "      <td>NEA0009</td>\n",
       "      <td>169.99</td>\n",
       "      <td>Netatmo home thermostat for iPhone and iPad</td>\n",
       "      <td>179</td>\n",
       "      <td>174.989</td>\n",
       "      <td>169.99</td>\n",
       "      <td>Shopping Basket</td>\n",
       "    </tr>\n",
       "    <tr>\n",
       "      <th>25472</th>\n",
       "      <td>1</td>\n",
       "      <td>NEA0009</td>\n",
       "      <td>169.99</td>\n",
       "      <td>Netatmo home thermostat for iPhone and iPad</td>\n",
       "      <td>179</td>\n",
       "      <td>174.989</td>\n",
       "      <td>174.98</td>\n",
       "      <td>Completed</td>\n",
       "    </tr>\n",
       "    <tr>\n",
       "      <th>28031</th>\n",
       "      <td>1</td>\n",
       "      <td>NEA0009</td>\n",
       "      <td>169.99</td>\n",
       "      <td>Netatmo home thermostat for iPhone and iPad</td>\n",
       "      <td>179</td>\n",
       "      <td>174.989</td>\n",
       "      <td>169.99</td>\n",
       "      <td>Shopping Basket</td>\n",
       "    </tr>\n",
       "    <tr>\n",
       "      <th>31278</th>\n",
       "      <td>1</td>\n",
       "      <td>NEA0009</td>\n",
       "      <td>169.99</td>\n",
       "      <td>Netatmo home thermostat for iPhone and iPad</td>\n",
       "      <td>179</td>\n",
       "      <td>174.989</td>\n",
       "      <td>169.99</td>\n",
       "      <td>Shopping Basket</td>\n",
       "    </tr>\n",
       "  </tbody>\n",
       "</table>\n",
       "</div>"
      ],
      "text/plain": [
       "        product_quantity      sku  unit_price  \\\n",
       "36979                  1  NEA0009   159989.83   \n",
       "282103                 1  NEA0009      174.99   \n",
       "286913                 1  NEA0009      174.99   \n",
       "287852                 1  NEA0009      174.99   \n",
       "1925                   1  NEA0009      169.99   \n",
       "24011                  1  NEA0009      169.99   \n",
       "25468                  1  NEA0009      169.99   \n",
       "25472                  1  NEA0009      169.99   \n",
       "28031                  1  NEA0009      169.99   \n",
       "31278                  1  NEA0009      169.99   \n",
       "\n",
       "                                               name price promo_price  \\\n",
       "36979   Netatmo home thermostat for iPhone and iPad   179     174.989   \n",
       "282103  Netatmo home thermostat for iPhone and iPad   179     174.989   \n",
       "286913  Netatmo home thermostat for iPhone and iPad   179     174.989   \n",
       "287852  Netatmo home thermostat for iPhone and iPad   179     174.989   \n",
       "1925    Netatmo home thermostat for iPhone and iPad   179     174.989   \n",
       "24011   Netatmo home thermostat for iPhone and iPad   179     174.989   \n",
       "25468   Netatmo home thermostat for iPhone and iPad   179     174.989   \n",
       "25472   Netatmo home thermostat for iPhone and iPad   179     174.989   \n",
       "28031   Netatmo home thermostat for iPhone and iPad   179     174.989   \n",
       "31278   Netatmo home thermostat for iPhone and iPad   179     174.989   \n",
       "\n",
       "        total_paid            state  \n",
       "36979    159989.83  Shopping Basket  \n",
       "282103      174.99      Place Order  \n",
       "286913      174.99  Shopping Basket  \n",
       "287852      174.99  Shopping Basket  \n",
       "1925        237.97        Completed  \n",
       "24011       169.99      Place Order  \n",
       "25468       169.99  Shopping Basket  \n",
       "25472       174.98        Completed  \n",
       "28031       169.99  Shopping Basket  \n",
       "31278       169.99  Shopping Basket  "
      ]
     },
     "execution_count": 27,
     "metadata": {},
     "output_type": "execute_result"
    }
   ],
   "source": [
    "orders_sku('NEA0009').head(10)"
   ]
  },
  {
   "cell_type": "markdown",
   "id": "3b7d39ce-c330-4bb4-bb81-5f5c19938f30",
   "metadata": {},
   "source": [
    "### There are orderlines without order"
   ]
  },
  {
   "cell_type": "code",
   "execution_count": 28,
   "id": "bf79b894-a6c2-4040-bb46-9bffb925ca98",
   "metadata": {
    "tags": []
   },
   "outputs": [
    {
     "data": {
      "text/html": [
       "<div>\n",
       "<style scoped>\n",
       "    .dataframe tbody tr th:only-of-type {\n",
       "        vertical-align: middle;\n",
       "    }\n",
       "\n",
       "    .dataframe tbody tr th {\n",
       "        vertical-align: top;\n",
       "    }\n",
       "\n",
       "    .dataframe thead th {\n",
       "        text-align: right;\n",
       "    }\n",
       "</style>\n",
       "<table border=\"1\" class=\"dataframe\">\n",
       "  <thead>\n",
       "    <tr style=\"text-align: right;\">\n",
       "      <th></th>\n",
       "      <th>id_order</th>\n",
       "      <th>count</th>\n",
       "      <th>proportion</th>\n",
       "    </tr>\n",
       "  </thead>\n",
       "  <tbody>\n",
       "    <tr>\n",
       "      <th>0</th>\n",
       "      <td>True</td>\n",
       "      <td>293749</td>\n",
       "      <td>1.00</td>\n",
       "    </tr>\n",
       "    <tr>\n",
       "      <th>1</th>\n",
       "      <td>False</td>\n",
       "      <td>234</td>\n",
       "      <td>0.00</td>\n",
       "    </tr>\n",
       "  </tbody>\n",
       "</table>\n",
       "</div>"
      ],
      "text/plain": [
       "   id_order   count  proportion\n",
       "0      True  293749        1.00\n",
       "1     False     234        0.00"
      ]
     },
     "execution_count": 28,
     "metadata": {},
     "output_type": "execute_result"
    }
   ],
   "source": [
    "value_counts_and_proportion(orderlines.id_order.isin(set(orders.order_id)))"
   ]
  },
  {
   "cell_type": "markdown",
   "id": "e9976a2b-e784-4b99-aea3-4162f968d8b2",
   "metadata": {},
   "source": [
    "### There are orders without orderlines"
   ]
  },
  {
   "cell_type": "code",
   "execution_count": 29,
   "id": "68894d87-8d57-47db-b5cc-5f758131fdc8",
   "metadata": {
    "tags": []
   },
   "outputs": [
    {
     "data": {
      "text/html": [
       "<div>\n",
       "<style scoped>\n",
       "    .dataframe tbody tr th:only-of-type {\n",
       "        vertical-align: middle;\n",
       "    }\n",
       "\n",
       "    .dataframe tbody tr th {\n",
       "        vertical-align: top;\n",
       "    }\n",
       "\n",
       "    .dataframe thead th {\n",
       "        text-align: right;\n",
       "    }\n",
       "</style>\n",
       "<table border=\"1\" class=\"dataframe\">\n",
       "  <thead>\n",
       "    <tr style=\"text-align: right;\">\n",
       "      <th></th>\n",
       "      <th>order_id</th>\n",
       "      <th>count</th>\n",
       "      <th>proportion</th>\n",
       "    </tr>\n",
       "  </thead>\n",
       "  <tbody>\n",
       "    <tr>\n",
       "      <th>0</th>\n",
       "      <td>True</td>\n",
       "      <td>204696</td>\n",
       "      <td>0.90</td>\n",
       "    </tr>\n",
       "    <tr>\n",
       "      <th>1</th>\n",
       "      <td>False</td>\n",
       "      <td>22213</td>\n",
       "      <td>0.10</td>\n",
       "    </tr>\n",
       "  </tbody>\n",
       "</table>\n",
       "</div>"
      ],
      "text/plain": [
       "   order_id   count  proportion\n",
       "0      True  204696        0.90\n",
       "1     False   22213        0.10"
      ]
     },
     "execution_count": 29,
     "metadata": {},
     "output_type": "execute_result"
    }
   ],
   "source": [
    "value_counts_and_proportion(orders.order_id.isin(set(orderlines.id_order)))"
   ]
  },
  {
   "cell_type": "markdown",
   "id": "f54a3358-890b-45f4-b8aa-ad636b83a2d0",
   "metadata": {
    "tags": []
   },
   "source": [
    "## Orders, Orderlines: States"
   ]
  },
  {
   "cell_type": "code",
   "execution_count": 30,
   "id": "7167f112-5a86-46da-b20c-cbb33b113825",
   "metadata": {
    "tags": []
   },
   "outputs": [
    {
     "data": {
      "text/html": [
       "<div>\n",
       "<style scoped>\n",
       "    .dataframe tbody tr th:only-of-type {\n",
       "        vertical-align: middle;\n",
       "    }\n",
       "\n",
       "    .dataframe tbody tr th {\n",
       "        vertical-align: top;\n",
       "    }\n",
       "\n",
       "    .dataframe thead th {\n",
       "        text-align: right;\n",
       "    }\n",
       "</style>\n",
       "<table border=\"1\" class=\"dataframe\">\n",
       "  <thead>\n",
       "    <tr style=\"text-align: right;\">\n",
       "      <th></th>\n",
       "      <th>state</th>\n",
       "      <th>count</th>\n",
       "      <th>proportion</th>\n",
       "    </tr>\n",
       "  </thead>\n",
       "  <tbody>\n",
       "    <tr>\n",
       "      <th>0</th>\n",
       "      <td>Shopping Basket</td>\n",
       "      <td>117809</td>\n",
       "      <td>0.52</td>\n",
       "    </tr>\n",
       "    <tr>\n",
       "      <th>1</th>\n",
       "      <td>Completed</td>\n",
       "      <td>46605</td>\n",
       "      <td>0.21</td>\n",
       "    </tr>\n",
       "    <tr>\n",
       "      <th>2</th>\n",
       "      <td>Place Order</td>\n",
       "      <td>40883</td>\n",
       "      <td>0.18</td>\n",
       "    </tr>\n",
       "    <tr>\n",
       "      <th>3</th>\n",
       "      <td>Pending</td>\n",
       "      <td>14379</td>\n",
       "      <td>0.06</td>\n",
       "    </tr>\n",
       "    <tr>\n",
       "      <th>4</th>\n",
       "      <td>Cancelled</td>\n",
       "      <td>7233</td>\n",
       "      <td>0.03</td>\n",
       "    </tr>\n",
       "  </tbody>\n",
       "</table>\n",
       "</div>"
      ],
      "text/plain": [
       "             state   count  proportion\n",
       "0  Shopping Basket  117809        0.52\n",
       "1        Completed   46605        0.21\n",
       "2      Place Order   40883        0.18\n",
       "3          Pending   14379        0.06\n",
       "4        Cancelled    7233        0.03"
      ]
     },
     "execution_count": 30,
     "metadata": {},
     "output_type": "execute_result"
    }
   ],
   "source": [
    "value_counts_and_proportion(orders.state)"
   ]
  },
  {
   "cell_type": "markdown",
   "id": "e53a3b59-97a1-4d21-93f3-e6bb0d947898",
   "metadata": {},
   "source": [
    "> - only a small fraction is completed, focus on those"
   ]
  },
  {
   "cell_type": "code",
   "execution_count": 31,
   "id": "a7fac359-48db-4186-9be8-1cb4b8c7f888",
   "metadata": {
    "tags": []
   },
   "outputs": [],
   "source": [
    "# drop irrelevant orders\n",
    "orders = orders[orders.state == 'Completed']\n",
    "# also drop empty orders\n",
    "orders = orders[orders.order_id.isin(orderlines.id_order)]\n",
    "# keep only orderlines for those\n",
    "orderlines = orderlines[orderlines.id_order.isin(orders.order_id)]"
   ]
  },
  {
   "cell_type": "markdown",
   "id": "c100aab5-dd9d-422f-9dfa-179b9908d082",
   "metadata": {},
   "source": [
    "### No orderlines without order anymore"
   ]
  },
  {
   "cell_type": "code",
   "execution_count": 32,
   "id": "7c8bdfba-cc6e-4cb1-ac6b-f593d8932cff",
   "metadata": {
    "tags": []
   },
   "outputs": [
    {
     "data": {
      "text/plain": [
       "id_order\n",
       "True    62103\n",
       "Name: count, dtype: int64"
      ]
     },
     "execution_count": 32,
     "metadata": {},
     "output_type": "execute_result"
    }
   ],
   "source": [
    "orderlines.id_order.isin(set(orders.order_id)).value_counts()"
   ]
  },
  {
   "cell_type": "markdown",
   "id": "4fd77e82-48b3-41c9-af45-a26784a8f59c",
   "metadata": {},
   "source": [
    "### No orders without orderlines anymore"
   ]
  },
  {
   "cell_type": "code",
   "execution_count": 33,
   "id": "94dbd881-d4ad-47c7-8f76-c58a79615cda",
   "metadata": {
    "tags": []
   },
   "outputs": [
    {
     "data": {
      "text/plain": [
       "order_id\n",
       "True    46560\n",
       "Name: count, dtype: int64"
      ]
     },
     "execution_count": 33,
     "metadata": {},
     "output_type": "execute_result"
    }
   ],
   "source": [
    "orders.order_id.isin(set(orderlines.id_order)).value_counts()"
   ]
  },
  {
   "cell_type": "markdown",
   "id": "44a60bb8-65c0-4903-b491-bd6dc7de1d84",
   "metadata": {},
   "source": [
    "### There are orderlines without matching product line"
   ]
  },
  {
   "cell_type": "code",
   "execution_count": 34,
   "id": "90b53a5c-26c8-4ef1-8b44-1b447d196089",
   "metadata": {
    "tags": []
   },
   "outputs": [
    {
     "data": {
      "text/html": [
       "<div>\n",
       "<style scoped>\n",
       "    .dataframe tbody tr th:only-of-type {\n",
       "        vertical-align: middle;\n",
       "    }\n",
       "\n",
       "    .dataframe tbody tr th {\n",
       "        vertical-align: top;\n",
       "    }\n",
       "\n",
       "    .dataframe thead th {\n",
       "        text-align: right;\n",
       "    }\n",
       "</style>\n",
       "<table border=\"1\" class=\"dataframe\">\n",
       "  <thead>\n",
       "    <tr style=\"text-align: right;\">\n",
       "      <th></th>\n",
       "      <th>count</th>\n",
       "      <th>mean</th>\n",
       "      <th>std</th>\n",
       "      <th>min</th>\n",
       "      <th>25%</th>\n",
       "      <th>50%</th>\n",
       "      <th>75%</th>\n",
       "      <th>max</th>\n",
       "    </tr>\n",
       "    <tr>\n",
       "      <th>sku</th>\n",
       "      <th></th>\n",
       "      <th></th>\n",
       "      <th></th>\n",
       "      <th></th>\n",
       "      <th></th>\n",
       "      <th></th>\n",
       "      <th></th>\n",
       "      <th></th>\n",
       "    </tr>\n",
       "  </thead>\n",
       "  <tbody>\n",
       "    <tr>\n",
       "      <th>LIBRO</th>\n",
       "      <td>49.00</td>\n",
       "      <td>0.00</td>\n",
       "      <td>0.00</td>\n",
       "      <td>0.00</td>\n",
       "      <td>0.00</td>\n",
       "      <td>0.00</td>\n",
       "      <td>0.00</td>\n",
       "      <td>0.00</td>\n",
       "    </tr>\n",
       "    <tr>\n",
       "      <th>CAD0011</th>\n",
       "      <td>42.00</td>\n",
       "      <td>6.59</td>\n",
       "      <td>0.00</td>\n",
       "      <td>6.59</td>\n",
       "      <td>6.59</td>\n",
       "      <td>6.59</td>\n",
       "      <td>6.59</td>\n",
       "      <td>6.59</td>\n",
       "    </tr>\n",
       "    <tr>\n",
       "      <th>SAT0040</th>\n",
       "      <td>39.00</td>\n",
       "      <td>28.40</td>\n",
       "      <td>2.18</td>\n",
       "      <td>23.99</td>\n",
       "      <td>26.99</td>\n",
       "      <td>29.99</td>\n",
       "      <td>29.99</td>\n",
       "      <td>29.99</td>\n",
       "    </tr>\n",
       "    <tr>\n",
       "      <th>LIF0102</th>\n",
       "      <td>29.00</td>\n",
       "      <td>38.74</td>\n",
       "      <td>9.79</td>\n",
       "      <td>30.59</td>\n",
       "      <td>34.99</td>\n",
       "      <td>34.99</td>\n",
       "      <td>35.99</td>\n",
       "      <td>64.99</td>\n",
       "    </tr>\n",
       "    <tr>\n",
       "      <th>WDT0177-A</th>\n",
       "      <td>25.00</td>\n",
       "      <td>136.76</td>\n",
       "      <td>8.93</td>\n",
       "      <td>110.16</td>\n",
       "      <td>132.73</td>\n",
       "      <td>139.58</td>\n",
       "      <td>140.83</td>\n",
       "      <td>152.25</td>\n",
       "    </tr>\n",
       "    <tr>\n",
       "      <th>SYN0127</th>\n",
       "      <td>22.00</td>\n",
       "      <td>247.22</td>\n",
       "      <td>12.92</td>\n",
       "      <td>223.24</td>\n",
       "      <td>234.99</td>\n",
       "      <td>246.99</td>\n",
       "      <td>259.99</td>\n",
       "      <td>259.99</td>\n",
       "    </tr>\n",
       "    <tr>\n",
       "      <th>APP0608</th>\n",
       "      <td>13.00</td>\n",
       "      <td>279.99</td>\n",
       "      <td>0.00</td>\n",
       "      <td>279.99</td>\n",
       "      <td>279.99</td>\n",
       "      <td>279.99</td>\n",
       "      <td>279.99</td>\n",
       "      <td>279.99</td>\n",
       "    </tr>\n",
       "    <tr>\n",
       "      <th>EVU0007</th>\n",
       "      <td>12.00</td>\n",
       "      <td>29.86</td>\n",
       "      <td>0.43</td>\n",
       "      <td>28.49</td>\n",
       "      <td>29.99</td>\n",
       "      <td>29.99</td>\n",
       "      <td>29.99</td>\n",
       "      <td>29.99</td>\n",
       "    </tr>\n",
       "    <tr>\n",
       "      <th>APP0607</th>\n",
       "      <td>11.00</td>\n",
       "      <td>281.63</td>\n",
       "      <td>3.64</td>\n",
       "      <td>279.99</td>\n",
       "      <td>279.99</td>\n",
       "      <td>279.99</td>\n",
       "      <td>279.99</td>\n",
       "      <td>289.00</td>\n",
       "    </tr>\n",
       "    <tr>\n",
       "      <th>PAC2160</th>\n",
       "      <td>10.00</td>\n",
       "      <td>55.39</td>\n",
       "      <td>11.38</td>\n",
       "      <td>49.99</td>\n",
       "      <td>49.99</td>\n",
       "      <td>49.99</td>\n",
       "      <td>49.99</td>\n",
       "      <td>76.99</td>\n",
       "    </tr>\n",
       "    <tr>\n",
       "      <th>CRU0045-A</th>\n",
       "      <td>8.00</td>\n",
       "      <td>132.01</td>\n",
       "      <td>5.47</td>\n",
       "      <td>125.40</td>\n",
       "      <td>125.41</td>\n",
       "      <td>135.84</td>\n",
       "      <td>135.84</td>\n",
       "      <td>136.50</td>\n",
       "    </tr>\n",
       "    <tr>\n",
       "      <th>AP20301</th>\n",
       "      <td>8.00</td>\n",
       "      <td>127.07</td>\n",
       "      <td>4.86</td>\n",
       "      <td>125.10</td>\n",
       "      <td>125.10</td>\n",
       "      <td>125.10</td>\n",
       "      <td>125.57</td>\n",
       "      <td>139.00</td>\n",
       "    </tr>\n",
       "    <tr>\n",
       "      <th>AP20172</th>\n",
       "      <td>7.00</td>\n",
       "      <td>585.59</td>\n",
       "      <td>60.13</td>\n",
       "      <td>531.05</td>\n",
       "      <td>531.05</td>\n",
       "      <td>559.00</td>\n",
       "      <td>649.00</td>\n",
       "      <td>649.00</td>\n",
       "    </tr>\n",
       "    <tr>\n",
       "      <th>PAC1156</th>\n",
       "      <td>6.00</td>\n",
       "      <td>473.36</td>\n",
       "      <td>13.87</td>\n",
       "      <td>460.74</td>\n",
       "      <td>460.74</td>\n",
       "      <td>472.87</td>\n",
       "      <td>484.99</td>\n",
       "      <td>487.99</td>\n",
       "    </tr>\n",
       "    <tr>\n",
       "      <th>PAC1908</th>\n",
       "      <td>6.00</td>\n",
       "      <td>125.67</td>\n",
       "      <td>5.81</td>\n",
       "      <td>118.68</td>\n",
       "      <td>121.89</td>\n",
       "      <td>124.58</td>\n",
       "      <td>130.58</td>\n",
       "      <td>132.58</td>\n",
       "    </tr>\n",
       "    <tr>\n",
       "      <th>PAC1157</th>\n",
       "      <td>4.00</td>\n",
       "      <td>495.79</td>\n",
       "      <td>26.00</td>\n",
       "      <td>457.17</td>\n",
       "      <td>493.85</td>\n",
       "      <td>506.08</td>\n",
       "      <td>508.02</td>\n",
       "      <td>513.83</td>\n",
       "    </tr>\n",
       "    <tr>\n",
       "      <th>PAC2162</th>\n",
       "      <td>4.00</td>\n",
       "      <td>55.00</td>\n",
       "      <td>3.46</td>\n",
       "      <td>52.00</td>\n",
       "      <td>52.00</td>\n",
       "      <td>55.00</td>\n",
       "      <td>58.00</td>\n",
       "      <td>58.00</td>\n",
       "    </tr>\n",
       "    <tr>\n",
       "      <th>WAC0131</th>\n",
       "      <td>4.00</td>\n",
       "      <td>55.99</td>\n",
       "      <td>0.00</td>\n",
       "      <td>55.99</td>\n",
       "      <td>55.99</td>\n",
       "      <td>55.99</td>\n",
       "      <td>55.99</td>\n",
       "      <td>55.99</td>\n",
       "    </tr>\n",
       "    <tr>\n",
       "      <th>PAC1158</th>\n",
       "      <td>3.00</td>\n",
       "      <td>734.39</td>\n",
       "      <td>33.55</td>\n",
       "      <td>699.18</td>\n",
       "      <td>718.59</td>\n",
       "      <td>737.99</td>\n",
       "      <td>751.99</td>\n",
       "      <td>765.99</td>\n",
       "    </tr>\n",
       "    <tr>\n",
       "      <th>RAI0021</th>\n",
       "      <td>3.00</td>\n",
       "      <td>32.99</td>\n",
       "      <td>0.00</td>\n",
       "      <td>32.99</td>\n",
       "      <td>32.99</td>\n",
       "      <td>32.99</td>\n",
       "      <td>32.99</td>\n",
       "      <td>32.99</td>\n",
       "    </tr>\n",
       "    <tr>\n",
       "      <th>PAC1155</th>\n",
       "      <td>3.00</td>\n",
       "      <td>435.39</td>\n",
       "      <td>14.65</td>\n",
       "      <td>418.99</td>\n",
       "      <td>429.49</td>\n",
       "      <td>439.99</td>\n",
       "      <td>443.59</td>\n",
       "      <td>447.18</td>\n",
       "    </tr>\n",
       "    <tr>\n",
       "      <th>SYN0133-A</th>\n",
       "      <td>3.00</td>\n",
       "      <td>168.36</td>\n",
       "      <td>0.00</td>\n",
       "      <td>168.36</td>\n",
       "      <td>168.36</td>\n",
       "      <td>168.36</td>\n",
       "      <td>168.36</td>\n",
       "      <td>168.36</td>\n",
       "    </tr>\n",
       "    <tr>\n",
       "      <th>AP20153</th>\n",
       "      <td>3.00</td>\n",
       "      <td>48.51</td>\n",
       "      <td>1.77</td>\n",
       "      <td>46.55</td>\n",
       "      <td>47.77</td>\n",
       "      <td>49.00</td>\n",
       "      <td>49.50</td>\n",
       "      <td>49.99</td>\n",
       "    </tr>\n",
       "    <tr>\n",
       "      <th>PAC1153</th>\n",
       "      <td>2.00</td>\n",
       "      <td>494.99</td>\n",
       "      <td>24.04</td>\n",
       "      <td>477.99</td>\n",
       "      <td>486.49</td>\n",
       "      <td>494.99</td>\n",
       "      <td>503.49</td>\n",
       "      <td>511.99</td>\n",
       "    </tr>\n",
       "    <tr>\n",
       "      <th>PAC0364</th>\n",
       "      <td>2.00</td>\n",
       "      <td>3518.99</td>\n",
       "      <td>0.00</td>\n",
       "      <td>3518.99</td>\n",
       "      <td>3518.99</td>\n",
       "      <td>3518.99</td>\n",
       "      <td>3518.99</td>\n",
       "      <td>3518.99</td>\n",
       "    </tr>\n",
       "    <tr>\n",
       "      <th>REP0088</th>\n",
       "      <td>2.00</td>\n",
       "      <td>246.98</td>\n",
       "      <td>329.05</td>\n",
       "      <td>14.31</td>\n",
       "      <td>130.64</td>\n",
       "      <td>246.98</td>\n",
       "      <td>363.31</td>\n",
       "      <td>479.65</td>\n",
       "    </tr>\n",
       "    <tr>\n",
       "      <th>AP20118</th>\n",
       "      <td>2.00</td>\n",
       "      <td>26.99</td>\n",
       "      <td>0.00</td>\n",
       "      <td>26.99</td>\n",
       "      <td>26.99</td>\n",
       "      <td>26.99</td>\n",
       "      <td>26.99</td>\n",
       "      <td>26.99</td>\n",
       "    </tr>\n",
       "    <tr>\n",
       "      <th>AP20095</th>\n",
       "      <td>2.00</td>\n",
       "      <td>599.40</td>\n",
       "      <td>56.00</td>\n",
       "      <td>559.80</td>\n",
       "      <td>579.60</td>\n",
       "      <td>599.40</td>\n",
       "      <td>619.20</td>\n",
       "      <td>639.00</td>\n",
       "    </tr>\n",
       "    <tr>\n",
       "      <th>ENV0496</th>\n",
       "      <td>2.00</td>\n",
       "      <td>44.99</td>\n",
       "      <td>56.58</td>\n",
       "      <td>4.99</td>\n",
       "      <td>24.99</td>\n",
       "      <td>44.99</td>\n",
       "      <td>65.00</td>\n",
       "      <td>85.00</td>\n",
       "    </tr>\n",
       "    <tr>\n",
       "      <th>CAD0010</th>\n",
       "      <td>2.00</td>\n",
       "      <td>0.29</td>\n",
       "      <td>0.00</td>\n",
       "      <td>0.29</td>\n",
       "      <td>0.29</td>\n",
       "      <td>0.29</td>\n",
       "      <td>0.29</td>\n",
       "      <td>0.29</td>\n",
       "    </tr>\n",
       "    <tr>\n",
       "      <th>ENV1006</th>\n",
       "      <td>1.00</td>\n",
       "      <td>39.98</td>\n",
       "      <td>NaN</td>\n",
       "      <td>39.98</td>\n",
       "      <td>39.98</td>\n",
       "      <td>39.98</td>\n",
       "      <td>39.98</td>\n",
       "      <td>39.98</td>\n",
       "    </tr>\n",
       "    <tr>\n",
       "      <th>REP0137</th>\n",
       "      <td>1.00</td>\n",
       "      <td>54.22</td>\n",
       "      <td>NaN</td>\n",
       "      <td>54.22</td>\n",
       "      <td>54.22</td>\n",
       "      <td>54.22</td>\n",
       "      <td>54.22</td>\n",
       "      <td>54.22</td>\n",
       "    </tr>\n",
       "    <tr>\n",
       "      <th>APP2110</th>\n",
       "      <td>1.00</td>\n",
       "      <td>59.00</td>\n",
       "      <td>NaN</td>\n",
       "      <td>59.00</td>\n",
       "      <td>59.00</td>\n",
       "      <td>59.00</td>\n",
       "      <td>59.00</td>\n",
       "      <td>59.00</td>\n",
       "    </tr>\n",
       "    <tr>\n",
       "      <th>APP1904-A</th>\n",
       "      <td>1.00</td>\n",
       "      <td>3466.51</td>\n",
       "      <td>NaN</td>\n",
       "      <td>3466.51</td>\n",
       "      <td>3466.51</td>\n",
       "      <td>3466.51</td>\n",
       "      <td>3466.51</td>\n",
       "      <td>3466.51</td>\n",
       "    </tr>\n",
       "    <tr>\n",
       "      <th>PAC2164</th>\n",
       "      <td>1.00</td>\n",
       "      <td>58.00</td>\n",
       "      <td>NaN</td>\n",
       "      <td>58.00</td>\n",
       "      <td>58.00</td>\n",
       "      <td>58.00</td>\n",
       "      <td>58.00</td>\n",
       "      <td>58.00</td>\n",
       "    </tr>\n",
       "    <tr>\n",
       "      <th>PAC2165</th>\n",
       "      <td>1.00</td>\n",
       "      <td>109.00</td>\n",
       "      <td>NaN</td>\n",
       "      <td>109.00</td>\n",
       "      <td>109.00</td>\n",
       "      <td>109.00</td>\n",
       "      <td>109.00</td>\n",
       "      <td>109.00</td>\n",
       "    </tr>\n",
       "    <tr>\n",
       "      <th>AP20416</th>\n",
       "      <td>1.00</td>\n",
       "      <td>559.00</td>\n",
       "      <td>NaN</td>\n",
       "      <td>559.00</td>\n",
       "      <td>559.00</td>\n",
       "      <td>559.00</td>\n",
       "      <td>559.00</td>\n",
       "      <td>559.00</td>\n",
       "    </tr>\n",
       "    <tr>\n",
       "      <th>AP20398</th>\n",
       "      <td>1.00</td>\n",
       "      <td>2909.23</td>\n",
       "      <td>NaN</td>\n",
       "      <td>2909.23</td>\n",
       "      <td>2909.23</td>\n",
       "      <td>2909.23</td>\n",
       "      <td>2909.23</td>\n",
       "      <td>2909.23</td>\n",
       "    </tr>\n",
       "    <tr>\n",
       "      <th>REP0217</th>\n",
       "      <td>1.00</td>\n",
       "      <td>19.99</td>\n",
       "      <td>NaN</td>\n",
       "      <td>19.99</td>\n",
       "      <td>19.99</td>\n",
       "      <td>19.99</td>\n",
       "      <td>19.99</td>\n",
       "      <td>19.99</td>\n",
       "    </tr>\n",
       "    <tr>\n",
       "      <th>APP2447</th>\n",
       "      <td>1.00</td>\n",
       "      <td>2479.00</td>\n",
       "      <td>NaN</td>\n",
       "      <td>2479.00</td>\n",
       "      <td>2479.00</td>\n",
       "      <td>2479.00</td>\n",
       "      <td>2479.00</td>\n",
       "      <td>2479.00</td>\n",
       "    </tr>\n",
       "    <tr>\n",
       "      <th>AP20349</th>\n",
       "      <td>1.00</td>\n",
       "      <td>1505.59</td>\n",
       "      <td>NaN</td>\n",
       "      <td>1505.59</td>\n",
       "      <td>1505.59</td>\n",
       "      <td>1505.59</td>\n",
       "      <td>1505.59</td>\n",
       "      <td>1505.59</td>\n",
       "    </tr>\n",
       "    <tr>\n",
       "      <th>AP20337</th>\n",
       "      <td>1.00</td>\n",
       "      <td>37.99</td>\n",
       "      <td>NaN</td>\n",
       "      <td>37.99</td>\n",
       "      <td>37.99</td>\n",
       "      <td>37.99</td>\n",
       "      <td>37.99</td>\n",
       "      <td>37.99</td>\n",
       "    </tr>\n",
       "    <tr>\n",
       "      <th>AP20235</th>\n",
       "      <td>1.00</td>\n",
       "      <td>1305.59</td>\n",
       "      <td>NaN</td>\n",
       "      <td>1305.59</td>\n",
       "      <td>1305.59</td>\n",
       "      <td>1305.59</td>\n",
       "      <td>1305.59</td>\n",
       "      <td>1305.59</td>\n",
       "    </tr>\n",
       "    <tr>\n",
       "      <th>TWS0053-A</th>\n",
       "      <td>1.00</td>\n",
       "      <td>50.93</td>\n",
       "      <td>NaN</td>\n",
       "      <td>50.93</td>\n",
       "      <td>50.93</td>\n",
       "      <td>50.93</td>\n",
       "      <td>50.93</td>\n",
       "      <td>50.93</td>\n",
       "    </tr>\n",
       "    <tr>\n",
       "      <th>AP20220</th>\n",
       "      <td>1.00</td>\n",
       "      <td>231.83</td>\n",
       "      <td>NaN</td>\n",
       "      <td>231.83</td>\n",
       "      <td>231.83</td>\n",
       "      <td>231.83</td>\n",
       "      <td>231.83</td>\n",
       "      <td>231.83</td>\n",
       "    </tr>\n",
       "    <tr>\n",
       "      <th>PAC1910</th>\n",
       "      <td>1.00</td>\n",
       "      <td>290.24</td>\n",
       "      <td>NaN</td>\n",
       "      <td>290.24</td>\n",
       "      <td>290.24</td>\n",
       "      <td>290.24</td>\n",
       "      <td>290.24</td>\n",
       "      <td>290.24</td>\n",
       "    </tr>\n",
       "    <tr>\n",
       "      <th>APP2448</th>\n",
       "      <td>1.00</td>\n",
       "      <td>3089.00</td>\n",
       "      <td>NaN</td>\n",
       "      <td>3089.00</td>\n",
       "      <td>3089.00</td>\n",
       "      <td>3089.00</td>\n",
       "      <td>3089.00</td>\n",
       "      <td>3089.00</td>\n",
       "    </tr>\n",
       "    <tr>\n",
       "      <th>PAC1776</th>\n",
       "      <td>1.00</td>\n",
       "      <td>839.99</td>\n",
       "      <td>NaN</td>\n",
       "      <td>839.99</td>\n",
       "      <td>839.99</td>\n",
       "      <td>839.99</td>\n",
       "      <td>839.99</td>\n",
       "      <td>839.99</td>\n",
       "    </tr>\n",
       "    <tr>\n",
       "      <th>ENV0805</th>\n",
       "      <td>1.00</td>\n",
       "      <td>6.98</td>\n",
       "      <td>NaN</td>\n",
       "      <td>6.98</td>\n",
       "      <td>6.98</td>\n",
       "      <td>6.98</td>\n",
       "      <td>6.98</td>\n",
       "      <td>6.98</td>\n",
       "    </tr>\n",
       "    <tr>\n",
       "      <th>APP2449</th>\n",
       "      <td>1.00</td>\n",
       "      <td>2426.00</td>\n",
       "      <td>NaN</td>\n",
       "      <td>2426.00</td>\n",
       "      <td>2426.00</td>\n",
       "      <td>2426.00</td>\n",
       "      <td>2426.00</td>\n",
       "      <td>2426.00</td>\n",
       "    </tr>\n",
       "    <tr>\n",
       "      <th>APP2488-A</th>\n",
       "      <td>1.00</td>\n",
       "      <td>199.00</td>\n",
       "      <td>NaN</td>\n",
       "      <td>199.00</td>\n",
       "      <td>199.00</td>\n",
       "      <td>199.00</td>\n",
       "      <td>199.00</td>\n",
       "      <td>199.00</td>\n",
       "    </tr>\n",
       "    <tr>\n",
       "      <th>BLL0010</th>\n",
       "      <td>1.00</td>\n",
       "      <td>13.99</td>\n",
       "      <td>NaN</td>\n",
       "      <td>13.99</td>\n",
       "      <td>13.99</td>\n",
       "      <td>13.99</td>\n",
       "      <td>13.99</td>\n",
       "      <td>13.99</td>\n",
       "    </tr>\n",
       "    <tr>\n",
       "      <th>PAC1154</th>\n",
       "      <td>1.00</td>\n",
       "      <td>529.99</td>\n",
       "      <td>NaN</td>\n",
       "      <td>529.99</td>\n",
       "      <td>529.99</td>\n",
       "      <td>529.99</td>\n",
       "      <td>529.99</td>\n",
       "      <td>529.99</td>\n",
       "    </tr>\n",
       "    <tr>\n",
       "      <th>CAD0007</th>\n",
       "      <td>1.00</td>\n",
       "      <td>3.81</td>\n",
       "      <td>NaN</td>\n",
       "      <td>3.81</td>\n",
       "      <td>3.81</td>\n",
       "      <td>3.81</td>\n",
       "      <td>3.81</td>\n",
       "      <td>3.81</td>\n",
       "    </tr>\n",
       "    <tr>\n",
       "      <th>PAC0730</th>\n",
       "      <td>1.00</td>\n",
       "      <td>197.99</td>\n",
       "      <td>NaN</td>\n",
       "      <td>197.99</td>\n",
       "      <td>197.99</td>\n",
       "      <td>197.99</td>\n",
       "      <td>197.99</td>\n",
       "      <td>197.99</td>\n",
       "    </tr>\n",
       "    <tr>\n",
       "      <th>PAC0469</th>\n",
       "      <td>1.00</td>\n",
       "      <td>140.99</td>\n",
       "      <td>NaN</td>\n",
       "      <td>140.99</td>\n",
       "      <td>140.99</td>\n",
       "      <td>140.99</td>\n",
       "      <td>140.99</td>\n",
       "      <td>140.99</td>\n",
       "    </tr>\n",
       "    <tr>\n",
       "      <th>CAD0008</th>\n",
       "      <td>1.00</td>\n",
       "      <td>1.39</td>\n",
       "      <td>NaN</td>\n",
       "      <td>1.39</td>\n",
       "      <td>1.39</td>\n",
       "      <td>1.39</td>\n",
       "      <td>1.39</td>\n",
       "      <td>1.39</td>\n",
       "    </tr>\n",
       "    <tr>\n",
       "      <th>NTE0049-A</th>\n",
       "      <td>1.00</td>\n",
       "      <td>8.81</td>\n",
       "      <td>NaN</td>\n",
       "      <td>8.81</td>\n",
       "      <td>8.81</td>\n",
       "      <td>8.81</td>\n",
       "      <td>8.81</td>\n",
       "      <td>8.81</td>\n",
       "    </tr>\n",
       "    <tr>\n",
       "      <th>NTE0020-A</th>\n",
       "      <td>1.00</td>\n",
       "      <td>21.43</td>\n",
       "      <td>NaN</td>\n",
       "      <td>21.43</td>\n",
       "      <td>21.43</td>\n",
       "      <td>21.43</td>\n",
       "      <td>21.43</td>\n",
       "      <td>21.43</td>\n",
       "    </tr>\n",
       "    <tr>\n",
       "      <th>MYF0007</th>\n",
       "      <td>1.00</td>\n",
       "      <td>299.00</td>\n",
       "      <td>NaN</td>\n",
       "      <td>299.00</td>\n",
       "      <td>299.00</td>\n",
       "      <td>299.00</td>\n",
       "      <td>299.00</td>\n",
       "      <td>299.00</td>\n",
       "    </tr>\n",
       "    <tr>\n",
       "      <th>CAD0012</th>\n",
       "      <td>1.00</td>\n",
       "      <td>7.80</td>\n",
       "      <td>NaN</td>\n",
       "      <td>7.80</td>\n",
       "      <td>7.80</td>\n",
       "      <td>7.80</td>\n",
       "      <td>7.80</td>\n",
       "      <td>7.80</td>\n",
       "    </tr>\n",
       "    <tr>\n",
       "      <th>FCM0022-A</th>\n",
       "      <td>1.00</td>\n",
       "      <td>24.73</td>\n",
       "      <td>NaN</td>\n",
       "      <td>24.73</td>\n",
       "      <td>24.73</td>\n",
       "      <td>24.73</td>\n",
       "      <td>24.73</td>\n",
       "      <td>24.73</td>\n",
       "    </tr>\n",
       "    <tr>\n",
       "      <th>KAN0021-A</th>\n",
       "      <td>1.00</td>\n",
       "      <td>76.92</td>\n",
       "      <td>NaN</td>\n",
       "      <td>76.92</td>\n",
       "      <td>76.92</td>\n",
       "      <td>76.92</td>\n",
       "      <td>76.92</td>\n",
       "      <td>76.92</td>\n",
       "    </tr>\n",
       "  </tbody>\n",
       "</table>\n",
       "</div>"
      ],
      "text/plain": [
       "           count    mean    std     min     25%     50%     75%     max\n",
       "sku                                                                    \n",
       "LIBRO      49.00    0.00   0.00    0.00    0.00    0.00    0.00    0.00\n",
       "CAD0011    42.00    6.59   0.00    6.59    6.59    6.59    6.59    6.59\n",
       "SAT0040    39.00   28.40   2.18   23.99   26.99   29.99   29.99   29.99\n",
       "LIF0102    29.00   38.74   9.79   30.59   34.99   34.99   35.99   64.99\n",
       "WDT0177-A  25.00  136.76   8.93  110.16  132.73  139.58  140.83  152.25\n",
       "SYN0127    22.00  247.22  12.92  223.24  234.99  246.99  259.99  259.99\n",
       "APP0608    13.00  279.99   0.00  279.99  279.99  279.99  279.99  279.99\n",
       "EVU0007    12.00   29.86   0.43   28.49   29.99   29.99   29.99   29.99\n",
       "APP0607    11.00  281.63   3.64  279.99  279.99  279.99  279.99  289.00\n",
       "PAC2160    10.00   55.39  11.38   49.99   49.99   49.99   49.99   76.99\n",
       "CRU0045-A   8.00  132.01   5.47  125.40  125.41  135.84  135.84  136.50\n",
       "AP20301     8.00  127.07   4.86  125.10  125.10  125.10  125.57  139.00\n",
       "AP20172     7.00  585.59  60.13  531.05  531.05  559.00  649.00  649.00\n",
       "PAC1156     6.00  473.36  13.87  460.74  460.74  472.87  484.99  487.99\n",
       "PAC1908     6.00  125.67   5.81  118.68  121.89  124.58  130.58  132.58\n",
       "PAC1157     4.00  495.79  26.00  457.17  493.85  506.08  508.02  513.83\n",
       "PAC2162     4.00   55.00   3.46   52.00   52.00   55.00   58.00   58.00\n",
       "WAC0131     4.00   55.99   0.00   55.99   55.99   55.99   55.99   55.99\n",
       "PAC1158     3.00  734.39  33.55  699.18  718.59  737.99  751.99  765.99\n",
       "RAI0021     3.00   32.99   0.00   32.99   32.99   32.99   32.99   32.99\n",
       "PAC1155     3.00  435.39  14.65  418.99  429.49  439.99  443.59  447.18\n",
       "SYN0133-A   3.00  168.36   0.00  168.36  168.36  168.36  168.36  168.36\n",
       "AP20153     3.00   48.51   1.77   46.55   47.77   49.00   49.50   49.99\n",
       "PAC1153     2.00  494.99  24.04  477.99  486.49  494.99  503.49  511.99\n",
       "PAC0364     2.00 3518.99   0.00 3518.99 3518.99 3518.99 3518.99 3518.99\n",
       "REP0088     2.00  246.98 329.05   14.31  130.64  246.98  363.31  479.65\n",
       "AP20118     2.00   26.99   0.00   26.99   26.99   26.99   26.99   26.99\n",
       "AP20095     2.00  599.40  56.00  559.80  579.60  599.40  619.20  639.00\n",
       "ENV0496     2.00   44.99  56.58    4.99   24.99   44.99   65.00   85.00\n",
       "CAD0010     2.00    0.29   0.00    0.29    0.29    0.29    0.29    0.29\n",
       "ENV1006     1.00   39.98    NaN   39.98   39.98   39.98   39.98   39.98\n",
       "REP0137     1.00   54.22    NaN   54.22   54.22   54.22   54.22   54.22\n",
       "APP2110     1.00   59.00    NaN   59.00   59.00   59.00   59.00   59.00\n",
       "APP1904-A   1.00 3466.51    NaN 3466.51 3466.51 3466.51 3466.51 3466.51\n",
       "PAC2164     1.00   58.00    NaN   58.00   58.00   58.00   58.00   58.00\n",
       "PAC2165     1.00  109.00    NaN  109.00  109.00  109.00  109.00  109.00\n",
       "AP20416     1.00  559.00    NaN  559.00  559.00  559.00  559.00  559.00\n",
       "AP20398     1.00 2909.23    NaN 2909.23 2909.23 2909.23 2909.23 2909.23\n",
       "REP0217     1.00   19.99    NaN   19.99   19.99   19.99   19.99   19.99\n",
       "APP2447     1.00 2479.00    NaN 2479.00 2479.00 2479.00 2479.00 2479.00\n",
       "AP20349     1.00 1505.59    NaN 1505.59 1505.59 1505.59 1505.59 1505.59\n",
       "AP20337     1.00   37.99    NaN   37.99   37.99   37.99   37.99   37.99\n",
       "AP20235     1.00 1305.59    NaN 1305.59 1305.59 1305.59 1305.59 1305.59\n",
       "TWS0053-A   1.00   50.93    NaN   50.93   50.93   50.93   50.93   50.93\n",
       "AP20220     1.00  231.83    NaN  231.83  231.83  231.83  231.83  231.83\n",
       "PAC1910     1.00  290.24    NaN  290.24  290.24  290.24  290.24  290.24\n",
       "APP2448     1.00 3089.00    NaN 3089.00 3089.00 3089.00 3089.00 3089.00\n",
       "PAC1776     1.00  839.99    NaN  839.99  839.99  839.99  839.99  839.99\n",
       "ENV0805     1.00    6.98    NaN    6.98    6.98    6.98    6.98    6.98\n",
       "APP2449     1.00 2426.00    NaN 2426.00 2426.00 2426.00 2426.00 2426.00\n",
       "APP2488-A   1.00  199.00    NaN  199.00  199.00  199.00  199.00  199.00\n",
       "BLL0010     1.00   13.99    NaN   13.99   13.99   13.99   13.99   13.99\n",
       "PAC1154     1.00  529.99    NaN  529.99  529.99  529.99  529.99  529.99\n",
       "CAD0007     1.00    3.81    NaN    3.81    3.81    3.81    3.81    3.81\n",
       "PAC0730     1.00  197.99    NaN  197.99  197.99  197.99  197.99  197.99\n",
       "PAC0469     1.00  140.99    NaN  140.99  140.99  140.99  140.99  140.99\n",
       "CAD0008     1.00    1.39    NaN    1.39    1.39    1.39    1.39    1.39\n",
       "NTE0049-A   1.00    8.81    NaN    8.81    8.81    8.81    8.81    8.81\n",
       "NTE0020-A   1.00   21.43    NaN   21.43   21.43   21.43   21.43   21.43\n",
       "MYF0007     1.00  299.00    NaN  299.00  299.00  299.00  299.00  299.00\n",
       "CAD0012     1.00    7.80    NaN    7.80    7.80    7.80    7.80    7.80\n",
       "FCM0022-A   1.00   24.73    NaN   24.73   24.73   24.73   24.73   24.73\n",
       "KAN0021-A   1.00   76.92    NaN   76.92   76.92   76.92   76.92   76.92"
      ]
     },
     "execution_count": 34,
     "metadata": {},
     "output_type": "execute_result"
    }
   ],
   "source": [
    "(\n",
    "    orderlines[~orderlines.sku.isin(set(products.sku))]\n",
    "    .groupby('sku')\n",
    "    .unit_price.describe()\n",
    "    .sort_values('count', ascending=False)\n",
    ")"
   ]
  },
  {
   "cell_type": "markdown",
   "id": "49e2180e-da3c-4d7e-b56a-dc20b0a3d809",
   "metadata": {},
   "source": [
    "> - the `unit_price` column looks reasonable for those\n",
    "> - define reconstructed `products` rows based on the maximum `unit_price`\n",
    "> - Felix: `-A` might indicate grade-A returned products, removing it might allow joining"
   ]
  },
  {
   "cell_type": "code",
   "execution_count": 35,
   "id": "8a462c60-b466-4d2a-9f7f-89333459676d",
   "metadata": {
    "tags": []
   },
   "outputs": [
    {
     "name": "stdout",
     "output_type": "stream",
     "text": [
      "Before: 19326\n",
      "After: 19389\n"
     ]
    }
   ],
   "source": [
    "print(f'Before: {len(products)}')\n",
    "products = pd.concat([\n",
    "    products,\n",
    "    (\n",
    "        orderlines[~orderlines.sku.isin(set(products.sku))]\n",
    "        .groupby('sku', as_index=False)\n",
    "        .agg(price = ('unit_price', 'max'), promo_price = ('unit_price', 'min'))\n",
    "        .assign(\n",
    "            price = lambda x: x.price.apply(lambda v: f'{v:.2f}'), # as string because products is still like that\n",
    "            promo_price = lambda x: x.promo_price.apply(lambda v: f'{v:.2f}'), # as string because products is still like that,\n",
    "            name = lambda x: 'Reconstructed: ' + x.sku,\n",
    "            desc = 'Reconstructed product record',\n",
    "            in_stock = 0,\n",
    "            type = math.nan\n",
    "        )\n",
    "    )], ignore_index = True)\n",
    "print(f'After: {len(products)}')"
   ]
  },
  {
   "cell_type": "markdown",
   "id": "de050e68-2e56-4605-a938-91eb46a47a4a",
   "metadata": {},
   "source": [
    "### No missing products anymore"
   ]
  },
  {
   "cell_type": "code",
   "execution_count": 36,
   "id": "6052b746-ec20-4e3f-8003-07d13c419838",
   "metadata": {
    "tags": []
   },
   "outputs": [
    {
     "data": {
      "text/plain": [
       "sku\n",
       "True    62103\n",
       "Name: count, dtype: int64"
      ]
     },
     "execution_count": 36,
     "metadata": {},
     "output_type": "execute_result"
    }
   ],
   "source": [
    "orderlines.sku.isin(set(products.sku)).value_counts()"
   ]
  },
  {
   "cell_type": "markdown",
   "id": "bdded85e-e323-44b5-a555-660278bb1cae",
   "metadata": {},
   "source": [
    "### No crazy overshooting orderline prices anymore"
   ]
  },
  {
   "cell_type": "code",
   "execution_count": 37,
   "id": "3d9fdae2-d9f0-44b8-a44f-3edc467f20c0",
   "metadata": {
    "tags": []
   },
   "outputs": [
    {
     "data": {
      "text/html": [
       "<div>\n",
       "<style scoped>\n",
       "    .dataframe tbody tr th:only-of-type {\n",
       "        vertical-align: middle;\n",
       "    }\n",
       "\n",
       "    .dataframe tbody tr th {\n",
       "        vertical-align: top;\n",
       "    }\n",
       "\n",
       "    .dataframe thead tr th {\n",
       "        text-align: left;\n",
       "    }\n",
       "\n",
       "    .dataframe thead tr:last-of-type th {\n",
       "        text-align: right;\n",
       "    }\n",
       "</style>\n",
       "<table border=\"1\" class=\"dataframe\">\n",
       "  <thead>\n",
       "    <tr>\n",
       "      <th></th>\n",
       "      <th colspan=\"4\" halign=\"left\">unit_price</th>\n",
       "      <th>overshoot</th>\n",
       "    </tr>\n",
       "    <tr>\n",
       "      <th></th>\n",
       "      <th>mean</th>\n",
       "      <th>std</th>\n",
       "      <th>max</th>\n",
       "      <th>q90</th>\n",
       "      <th></th>\n",
       "    </tr>\n",
       "    <tr>\n",
       "      <th>sku</th>\n",
       "      <th></th>\n",
       "      <th></th>\n",
       "      <th></th>\n",
       "      <th></th>\n",
       "      <th></th>\n",
       "    </tr>\n",
       "  </thead>\n",
       "  <tbody>\n",
       "    <tr>\n",
       "      <th>MOP0109</th>\n",
       "      <td>7.58</td>\n",
       "      <td>4.15</td>\n",
       "      <td>26.99</td>\n",
       "      <td>7.99</td>\n",
       "      <td>3.38</td>\n",
       "    </tr>\n",
       "    <tr>\n",
       "      <th>ZAG0030</th>\n",
       "      <td>20.55</td>\n",
       "      <td>3.56</td>\n",
       "      <td>49.99</td>\n",
       "      <td>21.24</td>\n",
       "      <td>2.35</td>\n",
       "    </tr>\n",
       "    <tr>\n",
       "      <th>BEL0303</th>\n",
       "      <td>24.13</td>\n",
       "      <td>4.34</td>\n",
       "      <td>49.99</td>\n",
       "      <td>23.09</td>\n",
       "      <td>2.17</td>\n",
       "    </tr>\n",
       "    <tr>\n",
       "      <th>ZAG0024</th>\n",
       "      <td>32.44</td>\n",
       "      <td>7.12</td>\n",
       "      <td>69.99</td>\n",
       "      <td>34.99</td>\n",
       "      <td>2.00</td>\n",
       "    </tr>\n",
       "  </tbody>\n",
       "</table>\n",
       "</div>"
      ],
      "text/plain": [
       "        unit_price                  overshoot\n",
       "              mean  std   max   q90          \n",
       "sku                                          \n",
       "MOP0109       7.58 4.15 26.99  7.99      3.38\n",
       "ZAG0030      20.55 3.56 49.99 21.24      2.35\n",
       "BEL0303      24.13 4.34 49.99 23.09      2.17\n",
       "ZAG0024      32.44 7.12 69.99 34.99      2.00"
      ]
     },
     "execution_count": 37,
     "metadata": {},
     "output_type": "execute_result"
    }
   ],
   "source": [
    "(\n",
    "    orderlines\n",
    "    .groupby('sku')\n",
    "    .agg({'unit_price':['mean','std','max', ('q90', lambda x: x.quantile(.9))]})\n",
    "    .assign(overshoot = lambda x: x['unit_price','max']/x['unit_price','q90'])\n",
    "    [lambda x: x.overshoot > 2]\n",
    "    .sort_values('overshoot', ascending=False)\n",
    ")"
   ]
  },
  {
   "cell_type": "code",
   "execution_count": 38,
   "id": "09438235-9c1b-4698-b700-5b1ff7012bab",
   "metadata": {
    "tags": []
   },
   "outputs": [
    {
     "data": {
      "text/html": [
       "<div>\n",
       "<style scoped>\n",
       "    .dataframe tbody tr th:only-of-type {\n",
       "        vertical-align: middle;\n",
       "    }\n",
       "\n",
       "    .dataframe tbody tr th {\n",
       "        vertical-align: top;\n",
       "    }\n",
       "\n",
       "    .dataframe thead th {\n",
       "        text-align: right;\n",
       "    }\n",
       "</style>\n",
       "<table border=\"1\" class=\"dataframe\">\n",
       "  <thead>\n",
       "    <tr style=\"text-align: right;\">\n",
       "      <th></th>\n",
       "      <th>product_quantity</th>\n",
       "      <th>sku</th>\n",
       "      <th>unit_price</th>\n",
       "      <th>name</th>\n",
       "      <th>price</th>\n",
       "      <th>promo_price</th>\n",
       "      <th>total_paid</th>\n",
       "      <th>state</th>\n",
       "    </tr>\n",
       "  </thead>\n",
       "  <tbody>\n",
       "    <tr>\n",
       "      <th>265902</th>\n",
       "      <td>1</td>\n",
       "      <td>MOP0109</td>\n",
       "      <td>26.99</td>\n",
       "      <td>Mophie Powerstation Mini Universal 4000mAh Bat...</td>\n",
       "      <td>69.95</td>\n",
       "      <td>269.903</td>\n",
       "      <td>114.41</td>\n",
       "      <td>Completed</td>\n",
       "    </tr>\n",
       "    <tr>\n",
       "      <th>272559</th>\n",
       "      <td>1</td>\n",
       "      <td>MOP0109</td>\n",
       "      <td>7.99</td>\n",
       "      <td>Mophie Powerstation Mini Universal 4000mAh Bat...</td>\n",
       "      <td>69.95</td>\n",
       "      <td>269.903</td>\n",
       "      <td>52.93</td>\n",
       "      <td>Completed</td>\n",
       "    </tr>\n",
       "    <tr>\n",
       "      <th>273037</th>\n",
       "      <td>1</td>\n",
       "      <td>MOP0109</td>\n",
       "      <td>7.99</td>\n",
       "      <td>Mophie Powerstation Mini Universal 4000mAh Bat...</td>\n",
       "      <td>69.95</td>\n",
       "      <td>269.903</td>\n",
       "      <td>11.98</td>\n",
       "      <td>Completed</td>\n",
       "    </tr>\n",
       "    <tr>\n",
       "      <th>273009</th>\n",
       "      <td>1</td>\n",
       "      <td>MOP0109</td>\n",
       "      <td>7.99</td>\n",
       "      <td>Mophie Powerstation Mini Universal 4000mAh Bat...</td>\n",
       "      <td>69.95</td>\n",
       "      <td>269.903</td>\n",
       "      <td>11.98</td>\n",
       "      <td>Completed</td>\n",
       "    </tr>\n",
       "    <tr>\n",
       "      <th>273008</th>\n",
       "      <td>1</td>\n",
       "      <td>MOP0109</td>\n",
       "      <td>7.99</td>\n",
       "      <td>Mophie Powerstation Mini Universal 4000mAh Bat...</td>\n",
       "      <td>69.95</td>\n",
       "      <td>269.903</td>\n",
       "      <td>11.98</td>\n",
       "      <td>Completed</td>\n",
       "    </tr>\n",
       "  </tbody>\n",
       "</table>\n",
       "</div>"
      ],
      "text/plain": [
       "        product_quantity      sku  unit_price  \\\n",
       "265902                 1  MOP0109       26.99   \n",
       "272559                 1  MOP0109        7.99   \n",
       "273037                 1  MOP0109        7.99   \n",
       "273009                 1  MOP0109        7.99   \n",
       "273008                 1  MOP0109        7.99   \n",
       "\n",
       "                                                     name  price promo_price  \\\n",
       "265902  Mophie Powerstation Mini Universal 4000mAh Bat...  69.95     269.903   \n",
       "272559  Mophie Powerstation Mini Universal 4000mAh Bat...  69.95     269.903   \n",
       "273037  Mophie Powerstation Mini Universal 4000mAh Bat...  69.95     269.903   \n",
       "273009  Mophie Powerstation Mini Universal 4000mAh Bat...  69.95     269.903   \n",
       "273008  Mophie Powerstation Mini Universal 4000mAh Bat...  69.95     269.903   \n",
       "\n",
       "        total_paid      state  \n",
       "265902      114.41  Completed  \n",
       "272559       52.93  Completed  \n",
       "273037       11.98  Completed  \n",
       "273009       11.98  Completed  \n",
       "273008       11.98  Completed  "
      ]
     },
     "execution_count": 38,
     "metadata": {},
     "output_type": "execute_result"
    }
   ],
   "source": [
    "orders_sku('MOP0109').head(5)"
   ]
  },
  {
   "cell_type": "code",
   "execution_count": 39,
   "id": "fd651189-6671-4233-9020-96dc8a6c5950",
   "metadata": {
    "tags": []
   },
   "outputs": [
    {
     "name": "stdout",
     "output_type": "stream",
     "text": [
      "<class 'pandas.core.frame.DataFrame'>\n",
      "Index: 62103 entries, 7 to 293661\n",
      "Data columns (total 7 columns):\n",
      " #   Column            Non-Null Count  Dtype         \n",
      "---  ------            --------------  -----         \n",
      " 0   id                62103 non-null  int64         \n",
      " 1   id_order          62103 non-null  int64         \n",
      " 2   product_id        62103 non-null  int64         \n",
      " 3   product_quantity  62103 non-null  int64         \n",
      " 4   sku               62103 non-null  object        \n",
      " 5   unit_price        62103 non-null  float64       \n",
      " 6   date              62103 non-null  datetime64[ns]\n",
      "dtypes: datetime64[ns](1), float64(1), int64(4), object(1)\n",
      "memory usage: 3.8+ MB\n"
     ]
    }
   ],
   "source": [
    "orderlines.info()"
   ]
  },
  {
   "cell_type": "markdown",
   "id": "89ac1eec-e39f-46a3-bbd2-ced9b5e6afb9",
   "metadata": {},
   "source": [
    "### Save cleaned data"
   ]
  },
  {
   "cell_type": "code",
   "execution_count": 40,
   "id": "cb70ec1b-993b-43d4-993e-a9b1476e7c59",
   "metadata": {
    "tags": []
   },
   "outputs": [],
   "source": [
    "orders.to_csv('orders_cl.csv', index=False)\n",
    "orderlines.to_csv('orderlines_cl.csv', index=False)\n",
    "products.to_csv('products_cl.csv', index=False)"
   ]
  },
  {
   "cell_type": "markdown",
   "id": "124e7e4b-a16e-427c-bb88-43fef2e1f511",
   "metadata": {},
   "source": [
    "### Extract prices from orders"
   ]
  },
  {
   "cell_type": "markdown",
   "id": "ee1e62d9-9912-4d1d-9acd-e17eca36c50a",
   "metadata": {},
   "source": [
    "#### Statistics about per-product prices"
   ]
  },
  {
   "cell_type": "code",
   "execution_count": 41,
   "id": "c829fccb-4b4c-4860-8f59-749d7ad4d154",
   "metadata": {
    "tags": []
   },
   "outputs": [],
   "source": [
    "unit_price_stats = (\n",
    "    orderlines\n",
    "    .groupby('sku')\n",
    "    .unit_price\n",
    "    .apply(range_of_confidence)\n",
    "    .unstack()\n",
    "    .assign(\n",
    "        range_percent=lambda x: 100*(x['max']-x['min'])/(x['max']),\n",
    "        iqr_percent=lambda x: 100*(2 * x['iqr'] / (x['25%'] + x['75%']))\n",
    "    )\n",
    "    .join(orderlines.set_index('sku')[['unit_price']])\n",
    "    .assign(\n",
    "        left_outlier=lambda x: x['unit_price'] < x['left'],\n",
    "        right_outlier=lambda x: x['unit_price'] > x['right'],\n",
    "        #left_badness=lambda x: np.fmax(0, -(x['unit_price'] - x['left'])),\n",
    "        #right_badness=lambda x: np.fmax(0, (x['unit_price'] - x['right'])),\n",
    "    )\n",
    ")"
   ]
  },
  {
   "cell_type": "code",
   "execution_count": 42,
   "id": "1df27c85-1164-4300-8014-bc122b9fbb15",
   "metadata": {
    "tags": []
   },
   "outputs": [],
   "source": [
    "unit_price_stats_agg = { col: (col, 'first') for col in unit_price_stats.columns }\n",
    "del unit_price_stats_agg['left_outlier']\n",
    "unit_price_stats_agg['left_outliers'] = ('left_outlier','sum')\n",
    "del unit_price_stats_agg['right_outlier']\n",
    "unit_price_stats_agg['right_outliers'] = ('right_outlier','sum')\n",
    "# del unit_price_stats_agg['left_badness']\n",
    "# unit_price_stats_agg['max_left_badness'] = ('left_badness','max')\n",
    "# del unit_price_stats_agg['right_badness']\n",
    "# unit_price_stats_agg['max_right_badness'] = ('right_badness','max')\n",
    "del unit_price_stats_agg['unit_price']\n",
    "# unit_price_stats_agg\n",
    "\n",
    "unit_price_stats= (\n",
    "    unit_price_stats\n",
    "    .groupby('sku')\n",
    "    .agg(**unit_price_stats_agg)\n",
    "    .assign(\n",
    "        total_outliers=lambda x: x.left_outliers + x.right_outliers,\n",
    "        total_outliers_percent=lambda x: x.total_outliers / x['count'] * 100)\n",
    ")\n",
    "#(\n",
    "#    unit_price_stats\n",
    "#    [lambda x: x.total_outliers > 0]\n",
    "#    .sort_values('total_outliers', ascending=False)\n",
    "#)"
   ]
  },
  {
   "cell_type": "code",
   "execution_count": 43,
   "id": "69703730-285c-4b45-a04f-cae32e21f533",
   "metadata": {
    "tags": []
   },
   "outputs": [
    {
     "data": {
      "text/html": [
       "<div>\n",
       "<style scoped>\n",
       "    .dataframe tbody tr th:only-of-type {\n",
       "        vertical-align: middle;\n",
       "    }\n",
       "\n",
       "    .dataframe tbody tr th {\n",
       "        vertical-align: top;\n",
       "    }\n",
       "\n",
       "    .dataframe thead th {\n",
       "        text-align: right;\n",
       "    }\n",
       "</style>\n",
       "<table border=\"1\" class=\"dataframe\">\n",
       "  <thead>\n",
       "    <tr style=\"text-align: right;\">\n",
       "      <th></th>\n",
       "      <th>count</th>\n",
       "      <th>mean</th>\n",
       "      <th>std</th>\n",
       "      <th>min</th>\n",
       "      <th>25%</th>\n",
       "      <th>50%</th>\n",
       "      <th>75%</th>\n",
       "      <th>max</th>\n",
       "      <th>iqr</th>\n",
       "      <th>left</th>\n",
       "      <th>right</th>\n",
       "      <th>range_percent</th>\n",
       "      <th>iqr_percent</th>\n",
       "      <th>left_outliers</th>\n",
       "      <th>right_outliers</th>\n",
       "      <th>total_outliers</th>\n",
       "      <th>total_outliers_percent</th>\n",
       "    </tr>\n",
       "    <tr>\n",
       "      <th>sku</th>\n",
       "      <th></th>\n",
       "      <th></th>\n",
       "      <th></th>\n",
       "      <th></th>\n",
       "      <th></th>\n",
       "      <th></th>\n",
       "      <th></th>\n",
       "      <th></th>\n",
       "      <th></th>\n",
       "      <th></th>\n",
       "      <th></th>\n",
       "      <th></th>\n",
       "      <th></th>\n",
       "      <th></th>\n",
       "      <th></th>\n",
       "      <th></th>\n",
       "      <th></th>\n",
       "    </tr>\n",
       "  </thead>\n",
       "  <tbody>\n",
       "    <tr>\n",
       "      <th>AP20202</th>\n",
       "      <td>1.00</td>\n",
       "      <td>36.99</td>\n",
       "      <td>NaN</td>\n",
       "      <td>36.99</td>\n",
       "      <td>36.99</td>\n",
       "      <td>36.99</td>\n",
       "      <td>36.99</td>\n",
       "      <td>36.99</td>\n",
       "      <td>0.00</td>\n",
       "      <td>36.99</td>\n",
       "      <td>36.99</td>\n",
       "      <td>0.00</td>\n",
       "      <td>0.00</td>\n",
       "      <td>0</td>\n",
       "      <td>0</td>\n",
       "      <td>0</td>\n",
       "      <td>0.00</td>\n",
       "    </tr>\n",
       "    <tr>\n",
       "      <th>KUA0015-A</th>\n",
       "      <td>1.00</td>\n",
       "      <td>5.04</td>\n",
       "      <td>NaN</td>\n",
       "      <td>5.04</td>\n",
       "      <td>5.04</td>\n",
       "      <td>5.04</td>\n",
       "      <td>5.04</td>\n",
       "      <td>5.04</td>\n",
       "      <td>0.00</td>\n",
       "      <td>5.04</td>\n",
       "      <td>5.04</td>\n",
       "      <td>0.00</td>\n",
       "      <td>0.00</td>\n",
       "      <td>0</td>\n",
       "      <td>0</td>\n",
       "      <td>0</td>\n",
       "      <td>0.00</td>\n",
       "    </tr>\n",
       "    <tr>\n",
       "      <th>TWS0107-A</th>\n",
       "      <td>1.00</td>\n",
       "      <td>34.49</td>\n",
       "      <td>NaN</td>\n",
       "      <td>34.49</td>\n",
       "      <td>34.49</td>\n",
       "      <td>34.49</td>\n",
       "      <td>34.49</td>\n",
       "      <td>34.49</td>\n",
       "      <td>0.00</td>\n",
       "      <td>34.49</td>\n",
       "      <td>34.49</td>\n",
       "      <td>0.00</td>\n",
       "      <td>0.00</td>\n",
       "      <td>0</td>\n",
       "      <td>0</td>\n",
       "      <td>0</td>\n",
       "      <td>0.00</td>\n",
       "    </tr>\n",
       "    <tr>\n",
       "      <th>XDO0042</th>\n",
       "      <td>6.00</td>\n",
       "      <td>19.99</td>\n",
       "      <td>1.90</td>\n",
       "      <td>16.99</td>\n",
       "      <td>19.99</td>\n",
       "      <td>19.99</td>\n",
       "      <td>19.99</td>\n",
       "      <td>22.99</td>\n",
       "      <td>0.00</td>\n",
       "      <td>19.99</td>\n",
       "      <td>19.99</td>\n",
       "      <td>26.10</td>\n",
       "      <td>0.00</td>\n",
       "      <td>1</td>\n",
       "      <td>1</td>\n",
       "      <td>2</td>\n",
       "      <td>33.33</td>\n",
       "    </tr>\n",
       "    <tr>\n",
       "      <th>KIN0125-2</th>\n",
       "      <td>12.00</td>\n",
       "      <td>149.25</td>\n",
       "      <td>20.18</td>\n",
       "      <td>130.99</td>\n",
       "      <td>130.99</td>\n",
       "      <td>141.54</td>\n",
       "      <td>170.49</td>\n",
       "      <td>174.99</td>\n",
       "      <td>39.50</td>\n",
       "      <td>71.74</td>\n",
       "      <td>229.74</td>\n",
       "      <td>25.14</td>\n",
       "      <td>26.20</td>\n",
       "      <td>0</td>\n",
       "      <td>0</td>\n",
       "      <td>0</td>\n",
       "      <td>0.00</td>\n",
       "    </tr>\n",
       "    <tr>\n",
       "      <th>APP2522</th>\n",
       "      <td>15.00</td>\n",
       "      <td>40.82</td>\n",
       "      <td>2.13</td>\n",
       "      <td>38.70</td>\n",
       "      <td>38.70</td>\n",
       "      <td>39.56</td>\n",
       "      <td>43.00</td>\n",
       "      <td>43.00</td>\n",
       "      <td>4.30</td>\n",
       "      <td>32.25</td>\n",
       "      <td>49.45</td>\n",
       "      <td>10.00</td>\n",
       "      <td>10.53</td>\n",
       "      <td>0</td>\n",
       "      <td>0</td>\n",
       "      <td>0</td>\n",
       "      <td>0.00</td>\n",
       "    </tr>\n",
       "    <tr>\n",
       "      <th>AP20444</th>\n",
       "      <td>5.00</td>\n",
       "      <td>799.00</td>\n",
       "      <td>0.00</td>\n",
       "      <td>799.00</td>\n",
       "      <td>799.00</td>\n",
       "      <td>799.00</td>\n",
       "      <td>799.00</td>\n",
       "      <td>799.00</td>\n",
       "      <td>0.00</td>\n",
       "      <td>799.00</td>\n",
       "      <td>799.00</td>\n",
       "      <td>0.00</td>\n",
       "      <td>0.00</td>\n",
       "      <td>0</td>\n",
       "      <td>0</td>\n",
       "      <td>0</td>\n",
       "      <td>0.00</td>\n",
       "    </tr>\n",
       "    <tr>\n",
       "      <th>WAC0024-A</th>\n",
       "      <td>1.00</td>\n",
       "      <td>1273.98</td>\n",
       "      <td>NaN</td>\n",
       "      <td>1273.98</td>\n",
       "      <td>1273.98</td>\n",
       "      <td>1273.98</td>\n",
       "      <td>1273.98</td>\n",
       "      <td>1273.98</td>\n",
       "      <td>0.00</td>\n",
       "      <td>1273.98</td>\n",
       "      <td>1273.98</td>\n",
       "      <td>0.00</td>\n",
       "      <td>0.00</td>\n",
       "      <td>0</td>\n",
       "      <td>0</td>\n",
       "      <td>0</td>\n",
       "      <td>0.00</td>\n",
       "    </tr>\n",
       "    <tr>\n",
       "      <th>APP0073</th>\n",
       "      <td>1.00</td>\n",
       "      <td>41.99</td>\n",
       "      <td>NaN</td>\n",
       "      <td>41.99</td>\n",
       "      <td>41.99</td>\n",
       "      <td>41.99</td>\n",
       "      <td>41.99</td>\n",
       "      <td>41.99</td>\n",
       "      <td>0.00</td>\n",
       "      <td>41.99</td>\n",
       "      <td>41.99</td>\n",
       "      <td>0.00</td>\n",
       "      <td>0.00</td>\n",
       "      <td>0</td>\n",
       "      <td>0</td>\n",
       "      <td>0</td>\n",
       "      <td>0.00</td>\n",
       "    </tr>\n",
       "    <tr>\n",
       "      <th>NOM0026</th>\n",
       "      <td>7.00</td>\n",
       "      <td>37.13</td>\n",
       "      <td>1.95</td>\n",
       "      <td>35.99</td>\n",
       "      <td>35.99</td>\n",
       "      <td>35.99</td>\n",
       "      <td>37.99</td>\n",
       "      <td>39.99</td>\n",
       "      <td>2.00</td>\n",
       "      <td>32.99</td>\n",
       "      <td>40.99</td>\n",
       "      <td>10.00</td>\n",
       "      <td>5.41</td>\n",
       "      <td>0</td>\n",
       "      <td>0</td>\n",
       "      <td>0</td>\n",
       "      <td>0.00</td>\n",
       "    </tr>\n",
       "  </tbody>\n",
       "</table>\n",
       "</div>"
      ],
      "text/plain": [
       "           count    mean   std     min     25%     50%     75%     max   iqr  \\\n",
       "sku                                                                            \n",
       "AP20202     1.00   36.99   NaN   36.99   36.99   36.99   36.99   36.99  0.00   \n",
       "KUA0015-A   1.00    5.04   NaN    5.04    5.04    5.04    5.04    5.04  0.00   \n",
       "TWS0107-A   1.00   34.49   NaN   34.49   34.49   34.49   34.49   34.49  0.00   \n",
       "XDO0042     6.00   19.99  1.90   16.99   19.99   19.99   19.99   22.99  0.00   \n",
       "KIN0125-2  12.00  149.25 20.18  130.99  130.99  141.54  170.49  174.99 39.50   \n",
       "APP2522    15.00   40.82  2.13   38.70   38.70   39.56   43.00   43.00  4.30   \n",
       "AP20444     5.00  799.00  0.00  799.00  799.00  799.00  799.00  799.00  0.00   \n",
       "WAC0024-A   1.00 1273.98   NaN 1273.98 1273.98 1273.98 1273.98 1273.98  0.00   \n",
       "APP0073     1.00   41.99   NaN   41.99   41.99   41.99   41.99   41.99  0.00   \n",
       "NOM0026     7.00   37.13  1.95   35.99   35.99   35.99   37.99   39.99  2.00   \n",
       "\n",
       "             left   right  range_percent  iqr_percent  left_outliers  \\\n",
       "sku                                                                    \n",
       "AP20202     36.99   36.99           0.00         0.00              0   \n",
       "KUA0015-A    5.04    5.04           0.00         0.00              0   \n",
       "TWS0107-A   34.49   34.49           0.00         0.00              0   \n",
       "XDO0042     19.99   19.99          26.10         0.00              1   \n",
       "KIN0125-2   71.74  229.74          25.14        26.20              0   \n",
       "APP2522     32.25   49.45          10.00        10.53              0   \n",
       "AP20444    799.00  799.00           0.00         0.00              0   \n",
       "WAC0024-A 1273.98 1273.98           0.00         0.00              0   \n",
       "APP0073     41.99   41.99           0.00         0.00              0   \n",
       "NOM0026     32.99   40.99          10.00         5.41              0   \n",
       "\n",
       "           right_outliers  total_outliers  total_outliers_percent  \n",
       "sku                                                                \n",
       "AP20202                 0               0                    0.00  \n",
       "KUA0015-A               0               0                    0.00  \n",
       "TWS0107-A               0               0                    0.00  \n",
       "XDO0042                 1               2                   33.33  \n",
       "KIN0125-2               0               0                    0.00  \n",
       "APP2522                 0               0                    0.00  \n",
       "AP20444                 0               0                    0.00  \n",
       "WAC0024-A               0               0                    0.00  \n",
       "APP0073                 0               0                    0.00  \n",
       "NOM0026                 0               0                    0.00  "
      ]
     },
     "execution_count": 43,
     "metadata": {},
     "output_type": "execute_result"
    }
   ],
   "source": [
    "unit_price_stats.sample(10)"
   ]
  },
  {
   "cell_type": "markdown",
   "id": "4658c27f-2518-44d4-8857-35d18557b459",
   "metadata": {
    "tags": []
   },
   "source": [
    "## Products"
   ]
  },
  {
   "cell_type": "code",
   "execution_count": 44,
   "id": "39a86aaf-a442-46b0-be4a-f31244fab156",
   "metadata": {
    "tags": []
   },
   "outputs": [],
   "source": [
    "# products = products_orig.copy()"
   ]
  },
  {
   "cell_type": "code",
   "execution_count": 45,
   "id": "0021725e-497d-4f88-a599-31d1f4cd9c34",
   "metadata": {
    "tags": []
   },
   "outputs": [
    {
     "data": {
      "text/plain": [
       "8746"
      ]
     },
     "execution_count": 45,
     "metadata": {},
     "output_type": "execute_result"
    }
   ],
   "source": [
    "products.duplicated().sum()"
   ]
  },
  {
   "cell_type": "code",
   "execution_count": 46,
   "id": "b3c378cb-12b2-4696-88fe-ed1ae22f1905",
   "metadata": {
    "tags": []
   },
   "outputs": [],
   "source": [
    "products = products.drop_duplicates()"
   ]
  },
  {
   "cell_type": "code",
   "execution_count": 47,
   "id": "39d4203f-3b59-42a8-bd16-37ad8287802e",
   "metadata": {
    "tags": []
   },
   "outputs": [
    {
     "name": "stdout",
     "output_type": "stream",
     "text": [
      "<class 'pandas.core.frame.DataFrame'>\n",
      "Index: 10643 entries, 0 to 19388\n",
      "Data columns (total 7 columns):\n",
      " #   Column       Non-Null Count  Dtype \n",
      "---  ------       --------------  ----- \n",
      " 0   sku          10643 non-null  object\n",
      " 1   name         10643 non-null  object\n",
      " 2   desc         10636 non-null  object\n",
      " 3   price        10597 non-null  object\n",
      " 4   promo_price  10643 non-null  object\n",
      " 5   in_stock     10643 non-null  int64 \n",
      " 6   type         10530 non-null  object\n",
      "dtypes: int64(1), object(6)\n",
      "memory usage: 665.2+ KB\n"
     ]
    }
   ],
   "source": [
    "products.info()"
   ]
  },
  {
   "cell_type": "markdown",
   "id": "74cb5c60-4bcd-4eef-b0db-4a619eb46ec5",
   "metadata": {},
   "source": [
    "> - `price` and `promo_price` not being numeric points to unexpected data in these columns\n",
    "> - null values in `desc`, `price` and `type`"
   ]
  },
  {
   "cell_type": "code",
   "execution_count": 48,
   "id": "8f4d6ce4-4a3e-44e2-b44d-229c406d9b96",
   "metadata": {
    "tags": []
   },
   "outputs": [
    {
     "data": {
      "text/html": [
       "<div>\n",
       "<style scoped>\n",
       "    .dataframe tbody tr th:only-of-type {\n",
       "        vertical-align: middle;\n",
       "    }\n",
       "\n",
       "    .dataframe tbody tr th {\n",
       "        vertical-align: top;\n",
       "    }\n",
       "\n",
       "    .dataframe thead th {\n",
       "        text-align: right;\n",
       "    }\n",
       "</style>\n",
       "<table border=\"1\" class=\"dataframe\">\n",
       "  <thead>\n",
       "    <tr style=\"text-align: right;\">\n",
       "      <th></th>\n",
       "      <th>in_stock</th>\n",
       "    </tr>\n",
       "  </thead>\n",
       "  <tbody>\n",
       "    <tr>\n",
       "      <th>count</th>\n",
       "      <td>10643.00</td>\n",
       "    </tr>\n",
       "    <tr>\n",
       "      <th>mean</th>\n",
       "      <td>0.19</td>\n",
       "    </tr>\n",
       "    <tr>\n",
       "      <th>std</th>\n",
       "      <td>0.39</td>\n",
       "    </tr>\n",
       "    <tr>\n",
       "      <th>min</th>\n",
       "      <td>0.00</td>\n",
       "    </tr>\n",
       "    <tr>\n",
       "      <th>25%</th>\n",
       "      <td>0.00</td>\n",
       "    </tr>\n",
       "    <tr>\n",
       "      <th>50%</th>\n",
       "      <td>0.00</td>\n",
       "    </tr>\n",
       "    <tr>\n",
       "      <th>75%</th>\n",
       "      <td>0.00</td>\n",
       "    </tr>\n",
       "    <tr>\n",
       "      <th>max</th>\n",
       "      <td>1.00</td>\n",
       "    </tr>\n",
       "  </tbody>\n",
       "</table>\n",
       "</div>"
      ],
      "text/plain": [
       "       in_stock\n",
       "count  10643.00\n",
       "mean       0.19\n",
       "std        0.39\n",
       "min        0.00\n",
       "25%        0.00\n",
       "50%        0.00\n",
       "75%        0.00\n",
       "max        1.00"
      ]
     },
     "execution_count": 48,
     "metadata": {},
     "output_type": "execute_result"
    }
   ],
   "source": [
    "products.describe()"
   ]
  },
  {
   "cell_type": "markdown",
   "id": "8ef714c7-fab5-4511-82f9-02af0c9a1c3a",
   "metadata": {
    "tags": []
   },
   "source": [
    "> The range of [0,1] points to `in_stock` being in fact a boolean column, let's see:"
   ]
  },
  {
   "cell_type": "code",
   "execution_count": 49,
   "id": "7aa12f65-46c7-4437-9775-9fa385e74294",
   "metadata": {
    "tags": []
   },
   "outputs": [
    {
     "data": {
      "text/plain": [
       "array([1, 0])"
      ]
     },
     "execution_count": 49,
     "metadata": {},
     "output_type": "execute_result"
    }
   ],
   "source": [
    "products.in_stock.unique()"
   ]
  },
  {
   "cell_type": "markdown",
   "id": "bf9edfd6-2b6a-4148-b96f-9f8e83603242",
   "metadata": {
    "tags": []
   },
   "source": [
    "> Yes, this should be converted to a boolean (categorical) column."
   ]
  },
  {
   "cell_type": "markdown",
   "id": "50d6fd24-9869-4143-a5ae-d2cd12d98fd1",
   "metadata": {},
   "source": [
    "### Drop products that have never been ordered"
   ]
  },
  {
   "cell_type": "code",
   "execution_count": 50,
   "id": "c84d7239-eccd-4c62-a021-25652742089e",
   "metadata": {
    "tags": []
   },
   "outputs": [
    {
     "name": "stdout",
     "output_type": "stream",
     "text": [
      "Before: 10643\n",
      "After: 6049\n"
     ]
    }
   ],
   "source": [
    "print(f'Before: {len(products)}')\n",
    "products = products[products.sku.isin(set(orderlines.sku))].copy()\n",
    "print(f'After: {len(products)}')"
   ]
  },
  {
   "cell_type": "markdown",
   "id": "070fa189-c0ab-463e-a987-8537aa92dc14",
   "metadata": {},
   "source": [
    "### Fix missing prices"
   ]
  },
  {
   "cell_type": "code",
   "execution_count": 51,
   "id": "c45cfb19-91b6-45ef-935f-fbdf176a5d67",
   "metadata": {
    "tags": []
   },
   "outputs": [
    {
     "data": {
      "text/plain": [
       "16"
      ]
     },
     "execution_count": 51,
     "metadata": {},
     "output_type": "execute_result"
    }
   ],
   "source": [
    "products[products.price.isnull()].pipe(len)"
   ]
  },
  {
   "cell_type": "markdown",
   "id": "eae48d12-7519-4c37-a092-08ba056d6290",
   "metadata": {},
   "source": [
    "> - Fix them using the unit_price max"
   ]
  },
  {
   "cell_type": "code",
   "execution_count": 52,
   "id": "de98848d-0b42-4fd6-85fc-29368383d2a2",
   "metadata": {
    "tags": []
   },
   "outputs": [],
   "source": [
    "products.loc[lambda x: x.price.isnull(), 'price'] = (\n",
    "    products\n",
    "    [lambda x: x.price.isnull()]\n",
    "    .join(unit_price_stats['max'].apply(lambda x: f'{x:.2f}'), on='sku')\n",
    "    ['max']\n",
    ")"
   ]
  },
  {
   "cell_type": "code",
   "execution_count": 53,
   "id": "1dba1498-6d96-4fbc-a792-d710f0d09bc5",
   "metadata": {
    "tags": []
   },
   "outputs": [
    {
     "data": {
      "text/plain": [
       "0"
      ]
     },
     "execution_count": 53,
     "metadata": {},
     "output_type": "execute_result"
    }
   ],
   "source": [
    "products[products.price.isnull()].pipe(len)"
   ]
  },
  {
   "cell_type": "markdown",
   "id": "ec3ded44-d619-4a70-ae7e-1171abdbf77a",
   "metadata": {},
   "source": [
    "> - no missing prices anymore"
   ]
  },
  {
   "cell_type": "markdown",
   "id": "ad338689-f7fa-443a-9d10-95aca4bfea77",
   "metadata": {
    "tags": []
   },
   "source": [
    "### Awkward values in price and promo_price"
   ]
  },
  {
   "cell_type": "code",
   "execution_count": 54,
   "id": "cc237af1-e900-47f5-bf1e-b3c0b46e524d",
   "metadata": {
    "tags": []
   },
   "outputs": [
    {
     "data": {
      "text/html": [
       "<div>\n",
       "<style scoped>\n",
       "    .dataframe tbody tr th:only-of-type {\n",
       "        vertical-align: middle;\n",
       "    }\n",
       "\n",
       "    .dataframe tbody tr th {\n",
       "        vertical-align: top;\n",
       "    }\n",
       "\n",
       "    .dataframe thead th {\n",
       "        text-align: right;\n",
       "    }\n",
       "</style>\n",
       "<table border=\"1\" class=\"dataframe\">\n",
       "  <thead>\n",
       "    <tr style=\"text-align: right;\">\n",
       "      <th></th>\n",
       "      <th>price</th>\n",
       "      <th>count</th>\n",
       "      <th>proportion</th>\n",
       "    </tr>\n",
       "  </thead>\n",
       "  <tbody>\n",
       "    <tr>\n",
       "      <th>0</th>\n",
       "      <td>False</td>\n",
       "      <td>5875</td>\n",
       "      <td>0.97</td>\n",
       "    </tr>\n",
       "    <tr>\n",
       "      <th>1</th>\n",
       "      <td>True</td>\n",
       "      <td>174</td>\n",
       "      <td>0.03</td>\n",
       "    </tr>\n",
       "  </tbody>\n",
       "</table>\n",
       "</div>"
      ],
      "text/plain": [
       "   price  count  proportion\n",
       "0  False   5875        0.97\n",
       "1   True    174        0.03"
      ]
     },
     "execution_count": 54,
     "metadata": {},
     "output_type": "execute_result"
    }
   ],
   "source": [
    "value_counts_and_proportion(products.price.str.fullmatch(r'.*\\.\\d\\d\\d'))"
   ]
  },
  {
   "cell_type": "code",
   "execution_count": 55,
   "id": "27ff6a2f-c855-4023-8e02-6df6671fa967",
   "metadata": {
    "tags": []
   },
   "outputs": [
    {
     "data": {
      "text/html": [
       "<div>\n",
       "<style scoped>\n",
       "    .dataframe tbody tr th:only-of-type {\n",
       "        vertical-align: middle;\n",
       "    }\n",
       "\n",
       "    .dataframe tbody tr th {\n",
       "        vertical-align: top;\n",
       "    }\n",
       "\n",
       "    .dataframe thead th {\n",
       "        text-align: right;\n",
       "    }\n",
       "</style>\n",
       "<table border=\"1\" class=\"dataframe\">\n",
       "  <thead>\n",
       "    <tr style=\"text-align: right;\">\n",
       "      <th></th>\n",
       "      <th>sku</th>\n",
       "      <th>name</th>\n",
       "      <th>desc</th>\n",
       "      <th>price</th>\n",
       "      <th>promo_price</th>\n",
       "      <th>in_stock</th>\n",
       "      <th>type</th>\n",
       "    </tr>\n",
       "  </thead>\n",
       "  <tbody>\n",
       "    <tr>\n",
       "      <th>15658</th>\n",
       "      <td>WAC0235</td>\n",
       "      <td>Wacom Intuos 4 Case Transport size S</td>\n",
       "      <td>Carrying case for graphics tablet Intuos 4 S</td>\n",
       "      <td>1.999.041</td>\n",
       "      <td>199.904</td>\n",
       "      <td>0</td>\n",
       "      <td>101781405</td>\n",
       "    </tr>\n",
       "    <tr>\n",
       "      <th>18695</th>\n",
       "      <td>MUJ0028-A</td>\n",
       "      <td>Open - Mujjo Full Leather Wallet Case iPhone X...</td>\n",
       "      <td>Case reconditioned ultrafine material with car...</td>\n",
       "      <td>44.9</td>\n",
       "      <td>260.468</td>\n",
       "      <td>0</td>\n",
       "      <td>11865403</td>\n",
       "    </tr>\n",
       "    <tr>\n",
       "      <th>2845</th>\n",
       "      <td>KIN0123</td>\n",
       "      <td>Travelstar Kingston Pen Drive 3C Duo micro USB...</td>\n",
       "      <td>64GB pendrive reversible USB-C to USB for Mac ...</td>\n",
       "      <td>302.803</td>\n",
       "      <td>302.803</td>\n",
       "      <td>0</td>\n",
       "      <td>57445397</td>\n",
       "    </tr>\n",
       "    <tr>\n",
       "      <th>18405</th>\n",
       "      <td>FIB0011</td>\n",
       "      <td>Fibaro Single Switch embedded module</td>\n",
       "      <td>embedded module to control your consumption ou...</td>\n",
       "      <td>599.918</td>\n",
       "      <td>599.918</td>\n",
       "      <td>0</td>\n",
       "      <td>11905404</td>\n",
       "    </tr>\n",
       "    <tr>\n",
       "      <th>15041</th>\n",
       "      <td>WAC0224</td>\n",
       "      <td>Wacom Intuos Pro South L Graphics Tablet</td>\n",
       "      <td>Bluetooth includes large graphics tablet Intuo...</td>\n",
       "      <td>529.9</td>\n",
       "      <td>4.899.895</td>\n",
       "      <td>0</td>\n",
       "      <td>1405</td>\n",
       "    </tr>\n",
       "  </tbody>\n",
       "</table>\n",
       "</div>"
      ],
      "text/plain": [
       "             sku                                               name  \\\n",
       "15658    WAC0235               Wacom Intuos 4 Case Transport size S   \n",
       "18695  MUJ0028-A  Open - Mujjo Full Leather Wallet Case iPhone X...   \n",
       "2845     KIN0123  Travelstar Kingston Pen Drive 3C Duo micro USB...   \n",
       "18405    FIB0011               Fibaro Single Switch embedded module   \n",
       "15041    WAC0224           Wacom Intuos Pro South L Graphics Tablet   \n",
       "\n",
       "                                                    desc      price  \\\n",
       "15658       Carrying case for graphics tablet Intuos 4 S  1.999.041   \n",
       "18695  Case reconditioned ultrafine material with car...       44.9   \n",
       "2845   64GB pendrive reversible USB-C to USB for Mac ...    302.803   \n",
       "18405  embedded module to control your consumption ou...    599.918   \n",
       "15041  Bluetooth includes large graphics tablet Intuo...      529.9   \n",
       "\n",
       "      promo_price  in_stock       type  \n",
       "15658     199.904         0  101781405  \n",
       "18695     260.468         0   11865403  \n",
       "2845      302.803         0   57445397  \n",
       "18405     599.918         0   11905404  \n",
       "15041   4.899.895         0       1405  "
      ]
     },
     "execution_count": 55,
     "metadata": {},
     "output_type": "execute_result"
    }
   ],
   "source": [
    "products[~products.price.str.fullmatch(r'\\d+(\\.\\d\\d)?').fillna(True)].sample(5)"
   ]
  },
  {
   "cell_type": "code",
   "execution_count": 56,
   "id": "5694bfff-ef61-4761-b47c-17c5c94fea98",
   "metadata": {
    "tags": []
   },
   "outputs": [
    {
     "data": {
      "text/html": [
       "<div>\n",
       "<style scoped>\n",
       "    .dataframe tbody tr th:only-of-type {\n",
       "        vertical-align: middle;\n",
       "    }\n",
       "\n",
       "    .dataframe tbody tr th {\n",
       "        vertical-align: top;\n",
       "    }\n",
       "\n",
       "    .dataframe thead th {\n",
       "        text-align: right;\n",
       "    }\n",
       "</style>\n",
       "<table border=\"1\" class=\"dataframe\">\n",
       "  <thead>\n",
       "    <tr style=\"text-align: right;\">\n",
       "      <th></th>\n",
       "      <th>promo_price</th>\n",
       "      <th>count</th>\n",
       "      <th>proportion</th>\n",
       "    </tr>\n",
       "  </thead>\n",
       "  <tbody>\n",
       "    <tr>\n",
       "      <th>0</th>\n",
       "      <td>True</td>\n",
       "      <td>5501</td>\n",
       "      <td>0.91</td>\n",
       "    </tr>\n",
       "    <tr>\n",
       "      <th>1</th>\n",
       "      <td>False</td>\n",
       "      <td>548</td>\n",
       "      <td>0.09</td>\n",
       "    </tr>\n",
       "  </tbody>\n",
       "</table>\n",
       "</div>"
      ],
      "text/plain": [
       "   promo_price  count  proportion\n",
       "0         True   5501        0.91\n",
       "1        False    548        0.09"
      ]
     },
     "execution_count": 56,
     "metadata": {},
     "output_type": "execute_result"
    }
   ],
   "source": [
    "value_counts_and_proportion(products.promo_price.str.fullmatch(r'.*\\.\\d\\d\\d'))"
   ]
  },
  {
   "cell_type": "code",
   "execution_count": 57,
   "id": "8bb0aa12-b24f-4d73-8ed8-51d9aeb95fb7",
   "metadata": {
    "tags": []
   },
   "outputs": [
    {
     "data": {
      "text/plain": [
       "16045       1729\n",
       "14031       3559\n",
       "15661     149.99\n",
       "2775       24.99\n",
       "16973     189.99\n",
       "2608          99\n",
       "1756       69.99\n",
       "13685     149.95\n",
       "73        181.99\n",
       "12016      79.99\n",
       "19171        199\n",
       "16807     439.98\n",
       "17343      89.99\n",
       "11504     540.98\n",
       "13471         45\n",
       "12943      99.99\n",
       "11847         99\n",
       "2643      142.99\n",
       "17911    1801.31\n",
       "15193       69.9\n",
       "Name: price, dtype: object"
      ]
     },
     "execution_count": 57,
     "metadata": {},
     "output_type": "execute_result"
    }
   ],
   "source": [
    "products.price.sample(20)"
   ]
  },
  {
   "cell_type": "code",
   "execution_count": 58,
   "id": "08cba5dd-8541-424f-9920-030783b76355",
   "metadata": {
    "tags": []
   },
   "outputs": [
    {
     "data": {
      "text/html": [
       "<div>\n",
       "<style scoped>\n",
       "    .dataframe tbody tr th:only-of-type {\n",
       "        vertical-align: middle;\n",
       "    }\n",
       "\n",
       "    .dataframe tbody tr th {\n",
       "        vertical-align: top;\n",
       "    }\n",
       "\n",
       "    .dataframe thead th {\n",
       "        text-align: right;\n",
       "    }\n",
       "</style>\n",
       "<table border=\"1\" class=\"dataframe\">\n",
       "  <thead>\n",
       "    <tr style=\"text-align: right;\">\n",
       "      <th></th>\n",
       "      <th>sku</th>\n",
       "      <th>name</th>\n",
       "      <th>desc</th>\n",
       "      <th>price</th>\n",
       "      <th>promo_price</th>\n",
       "      <th>in_stock</th>\n",
       "      <th>type</th>\n",
       "    </tr>\n",
       "  </thead>\n",
       "  <tbody>\n",
       "    <tr>\n",
       "      <th>11899</th>\n",
       "      <td>QDO0012</td>\n",
       "      <td>QDOS OptiGuard Titanium protector iPhone 6s Pl...</td>\n",
       "      <td>Crystal screen protector with metal finishing ...</td>\n",
       "      <td>24.99</td>\n",
       "      <td>119.899</td>\n",
       "      <td>0</td>\n",
       "      <td>13555403</td>\n",
       "    </tr>\n",
       "    <tr>\n",
       "      <th>13389</th>\n",
       "      <td>APP1679</td>\n",
       "      <td>Apple iPhone Silicone Case Cover Red 8/7</td>\n",
       "      <td>Ultrathin silicone case and microfiber premium...</td>\n",
       "      <td>39</td>\n",
       "      <td>330.003</td>\n",
       "      <td>0</td>\n",
       "      <td>11865403</td>\n",
       "    </tr>\n",
       "    <tr>\n",
       "      <th>15229</th>\n",
       "      <td>ELA0017</td>\n",
       "      <td>elago H Headphones Support Stand Gray Space</td>\n",
       "      <td>elegant stand with aluminum finish headphone</td>\n",
       "      <td>32.99</td>\n",
       "      <td>313.402</td>\n",
       "      <td>1</td>\n",
       "      <td>5384</td>\n",
       "    </tr>\n",
       "    <tr>\n",
       "      <th>18037</th>\n",
       "      <td>APP2553</td>\n",
       "      <td>Apple iPhone Silicone Case Cover X Rosa Arena</td>\n",
       "      <td>Silicone Case Apple official</td>\n",
       "      <td>45</td>\n",
       "      <td>429.998</td>\n",
       "      <td>0</td>\n",
       "      <td>11865403</td>\n",
       "    </tr>\n",
       "    <tr>\n",
       "      <th>484</th>\n",
       "      <td>OWC0054-3</td>\n",
       "      <td>Mac OWC 6GB memory (2GB 4GB +) DDR2 667MHz SO-...</td>\n",
       "      <td>6GB RAM (4GB + 2GB) Mac mini and iMac (2006/07...</td>\n",
       "      <td>138.98</td>\n",
       "      <td>1.329.899</td>\n",
       "      <td>1</td>\n",
       "      <td>1364</td>\n",
       "    </tr>\n",
       "    <tr>\n",
       "      <th>18540</th>\n",
       "      <td>AP20426</td>\n",
       "      <td>Like new - Apple Mac mini Core i5 14GHz | 8GB ...</td>\n",
       "      <td>PC Mac mini Core i5 8GB RAM and 500GB 14GHz</td>\n",
       "      <td>675.59</td>\n",
       "      <td>5.413.939</td>\n",
       "      <td>0</td>\n",
       "      <td>1282</td>\n",
       "    </tr>\n",
       "    <tr>\n",
       "      <th>12683</th>\n",
       "      <td>MOP0072</td>\n",
       "      <td>Mophie Juice Pack Reserve Battery Case 1840 mA...</td>\n",
       "      <td>Case 1840 mAh battery and LED indicator for iP...</td>\n",
       "      <td>69.95</td>\n",
       "      <td>349.896</td>\n",
       "      <td>0</td>\n",
       "      <td>5,49E+11</td>\n",
       "    </tr>\n",
       "    <tr>\n",
       "      <th>869</th>\n",
       "      <td>LOG0107</td>\n",
       "      <td>Logitech M187 Wireless Mouse White</td>\n",
       "      <td>Mini Wireless Pocket Mouse.</td>\n",
       "      <td>20.99</td>\n",
       "      <td>199.904</td>\n",
       "      <td>0</td>\n",
       "      <td>1387</td>\n",
       "    </tr>\n",
       "    <tr>\n",
       "      <th>12985</th>\n",
       "      <td>TPL0024</td>\n",
       "      <td>TP-Link TL-MR6400 Router 4G Wi-Fi N 300Mbps</td>\n",
       "      <td>N wifi router (24GHz) 300Mbps wireless speed</td>\n",
       "      <td>156.09</td>\n",
       "      <td>109.989</td>\n",
       "      <td>0</td>\n",
       "      <td>1334</td>\n",
       "    </tr>\n",
       "    <tr>\n",
       "      <th>12723</th>\n",
       "      <td>WDT0317</td>\n",
       "      <td>WD My Cloud EX2 Ultra Mac and PC Server NAS</td>\n",
       "      <td>2-bay NAS 1GB RAM for Mac and PC</td>\n",
       "      <td>169.99</td>\n",
       "      <td>1.391.899</td>\n",
       "      <td>0</td>\n",
       "      <td>11935397</td>\n",
       "    </tr>\n",
       "    <tr>\n",
       "      <th>16160</th>\n",
       "      <td>SSE0007</td>\n",
       "      <td>Intelligent wireless thermometer Sen.se Thermo...</td>\n",
       "      <td>Bluetooth thermometer measures the temperature...</td>\n",
       "      <td>29.99</td>\n",
       "      <td>179.903</td>\n",
       "      <td>0</td>\n",
       "      <td>11905404</td>\n",
       "    </tr>\n",
       "    <tr>\n",
       "      <th>2374</th>\n",
       "      <td>MOS0158</td>\n",
       "      <td>Moshi iVisorGlass Protector iPhone 6 Plus White</td>\n",
       "      <td>Screen saver superfine glass iPhone 6 Plus.</td>\n",
       "      <td>34.99</td>\n",
       "      <td>339.889</td>\n",
       "      <td>0</td>\n",
       "      <td>13555403</td>\n",
       "    </tr>\n",
       "    <tr>\n",
       "      <th>10993</th>\n",
       "      <td>BNQ0044</td>\n",
       "      <td>LED Monitor Benq GW2270H 215 \"HDMI</td>\n",
       "      <td>LED 215-inch monitor flicker-free technology a...</td>\n",
       "      <td>104.99</td>\n",
       "      <td>1.089.992</td>\n",
       "      <td>0</td>\n",
       "      <td>1296</td>\n",
       "    </tr>\n",
       "    <tr>\n",
       "      <th>17221</th>\n",
       "      <td>APP2013</td>\n",
       "      <td>Apple iPad Smart Cover Case White</td>\n",
       "      <td>smart cover with different positions for iPad ...</td>\n",
       "      <td>45</td>\n",
       "      <td>420.003</td>\n",
       "      <td>0</td>\n",
       "      <td>12635403</td>\n",
       "    </tr>\n",
       "    <tr>\n",
       "      <th>14506</th>\n",
       "      <td>SYN0132-A</td>\n",
       "      <td>Open - Synology RT1900AC Wifi Router AC 1900</td>\n",
       "      <td>ac Wifi Wireless Router with Synology SRM inte...</td>\n",
       "      <td>136.99</td>\n",
       "      <td>1.359.895</td>\n",
       "      <td>0</td>\n",
       "      <td>1298</td>\n",
       "    </tr>\n",
       "    <tr>\n",
       "      <th>1621</th>\n",
       "      <td>TWS0077</td>\n",
       "      <td>Twelve South SurfacePad iPhone 6 Plus Case Black</td>\n",
       "      <td>zippered sleeve type card case book for iPhone...</td>\n",
       "      <td>59.99</td>\n",
       "      <td>499.851</td>\n",
       "      <td>0</td>\n",
       "      <td>11865403</td>\n",
       "    </tr>\n",
       "    <tr>\n",
       "      <th>16121</th>\n",
       "      <td>AKI0020</td>\n",
       "      <td>Akitio Thunder2 QUAD Box Mini External thunder...</td>\n",
       "      <td>external enclosure 25 inch discs Thunderbolt 2...</td>\n",
       "      <td>393</td>\n",
       "      <td>369.989</td>\n",
       "      <td>0</td>\n",
       "      <td>12995397</td>\n",
       "    </tr>\n",
       "    <tr>\n",
       "      <th>16040</th>\n",
       "      <td>AP20108</td>\n",
       "      <td>Like new - Apple iPad Smart Cover Case Mini / ...</td>\n",
       "      <td>Smart leather case for your iPad Mini (Refurbi...</td>\n",
       "      <td>79</td>\n",
       "      <td>329.894</td>\n",
       "      <td>0</td>\n",
       "      <td>12635403</td>\n",
       "    </tr>\n",
       "    <tr>\n",
       "      <th>3095</th>\n",
       "      <td>ELG0038</td>\n",
       "      <td>Elgato Eve Wireless Weather Sensor External</td>\n",
       "      <td>Pressure sensor air temperature and humidity f...</td>\n",
       "      <td>49.95</td>\n",
       "      <td>479.898</td>\n",
       "      <td>1</td>\n",
       "      <td>11905404</td>\n",
       "    </tr>\n",
       "    <tr>\n",
       "      <th>1122</th>\n",
       "      <td>NTE0072</td>\n",
       "      <td>NewerTech Lightning to USB Cable 1m White</td>\n",
       "      <td>Lightning USB cable 1 meter to charge and sync...</td>\n",
       "      <td>29.99</td>\n",
       "      <td>149.895</td>\n",
       "      <td>0</td>\n",
       "      <td>1230</td>\n",
       "    </tr>\n",
       "  </tbody>\n",
       "</table>\n",
       "</div>"
      ],
      "text/plain": [
       "             sku                                               name  \\\n",
       "11899    QDO0012  QDOS OptiGuard Titanium protector iPhone 6s Pl...   \n",
       "13389    APP1679           Apple iPhone Silicone Case Cover Red 8/7   \n",
       "15229    ELA0017        elago H Headphones Support Stand Gray Space   \n",
       "18037    APP2553      Apple iPhone Silicone Case Cover X Rosa Arena   \n",
       "484    OWC0054-3  Mac OWC 6GB memory (2GB 4GB +) DDR2 667MHz SO-...   \n",
       "18540    AP20426  Like new - Apple Mac mini Core i5 14GHz | 8GB ...   \n",
       "12683    MOP0072  Mophie Juice Pack Reserve Battery Case 1840 mA...   \n",
       "869      LOG0107                 Logitech M187 Wireless Mouse White   \n",
       "12985    TPL0024        TP-Link TL-MR6400 Router 4G Wi-Fi N 300Mbps   \n",
       "12723    WDT0317        WD My Cloud EX2 Ultra Mac and PC Server NAS   \n",
       "16160    SSE0007  Intelligent wireless thermometer Sen.se Thermo...   \n",
       "2374     MOS0158    Moshi iVisorGlass Protector iPhone 6 Plus White   \n",
       "10993    BNQ0044                 LED Monitor Benq GW2270H 215 \"HDMI   \n",
       "17221    APP2013                  Apple iPad Smart Cover Case White   \n",
       "14506  SYN0132-A       Open - Synology RT1900AC Wifi Router AC 1900   \n",
       "1621     TWS0077   Twelve South SurfacePad iPhone 6 Plus Case Black   \n",
       "16121    AKI0020  Akitio Thunder2 QUAD Box Mini External thunder...   \n",
       "16040    AP20108  Like new - Apple iPad Smart Cover Case Mini / ...   \n",
       "3095     ELG0038        Elgato Eve Wireless Weather Sensor External   \n",
       "1122     NTE0072          NewerTech Lightning to USB Cable 1m White   \n",
       "\n",
       "                                                    desc   price promo_price  \\\n",
       "11899  Crystal screen protector with metal finishing ...   24.99     119.899   \n",
       "13389  Ultrathin silicone case and microfiber premium...      39     330.003   \n",
       "15229       elegant stand with aluminum finish headphone   32.99     313.402   \n",
       "18037                       Silicone Case Apple official      45     429.998   \n",
       "484    6GB RAM (4GB + 2GB) Mac mini and iMac (2006/07...  138.98   1.329.899   \n",
       "18540        PC Mac mini Core i5 8GB RAM and 500GB 14GHz  675.59   5.413.939   \n",
       "12683  Case 1840 mAh battery and LED indicator for iP...   69.95     349.896   \n",
       "869                          Mini Wireless Pocket Mouse.   20.99     199.904   \n",
       "12985       N wifi router (24GHz) 300Mbps wireless speed  156.09     109.989   \n",
       "12723                   2-bay NAS 1GB RAM for Mac and PC  169.99   1.391.899   \n",
       "16160  Bluetooth thermometer measures the temperature...   29.99     179.903   \n",
       "2374         Screen saver superfine glass iPhone 6 Plus.   34.99     339.889   \n",
       "10993  LED 215-inch monitor flicker-free technology a...  104.99   1.089.992   \n",
       "17221  smart cover with different positions for iPad ...      45     420.003   \n",
       "14506  ac Wifi Wireless Router with Synology SRM inte...  136.99   1.359.895   \n",
       "1621   zippered sleeve type card case book for iPhone...   59.99     499.851   \n",
       "16121  external enclosure 25 inch discs Thunderbolt 2...     393     369.989   \n",
       "16040  Smart leather case for your iPad Mini (Refurbi...      79     329.894   \n",
       "3095   Pressure sensor air temperature and humidity f...   49.95     479.898   \n",
       "1122   Lightning USB cable 1 meter to charge and sync...   29.99     149.895   \n",
       "\n",
       "       in_stock      type  \n",
       "11899         0  13555403  \n",
       "13389         0  11865403  \n",
       "15229         1      5384  \n",
       "18037         0  11865403  \n",
       "484           1      1364  \n",
       "18540         0      1282  \n",
       "12683         0  5,49E+11  \n",
       "869           0      1387  \n",
       "12985         0      1334  \n",
       "12723         0  11935397  \n",
       "16160         0  11905404  \n",
       "2374          0  13555403  \n",
       "10993         0      1296  \n",
       "17221         0  12635403  \n",
       "14506         0      1298  \n",
       "1621          0  11865403  \n",
       "16121         0  12995397  \n",
       "16040         0  12635403  \n",
       "3095          1  11905404  \n",
       "1122          0      1230  "
      ]
     },
     "execution_count": 58,
     "metadata": {},
     "output_type": "execute_result"
    }
   ],
   "source": [
    "products[~products.promo_price.str.fullmatch(r'\\d+(\\.\\d\\d)?').fillna(True)].sample(20)"
   ]
  },
  {
   "cell_type": "markdown",
   "id": "5e95e6ac-0c90-4b7d-8172-b3c947908e9b",
   "metadata": {},
   "source": [
    "> - most `promo_price` values are completely out of range, have three decimals and two decimal dots\n",
    "> - same corruption is also seen in `price` but not as often\n",
    "> - values in the price columns that have two or less decimals only have a single dot and seem reasonable"
   ]
  },
  {
   "cell_type": "markdown",
   "id": "f737aab1-f795-40e9-bb71-a655d70eb624",
   "metadata": {},
   "source": [
    "### Are prices with two decimals or less reasonable?"
   ]
  },
  {
   "cell_type": "code",
   "execution_count": 59,
   "id": "6685878c-3442-4650-91bb-f087ce39dee6",
   "metadata": {
    "tags": []
   },
   "outputs": [],
   "source": [
    "THREEDECIMALS = r'.*\\.\\d\\d\\d'"
   ]
  },
  {
   "cell_type": "code",
   "execution_count": 60,
   "id": "8f352a60-7c6d-457f-a0c5-b1d94761dc5d",
   "metadata": {
    "tags": []
   },
   "outputs": [
    {
     "data": {
      "text/plain": [
       "0"
      ]
     },
     "execution_count": 60,
     "metadata": {},
     "output_type": "execute_result"
    }
   ],
   "source": [
    "(\n",
    "    products\n",
    "    [lambda x: ~x.price.isna()]\n",
    "    [lambda x: ~x.price.str.fullmatch(THREEDECIMALS)]\n",
    "    .assign(price_f=lambda x:pd.to_numeric(x.price, errors='coerce'))\n",
    "    [lambda x: x.price_f.isna()]\n",
    "    .pipe(len)\n",
    ")"
   ]
  },
  {
   "cell_type": "markdown",
   "id": "01b2661b-4bfd-4cf3-8540-86aa048c0767",
   "metadata": {},
   "source": [
    "> - Yes, all those prices can be parsed as floats\n",
    "\n",
    "#### Are they as expected in comparison to the `unit_price` from `orderlines`?"
   ]
  },
  {
   "cell_type": "code",
   "execution_count": 61,
   "id": "cf3473e1-9ae2-4e04-b05d-a4256d3c8f51",
   "metadata": {
    "tags": []
   },
   "outputs": [
    {
     "data": {
      "text/html": [
       "<div>\n",
       "<style scoped>\n",
       "    .dataframe tbody tr th:only-of-type {\n",
       "        vertical-align: middle;\n",
       "    }\n",
       "\n",
       "    .dataframe tbody tr th {\n",
       "        vertical-align: top;\n",
       "    }\n",
       "\n",
       "    .dataframe thead th {\n",
       "        text-align: right;\n",
       "    }\n",
       "</style>\n",
       "<table border=\"1\" class=\"dataframe\">\n",
       "  <thead>\n",
       "    <tr style=\"text-align: right;\">\n",
       "      <th></th>\n",
       "      <th>list_price_category</th>\n",
       "      <th>count</th>\n",
       "      <th>proportion</th>\n",
       "    </tr>\n",
       "  </thead>\n",
       "  <tbody>\n",
       "    <tr>\n",
       "      <th>0</th>\n",
       "      <td>above</td>\n",
       "      <td>4991</td>\n",
       "      <td>0.85</td>\n",
       "    </tr>\n",
       "    <tr>\n",
       "      <th>1</th>\n",
       "      <td>between</td>\n",
       "      <td>830</td>\n",
       "      <td>0.14</td>\n",
       "    </tr>\n",
       "    <tr>\n",
       "      <th>2</th>\n",
       "      <td>below</td>\n",
       "      <td>54</td>\n",
       "      <td>0.01</td>\n",
       "    </tr>\n",
       "  </tbody>\n",
       "</table>\n",
       "</div>"
      ],
      "text/plain": [
       "  list_price_category  count  proportion\n",
       "0               above   4991        0.85\n",
       "1             between    830        0.14\n",
       "2               below     54        0.01"
      ]
     },
     "metadata": {},
     "output_type": "display_data"
    },
    {
     "data": {
      "text/plain": [
       "array([[<Axes: title={'center': 'min_order_p'}>,\n",
       "        <Axes: title={'center': 'max_order_p'}>]], dtype=object)"
      ]
     },
     "execution_count": 61,
     "metadata": {},
     "output_type": "execute_result"
    },
    {
     "data": {
      "image/png": "[encoded data removed]",
      "text/plain": [
       "<Figure size 2000x500 with 2 Axes>"
      ]
     },
     "metadata": {},
     "output_type": "display_data"
    }
   ],
   "source": [
    "(\n",
    "    products\n",
    "    [lambda x: ~x.price.isna()]\n",
    "    [lambda x: ~x.price.str.fullmatch(THREEDECIMALS)]\n",
    "    .drop(columns=['in_stock','promo_price','type'])\n",
    "    .assign(price=lambda x: pd.to_numeric(x.price))\n",
    "    .join(unit_price_stats[['min','max']].rename(columns={'min': 'min_order', 'max': 'max_order'}), on='sku')\n",
    "    #.join(unit_price_stats[['count','25%','75%']].rename(columns={'count': 'orders', '25%': 'min_order', '75%': 'max_order'}), on='sku')\n",
    "    .assign(\n",
    "        min_order_p = lambda x: x.min_order / x.price * 100,\n",
    "        max_order_p = lambda x: x.max_order / x.price * 100,\n",
    "        list_price_category = lambda x: np.select(\n",
    "            [x.price < x.min_order, x.price <= x.max_order],\n",
    "            ['below', 'between'],\n",
    "            default='above')\n",
    "    )\n",
    "    .pipe(lambda x: [display(value_counts_and_proportion(x.list_price_category)), x][-1])\n",
    "    [['min_order_p', 'max_order_p']]\n",
    "    .hist(bins=[-2.5 + x for x in range(0,120,5)], figsize=(20,5))\n",
    ")"
   ]
  },
  {
   "cell_type": "markdown",
   "id": "28543f51-d52a-4191-a647-bea75c11f85d",
   "metadata": {},
   "source": [
    "> - most prices are clearly above the observed sales prices\n",
    "> - in that sense, most products are always sold discounted\n",
    "> - this does not really say whether they are temporarily discounted and allow to analyze discount impact"
   ]
  },
  {
   "cell_type": "markdown",
   "id": "f177b65a-32e3-493e-9d98-21a5628846de",
   "metadata": {},
   "source": [
    "### Fix-up broken (three-decimal) `price` / `promo_price`"
   ]
  },
  {
   "cell_type": "markdown",
   "id": "40a14eff",
   "metadata": {},
   "source": [
    "The approach for fixing the corrupted prices is assuming that the prices make sense in terms of the digits but that the decimal points are wrong. So, we remove the decimal point and determine the order of magnitude and consequently the new position for the decimal point from reference values. To do this, we use logarithm and exponentiation with base 10.\n",
    "\n",
    "In the case of broken `price`, we are using the minimum and maximum observed unit-price from sales as the reference.\n",
    "\n",
    "In the case of broken `promo_price`, we are using the (fixed) `price` and observed minimum unit-price from sales as the reference and use some heuristics two prevent unplausibly high or low `promo_price`."
   ]
  },
  {
   "cell_type": "code",
   "execution_count": 62,
   "id": "ae43b9dd-e254-49e5-83a8-b084ce38edb1",
   "metadata": {
    "tags": []
   },
   "outputs": [],
   "source": [
    "def fixup_price(p, min_ref: float, max_ref: float):\n",
    "    if not isinstance(p, str):\n",
    "        return p\n",
    "    if not re.fullmatch(THREEDECIMALS, p):\n",
    "        return float(p)\n",
    "    p = float(p.replace('.',''))\n",
    "    fix_max = round(math.log10(max_ref*2/p))\n",
    "    fix_min = round(math.log10(min_ref/2/p))\n",
    "    p = p * (10 ** max([fix_min, fix_max]))\n",
    "    return p\n",
    "\n",
    "def fixup_promo_price(p, price_ref: float, min_ref: float):\n",
    "    if not isinstance(p, str):\n",
    "        return p\n",
    "    if not re.fullmatch(THREEDECIMALS, p):\n",
    "        return float(p)\n",
    "    if np.isnan(price_ref):\n",
    "        price_ref = min_ref\n",
    "    p = float(p.replace('.',''))\n",
    "    p *= 10 ** round(math.log10(price_ref/p))\n",
    "    if not np.isnan(price_ref) and p > price_ref:\n",
    "        p /= 10\n",
    "    if p < min_ref/5:\n",
    "        p *= 10\n",
    "    return p"
   ]
  },
  {
   "cell_type": "markdown",
   "id": "e805d67f",
   "metadata": {},
   "source": [
    "Apply the fix-up functions:"
   ]
  },
  {
   "cell_type": "code",
   "execution_count": 63,
   "id": "38fb99fe-09f8-40eb-adea-ea0ee1205d76",
   "metadata": {
    "tags": []
   },
   "outputs": [],
   "source": [
    "products = (\n",
    "    products\n",
    "    .assign(price_f = lambda x: x.apply(lambda r: fixup_price(r.price, *unit_price_stats.loc[r.sku, ['min', 'max']].to_list()), axis=1))\n",
    "    .assign(promo_price_f = lambda x: x.apply(lambda r: fixup_promo_price(r.promo_price, r.price_f, unit_price_stats.loc[r.sku, 'min']), axis=1))\n",
    "    .infer_objects()\n",
    ")"
   ]
  },
  {
   "cell_type": "markdown",
   "id": "fbe64eac",
   "metadata": {},
   "source": [
    "Do a quality check on the fixed-up prices: Are they in the expected range w.r.t. observed sales prices?"
   ]
  },
  {
   "cell_type": "code",
   "execution_count": 64,
   "id": "27fb49f3-b32f-4b6a-bd8f-d9646e9b5750",
   "metadata": {
    "tags": []
   },
   "outputs": [
    {
     "data": {
      "text/html": [
       "<div>\n",
       "<style scoped>\n",
       "    .dataframe tbody tr th:only-of-type {\n",
       "        vertical-align: middle;\n",
       "    }\n",
       "\n",
       "    .dataframe tbody tr th {\n",
       "        vertical-align: top;\n",
       "    }\n",
       "\n",
       "    .dataframe thead th {\n",
       "        text-align: right;\n",
       "    }\n",
       "</style>\n",
       "<table border=\"1\" class=\"dataframe\">\n",
       "  <thead>\n",
       "    <tr style=\"text-align: right;\">\n",
       "      <th></th>\n",
       "      <th>price_f_good</th>\n",
       "      <th>promo_price_f_good</th>\n",
       "      <th>count</th>\n",
       "      <th>proportion</th>\n",
       "    </tr>\n",
       "  </thead>\n",
       "  <tbody>\n",
       "    <tr>\n",
       "      <th>0</th>\n",
       "      <td>True</td>\n",
       "      <td>True</td>\n",
       "      <td>6034</td>\n",
       "      <td>1.00</td>\n",
       "    </tr>\n",
       "    <tr>\n",
       "      <th>1</th>\n",
       "      <td>True</td>\n",
       "      <td>False</td>\n",
       "      <td>13</td>\n",
       "      <td>0.00</td>\n",
       "    </tr>\n",
       "    <tr>\n",
       "      <th>2</th>\n",
       "      <td>False</td>\n",
       "      <td>True</td>\n",
       "      <td>2</td>\n",
       "      <td>0.00</td>\n",
       "    </tr>\n",
       "  </tbody>\n",
       "</table>\n",
       "</div>"
      ],
      "text/plain": [
       "   price_f_good  promo_price_f_good  count  proportion\n",
       "0          True                True   6034        1.00\n",
       "1          True               False     13        0.00\n",
       "2         False                True      2        0.00"
      ]
     },
     "execution_count": 64,
     "metadata": {},
     "output_type": "execute_result"
    }
   ],
   "source": [
    "(\n",
    "    products\n",
    "    .drop(columns=['in_stock', 'type'])\n",
    "    .join(\n",
    "        unit_price_stats\n",
    "        [['min','max']]\n",
    "        .rename(columns={'min': 'min_unit_price', 'max': 'max_unit_price'}),\n",
    "        on='sku')\n",
    "    .assign(\n",
    "        price_f_good=lambda x:\n",
    "            ~x.price.str.fullmatch(THREEDECIMALS) |\n",
    "            x.price_f.between(x.min_unit_price * 0.8, x.max_unit_price * 2),\n",
    "        promo_price_f_good=lambda x:\n",
    "            (x.promo_price_f < x.max_unit_price * 2)\n",
    "            & (x.promo_price_f < x.price_f * 1.5)\n",
    "    )\n",
    "    [['price_f_good','promo_price_f_good']]\n",
    "    .pipe(value_counts_and_proportion)\n",
    ")"
   ]
  },
  {
   "cell_type": "markdown",
   "id": "f44bc295-7a2c-4af7-9e1d-8153f60df201",
   "metadata": {},
   "source": [
    "> - visual check reveals, the ones flagged as bad are in fact acceptable"
   ]
  },
  {
   "cell_type": "code",
   "execution_count": 65,
   "id": "3fa9cdb8-0d30-4f93-8767-18a09a202745",
   "metadata": {
    "tags": []
   },
   "outputs": [
    {
     "name": "stdout",
     "output_type": "stream",
     "text": [
      "<class 'pandas.core.frame.DataFrame'>\n",
      "Index: 6049 entries, 0 to 19388\n",
      "Data columns (total 9 columns):\n",
      " #   Column         Non-Null Count  Dtype  \n",
      "---  ------         --------------  -----  \n",
      " 0   sku            6049 non-null   object \n",
      " 1   name           6049 non-null   object \n",
      " 2   desc           6045 non-null   object \n",
      " 3   price          6049 non-null   object \n",
      " 4   promo_price    6049 non-null   object \n",
      " 5   in_stock       6049 non-null   int64  \n",
      " 6   type           5977 non-null   object \n",
      " 7   price_f        6049 non-null   float64\n",
      " 8   promo_price_f  6049 non-null   float64\n",
      "dtypes: float64(2), int64(1), object(6)\n",
      "memory usage: 472.6+ KB\n"
     ]
    }
   ],
   "source": [
    "products.info()"
   ]
  },
  {
   "cell_type": "markdown",
   "id": "d39c24b6-1ed5-4c66-b0b2-916787b60338",
   "metadata": {},
   "source": [
    "### Missing desc"
   ]
  },
  {
   "cell_type": "code",
   "execution_count": 66,
   "id": "f3aefc55-8877-44bd-b62e-c794fac5917f",
   "metadata": {
    "tags": []
   },
   "outputs": [
    {
     "data": {
      "text/plain": [
       "desc\n",
       "False    6045\n",
       "True        4\n",
       "Name: count, dtype: int64"
      ]
     },
     "execution_count": 66,
     "metadata": {},
     "output_type": "execute_result"
    }
   ],
   "source": [
    "products.desc.isna().value_counts()"
   ]
  },
  {
   "cell_type": "code",
   "execution_count": 67,
   "id": "21b5adbd-b593-4724-bd13-b3a084970f1e",
   "metadata": {
    "tags": []
   },
   "outputs": [
    {
     "data": {
      "text/html": [
       "<div>\n",
       "<style scoped>\n",
       "    .dataframe tbody tr th:only-of-type {\n",
       "        vertical-align: middle;\n",
       "    }\n",
       "\n",
       "    .dataframe tbody tr th {\n",
       "        vertical-align: top;\n",
       "    }\n",
       "\n",
       "    .dataframe thead th {\n",
       "        text-align: right;\n",
       "    }\n",
       "</style>\n",
       "<table border=\"1\" class=\"dataframe\">\n",
       "  <thead>\n",
       "    <tr style=\"text-align: right;\">\n",
       "      <th></th>\n",
       "      <th>sku</th>\n",
       "      <th>name</th>\n",
       "      <th>desc</th>\n",
       "      <th>price</th>\n",
       "      <th>promo_price</th>\n",
       "      <th>in_stock</th>\n",
       "      <th>type</th>\n",
       "    </tr>\n",
       "  </thead>\n",
       "  <tbody>\n",
       "    <tr>\n",
       "      <th>16126</th>\n",
       "      <td>WDT0211-A</td>\n",
       "      <td>Open - Purple 2TB WD 35 \"PC Security Mac hard ...</td>\n",
       "      <td>NaN</td>\n",
       "      <td>107</td>\n",
       "      <td>814.659</td>\n",
       "      <td>0</td>\n",
       "      <td>1298</td>\n",
       "    </tr>\n",
       "    <tr>\n",
       "      <th>16128</th>\n",
       "      <td>APP1622-A</td>\n",
       "      <td>Open - Apple Smart Keyboard Pro Keyboard Folio...</td>\n",
       "      <td>NaN</td>\n",
       "      <td>1.568.206</td>\n",
       "      <td>1.568.206</td>\n",
       "      <td>0</td>\n",
       "      <td>1298</td>\n",
       "    </tr>\n",
       "    <tr>\n",
       "      <th>17843</th>\n",
       "      <td>PAC2334</td>\n",
       "      <td>Synology DS718 + NAS Server | 10GB RAM</td>\n",
       "      <td>NaN</td>\n",
       "      <td>566.35</td>\n",
       "      <td>5.659.896</td>\n",
       "      <td>0</td>\n",
       "      <td>12175397</td>\n",
       "    </tr>\n",
       "    <tr>\n",
       "      <th>18152</th>\n",
       "      <td>KAN0034-A</td>\n",
       "      <td>Open - Kanex USB-C Gigabit Ethernet Adapter Ma...</td>\n",
       "      <td>NaN</td>\n",
       "      <td>29.99</td>\n",
       "      <td>237.925</td>\n",
       "      <td>0</td>\n",
       "      <td>1298</td>\n",
       "    </tr>\n",
       "    <tr>\n",
       "      <th>18490</th>\n",
       "      <td>HTE0025</td>\n",
       "      <td>Hyper Pearl 1600mAh battery Mini USB Mirror an...</td>\n",
       "      <td>NaN</td>\n",
       "      <td>24.99</td>\n",
       "      <td>22.99</td>\n",
       "      <td>1</td>\n",
       "      <td>1515</td>\n",
       "    </tr>\n",
       "    <tr>\n",
       "      <th>18612</th>\n",
       "      <td>OTT0200</td>\n",
       "      <td>OtterBox External Battery Power Pack 20000 mAHr</td>\n",
       "      <td>NaN</td>\n",
       "      <td>79.99</td>\n",
       "      <td>56.99</td>\n",
       "      <td>1</td>\n",
       "      <td>1515</td>\n",
       "    </tr>\n",
       "    <tr>\n",
       "      <th>18690</th>\n",
       "      <td>HOW0001-A</td>\n",
       "      <td>Open - Honeywell thermostat Lyric zonificador ...</td>\n",
       "      <td>NaN</td>\n",
       "      <td>199.99</td>\n",
       "      <td>1.441.174</td>\n",
       "      <td>0</td>\n",
       "      <td>11905404</td>\n",
       "    </tr>\n",
       "  </tbody>\n",
       "</table>\n",
       "</div>"
      ],
      "text/plain": [
       "             sku                                               name desc  \\\n",
       "16126  WDT0211-A  Open - Purple 2TB WD 35 \"PC Security Mac hard ...  NaN   \n",
       "16128  APP1622-A  Open - Apple Smart Keyboard Pro Keyboard Folio...  NaN   \n",
       "17843    PAC2334             Synology DS718 + NAS Server | 10GB RAM  NaN   \n",
       "18152  KAN0034-A  Open - Kanex USB-C Gigabit Ethernet Adapter Ma...  NaN   \n",
       "18490    HTE0025  Hyper Pearl 1600mAh battery Mini USB Mirror an...  NaN   \n",
       "18612    OTT0200    OtterBox External Battery Power Pack 20000 mAHr  NaN   \n",
       "18690  HOW0001-A  Open - Honeywell thermostat Lyric zonificador ...  NaN   \n",
       "\n",
       "           price promo_price  in_stock      type  \n",
       "16126        107     814.659         0      1298  \n",
       "16128  1.568.206   1.568.206         0      1298  \n",
       "17843     566.35   5.659.896         0  12175397  \n",
       "18152      29.99     237.925         0      1298  \n",
       "18490      24.99       22.99         1      1515  \n",
       "18612      79.99       56.99         1      1515  \n",
       "18690     199.99   1.441.174         0  11905404  "
      ]
     },
     "execution_count": 67,
     "metadata": {},
     "output_type": "execute_result"
    }
   ],
   "source": [
    "products_orig[products_orig.desc.isna()]"
   ]
  },
  {
   "cell_type": "markdown",
   "id": "bf3722be-c5e9-4516-9653-4a542ab92f00",
   "metadata": {},
   "source": [
    "Just fill it with an empty string (irrelevant anyway)"
   ]
  },
  {
   "cell_type": "code",
   "execution_count": 68,
   "id": "da80648f-801d-4232-8fde-14a840ec4143",
   "metadata": {
    "tags": []
   },
   "outputs": [
    {
     "data": {
      "text/html": [
       "<div>\n",
       "<style scoped>\n",
       "    .dataframe tbody tr th:only-of-type {\n",
       "        vertical-align: middle;\n",
       "    }\n",
       "\n",
       "    .dataframe tbody tr th {\n",
       "        vertical-align: top;\n",
       "    }\n",
       "\n",
       "    .dataframe thead th {\n",
       "        text-align: right;\n",
       "    }\n",
       "</style>\n",
       "<table border=\"1\" class=\"dataframe\">\n",
       "  <thead>\n",
       "    <tr style=\"text-align: right;\">\n",
       "      <th></th>\n",
       "      <th>sku</th>\n",
       "      <th>name</th>\n",
       "      <th>desc</th>\n",
       "      <th>price</th>\n",
       "      <th>promo_price</th>\n",
       "      <th>in_stock</th>\n",
       "      <th>type</th>\n",
       "      <th>price_f</th>\n",
       "      <th>promo_price_f</th>\n",
       "    </tr>\n",
       "  </thead>\n",
       "  <tbody>\n",
       "  </tbody>\n",
       "</table>\n",
       "</div>"
      ],
      "text/plain": [
       "Empty DataFrame\n",
       "Columns: [sku, name, desc, price, promo_price, in_stock, type, price_f, promo_price_f]\n",
       "Index: []"
      ]
     },
     "execution_count": 68,
     "metadata": {},
     "output_type": "execute_result"
    }
   ],
   "source": [
    "products.loc[products.desc.isna(), 'desc'] = ''\n",
    "products[products.desc.isna()]"
   ]
  },
  {
   "cell_type": "markdown",
   "id": "296584c5-655c-4908-b15f-38813ad103dd",
   "metadata": {},
   "source": [
    "### Missing type"
   ]
  },
  {
   "cell_type": "code",
   "execution_count": 69,
   "id": "e82ae0bd-c6b8-4cb2-b4bc-bb3dae449e75",
   "metadata": {
    "tags": []
   },
   "outputs": [
    {
     "data": {
      "text/html": [
       "<div>\n",
       "<style scoped>\n",
       "    .dataframe tbody tr th:only-of-type {\n",
       "        vertical-align: middle;\n",
       "    }\n",
       "\n",
       "    .dataframe tbody tr th {\n",
       "        vertical-align: top;\n",
       "    }\n",
       "\n",
       "    .dataframe thead th {\n",
       "        text-align: right;\n",
       "    }\n",
       "</style>\n",
       "<table border=\"1\" class=\"dataframe\">\n",
       "  <thead>\n",
       "    <tr style=\"text-align: right;\">\n",
       "      <th></th>\n",
       "      <th>type</th>\n",
       "      <th>count</th>\n",
       "      <th>proportion</th>\n",
       "    </tr>\n",
       "  </thead>\n",
       "  <tbody>\n",
       "    <tr>\n",
       "      <th>0</th>\n",
       "      <td>False</td>\n",
       "      <td>5977</td>\n",
       "      <td>0.99</td>\n",
       "    </tr>\n",
       "    <tr>\n",
       "      <th>1</th>\n",
       "      <td>True</td>\n",
       "      <td>72</td>\n",
       "      <td>0.01</td>\n",
       "    </tr>\n",
       "  </tbody>\n",
       "</table>\n",
       "</div>"
      ],
      "text/plain": [
       "    type  count  proportion\n",
       "0  False   5977        0.99\n",
       "1   True     72        0.01"
      ]
     },
     "execution_count": 69,
     "metadata": {},
     "output_type": "execute_result"
    }
   ],
   "source": [
    "value_counts_and_proportion(products.type.isna())"
   ]
  },
  {
   "cell_type": "markdown",
   "id": "c5fe1596-e8d9-4365-ac4c-3e7b2361ecef",
   "metadata": {
    "tags": []
   },
   "source": [
    "### Save cleaned data"
   ]
  },
  {
   "cell_type": "code",
   "execution_count": 70,
   "id": "79e00912-f4e7-43c0-a6cc-ce1737eac064",
   "metadata": {
    "tags": []
   },
   "outputs": [],
   "source": [
    "(\n",
    "    products\n",
    "    .assign(\n",
    "        price=lambda x: x.price_f.round(2),\n",
    "        promo_price=lambda x: x.promo_price_f.round(2)\n",
    "    )\n",
    "    .drop(columns=['in_stock', 'price_f', 'promo_price_f'])\n",
    "    .to_csv('products_cl.csv', index=False)\n",
    ")"
   ]
  },
  {
   "cell_type": "code",
   "execution_count": 71,
   "id": "b9e26955-8cc5-4f54-968c-4bda7ea4701f",
   "metadata": {
    "tags": []
   },
   "outputs": [
    {
     "name": "stdout",
     "output_type": "stream",
     "text": [
      "<class 'pandas.core.frame.DataFrame'>\n",
      "Index: 6049 entries, 0 to 19388\n",
      "Data columns (total 9 columns):\n",
      " #   Column         Non-Null Count  Dtype  \n",
      "---  ------         --------------  -----  \n",
      " 0   sku            6049 non-null   object \n",
      " 1   name           6049 non-null   object \n",
      " 2   desc           6049 non-null   object \n",
      " 3   price          6049 non-null   object \n",
      " 4   promo_price    6049 non-null   object \n",
      " 5   in_stock       6049 non-null   int64  \n",
      " 6   type           5977 non-null   object \n",
      " 7   price_f        6049 non-null   float64\n",
      " 8   promo_price_f  6049 non-null   float64\n",
      "dtypes: float64(2), int64(1), object(6)\n",
      "memory usage: 472.6+ KB\n"
     ]
    }
   ],
   "source": [
    "products.info()"
   ]
  },
  {
   "cell_type": "code",
   "execution_count": 72,
   "id": "400ddd16-5c1a-4d16-849a-b9bc7ed354c8",
   "metadata": {
    "tags": []
   },
   "outputs": [
    {
     "data": {
      "text/plain": [
       "type\n",
       "11865403     714\n",
       "1298         400\n",
       "11935397     346\n",
       "12175397     316\n",
       "11905404     305\n",
       "12635403     208\n",
       "1364         181\n",
       "13835403     162\n",
       "12585395     158\n",
       "1282         152\n",
       "1296         132\n",
       "5384         127\n",
       "12215397     124\n",
       "5,74E+15     123\n",
       "1433         122\n",
       "1325         122\n",
       "5398          97\n",
       "57445397      94\n",
       "1334          87\n",
       "1229          76\n",
       "1,02E+12      74\n",
       "12995397      71\n",
       "13615399      68\n",
       "12655397      60\n",
       "1405          60\n",
       "2449          59\n",
       "1230          58\n",
       "13555403      51\n",
       "1515          50\n",
       "2158          49\n",
       "8696          46\n",
       "14305406      37\n",
       "51601716      37\n",
       "1,44E+11      37\n",
       "12645406      35\n",
       "85651716      34\n",
       "24895185      34\n",
       "2,16E+11      32\n",
       "21485407      32\n",
       "85641716      31\n",
       "5720          31\n",
       "42945397      31\n",
       "11821715      31\n",
       "5395          30\n",
       "1392          29\n",
       "24215399      29\n",
       "12755395      27\n",
       "13005399      27\n",
       "10230         27\n",
       "2,17E+11      26\n",
       "24885185      26\n",
       "106431714     25\n",
       "13855401      24\n",
       "5,39E+11      24\n",
       "5405          23\n",
       "1216          23\n",
       "10142         22\n",
       "14365395      21\n",
       "1387          21\n",
       "51861714      21\n",
       "1714          20\n",
       "2434          20\n",
       "9094          18\n",
       "24821716      17\n",
       "1404          17\n",
       "12575403      17\n",
       "5,49E+11      16\n",
       "5403          15\n",
       "21632158      14\n",
       "42931714      14\n",
       "24811716      13\n",
       "51871714      13\n",
       "14035403      13\n",
       "5399          12\n",
       "113281716     12\n",
       "1276          12\n",
       "113291716     11\n",
       "20642062      11\n",
       "5,43E+15      11\n",
       "21535407      10\n",
       "51882158       9\n",
       "101781405      9\n",
       "12141714       9\n",
       "5404           8\n",
       "54085407       8\n",
       "1231           8\n",
       "113271716      6\n",
       "12355400       6\n",
       "13621714       6\n",
       "1,46E+11       6\n",
       "1416           6\n",
       "5,72E+15       5\n",
       "1375           5\n",
       "21561716       5\n",
       "5,44E+11       5\n",
       "2425           5\n",
       "4259           5\n",
       "1424           4\n",
       "11859          4\n",
       "21571716       4\n",
       "54864259       4\n",
       "5401           4\n",
       "1716           3\n",
       "24861714       3\n",
       "12031714       3\n",
       "5407           3\n",
       "13955395       3\n",
       "113464259      3\n",
       "1280           3\n",
       "12085400       3\n",
       "79201715       2\n",
       "118692158      2\n",
       "15435404       2\n",
       "12051714       2\n",
       "5406           2\n",
       "21622158       1\n",
       "54025401       1\n",
       "5,45E+15       1\n",
       "113851714      1\n",
       "11434          1\n",
       "12285400       1\n",
       "51912158       1\n",
       "Name: count, dtype: int64"
      ]
     },
     "execution_count": 72,
     "metadata": {},
     "output_type": "execute_result"
    }
   ],
   "source": [
    "pd.set_option('display.max_rows', 500)\n",
    "products.type.value_counts()"
   ]
  }
 ],
 "metadata": {
  "kernelspec": {
   "display_name": "Python 3 (ipykernel)",
   "language": "python",
   "name": "python3"
  },
  "language_info": {
   "codemirror_mode": {
    "name": "ipython",
    "version": 3
   },
   "file_extension": ".py",
   "mimetype": "text/x-python",
   "name": "python",
   "nbconvert_exporter": "python",
   "pygments_lexer": "ipython3",
   "version": "3.11.7"
  }
 },
 "nbformat": 4,
 "nbformat_minor": 5
}
