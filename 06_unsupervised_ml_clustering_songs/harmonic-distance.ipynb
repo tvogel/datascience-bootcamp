{
 "cells": [
  {
   "cell_type": "markdown",
   "id": "d188a95b-9cb8-41c2-8495-2d4051c01db1",
   "metadata": {
    "tags": []
   },
   "source": [
    "### Harmonic distance calculation"
   ]
  },
  {
   "cell_type": "code",
   "execution_count": 3,
   "id": "76dc4e3c-dcc0-42b4-a91f-8faa3239d9f7",
   "metadata": {
    "tags": []
   },
   "outputs": [],
   "source": [
    "import pandas as pd\n",
    "from sklearn.metrics import pairwise_distances"
   ]
  },
  {
   "cell_type": "markdown",
   "id": "2b18d7b2-5468-4499-b6a0-b79068cf13d2",
   "metadata": {
    "tags": []
   },
   "source": [
    "#### Spotify mapping of key index to key"
   ]
  },
  {
   "cell_type": "code",
   "execution_count": 4,
   "id": "f35cbd29-3336-4b72-9714-709cbf8003ca",
   "metadata": {
    "tags": []
   },
   "outputs": [],
   "source": [
    "note_table = [ 'C', 'C#/Db', 'D', 'D#/Eb', 'E', 'F', 'F#/Gb', 'G', 'G#/Ab', 'A', 'A#/Bb', 'B' ]"
   ]
  },
  {
   "cell_type": "markdown",
   "id": "a1131345-fbc0-48e6-9fad-34d430932ce8",
   "metadata": {},
   "source": [
    "#### Circle of fifths\n",
    "According to harmonic progression, nearby keys are harmonic. Because it's a circle, 'C' is also next to 'F'."
   ]
  },
  {
   "cell_type": "code",
   "execution_count": 5,
   "id": "c388cfe2-8437-4eb8-9724-37d24f87af31",
   "metadata": {
    "tags": []
   },
   "outputs": [
    {
     "data": {
      "text/plain": [
       "[(0, 'C'),\n",
       " (7, 'G'),\n",
       " (2, 'D'),\n",
       " (9, 'A'),\n",
       " (4, 'E'),\n",
       " (11, 'B'),\n",
       " (6, 'F#/Gb'),\n",
       " (1, 'C#/Db'),\n",
       " (8, 'G#/Ab'),\n",
       " (3, 'D#/Eb'),\n",
       " (10, 'A#/Bb'),\n",
       " (5, 'F')]"
      ]
     },
     "execution_count": 5,
     "metadata": {},
     "output_type": "execute_result"
    }
   ],
   "source": [
    "fifth_table = [ 7 * i % 12 for i in range(12) ]\n",
    "[(i, note_table[i]) for i in fifth_table]"
   ]
  },
  {
   "cell_type": "markdown",
   "id": "8e380027-7e91-4d91-8e9e-b8593edda609",
   "metadata": {},
   "source": [
    "#### Mapping of distance between keys to harmonic distance\n",
    "That is if the distance in key index is 7, e.g. 'C' -> 'G', the distance is only 1 because it is just one fifth above. Or, the distance from 'D' to 'C' is 2 which also happens to be two fifths (downwards)."
   ]
  },
  {
   "cell_type": "code",
   "execution_count": 6,
   "id": "6613fe0e-5bcd-471c-adc6-88bc5784f9f0",
   "metadata": {
    "tags": []
   },
   "outputs": [
    {
     "data": {
      "text/plain": [
       "[0, -5, 2, -3, 4, -1, 6, 1, -4, 3, -2, 5]"
      ]
     },
     "execution_count": 6,
     "metadata": {},
     "output_type": "execute_result"
    }
   ],
   "source": [
    "inv_fifth_table = [ (fifth_table.index(i)+5)%12 - 5 for i in range(12) ]\n",
    "inv_fifth_table"
   ]
  },
  {
   "cell_type": "markdown",
   "id": "8bbaf281-1ff4-4473-9624-b84a415e34c9",
   "metadata": {},
   "source": [
    "#### Distance-function for comparing keys and a distance table between all keys"
   ]
  },
  {
   "cell_type": "code",
   "execution_count": 7,
   "id": "52c0c26a-b18c-4ed1-a040-0a3cf57638da",
   "metadata": {
    "tags": []
   },
   "outputs": [
    {
     "data": {
      "text/html": [
       "<div>\n",
       "<style scoped>\n",
       "    .dataframe tbody tr th:only-of-type {\n",
       "        vertical-align: middle;\n",
       "    }\n",
       "\n",
       "    .dataframe tbody tr th {\n",
       "        vertical-align: top;\n",
       "    }\n",
       "\n",
       "    .dataframe thead th {\n",
       "        text-align: right;\n",
       "    }\n",
       "</style>\n",
       "<table border=\"1\" class=\"dataframe\">\n",
       "  <thead>\n",
       "    <tr style=\"text-align: right;\">\n",
       "      <th></th>\n",
       "      <th>C</th>\n",
       "      <th>C#/Db</th>\n",
       "      <th>D</th>\n",
       "      <th>D#/Eb</th>\n",
       "      <th>E</th>\n",
       "      <th>F</th>\n",
       "      <th>F#/Gb</th>\n",
       "      <th>G</th>\n",
       "      <th>G#/Ab</th>\n",
       "      <th>A</th>\n",
       "      <th>A#/Bb</th>\n",
       "      <th>B</th>\n",
       "    </tr>\n",
       "  </thead>\n",
       "  <tbody>\n",
       "    <tr>\n",
       "      <th>C</th>\n",
       "      <td>0</td>\n",
       "      <td>-5</td>\n",
       "      <td>2</td>\n",
       "      <td>-3</td>\n",
       "      <td>4</td>\n",
       "      <td>-1</td>\n",
       "      <td>6</td>\n",
       "      <td>1</td>\n",
       "      <td>-4</td>\n",
       "      <td>3</td>\n",
       "      <td>-2</td>\n",
       "      <td>5</td>\n",
       "    </tr>\n",
       "    <tr>\n",
       "      <th>C#/Db</th>\n",
       "      <td>5</td>\n",
       "      <td>0</td>\n",
       "      <td>-5</td>\n",
       "      <td>2</td>\n",
       "      <td>-3</td>\n",
       "      <td>4</td>\n",
       "      <td>-1</td>\n",
       "      <td>6</td>\n",
       "      <td>1</td>\n",
       "      <td>-4</td>\n",
       "      <td>3</td>\n",
       "      <td>-2</td>\n",
       "    </tr>\n",
       "    <tr>\n",
       "      <th>D</th>\n",
       "      <td>-2</td>\n",
       "      <td>5</td>\n",
       "      <td>0</td>\n",
       "      <td>-5</td>\n",
       "      <td>2</td>\n",
       "      <td>-3</td>\n",
       "      <td>4</td>\n",
       "      <td>-1</td>\n",
       "      <td>6</td>\n",
       "      <td>1</td>\n",
       "      <td>-4</td>\n",
       "      <td>3</td>\n",
       "    </tr>\n",
       "    <tr>\n",
       "      <th>D#/Eb</th>\n",
       "      <td>3</td>\n",
       "      <td>-2</td>\n",
       "      <td>5</td>\n",
       "      <td>0</td>\n",
       "      <td>-5</td>\n",
       "      <td>2</td>\n",
       "      <td>-3</td>\n",
       "      <td>4</td>\n",
       "      <td>-1</td>\n",
       "      <td>6</td>\n",
       "      <td>1</td>\n",
       "      <td>-4</td>\n",
       "    </tr>\n",
       "    <tr>\n",
       "      <th>E</th>\n",
       "      <td>-4</td>\n",
       "      <td>3</td>\n",
       "      <td>-2</td>\n",
       "      <td>5</td>\n",
       "      <td>0</td>\n",
       "      <td>-5</td>\n",
       "      <td>2</td>\n",
       "      <td>-3</td>\n",
       "      <td>4</td>\n",
       "      <td>-1</td>\n",
       "      <td>6</td>\n",
       "      <td>1</td>\n",
       "    </tr>\n",
       "    <tr>\n",
       "      <th>F</th>\n",
       "      <td>1</td>\n",
       "      <td>-4</td>\n",
       "      <td>3</td>\n",
       "      <td>-2</td>\n",
       "      <td>5</td>\n",
       "      <td>0</td>\n",
       "      <td>-5</td>\n",
       "      <td>2</td>\n",
       "      <td>-3</td>\n",
       "      <td>4</td>\n",
       "      <td>-1</td>\n",
       "      <td>6</td>\n",
       "    </tr>\n",
       "    <tr>\n",
       "      <th>F#/Gb</th>\n",
       "      <td>6</td>\n",
       "      <td>1</td>\n",
       "      <td>-4</td>\n",
       "      <td>3</td>\n",
       "      <td>-2</td>\n",
       "      <td>5</td>\n",
       "      <td>0</td>\n",
       "      <td>-5</td>\n",
       "      <td>2</td>\n",
       "      <td>-3</td>\n",
       "      <td>4</td>\n",
       "      <td>-1</td>\n",
       "    </tr>\n",
       "    <tr>\n",
       "      <th>G</th>\n",
       "      <td>-1</td>\n",
       "      <td>6</td>\n",
       "      <td>1</td>\n",
       "      <td>-4</td>\n",
       "      <td>3</td>\n",
       "      <td>-2</td>\n",
       "      <td>5</td>\n",
       "      <td>0</td>\n",
       "      <td>-5</td>\n",
       "      <td>2</td>\n",
       "      <td>-3</td>\n",
       "      <td>4</td>\n",
       "    </tr>\n",
       "    <tr>\n",
       "      <th>G#/Ab</th>\n",
       "      <td>4</td>\n",
       "      <td>-1</td>\n",
       "      <td>6</td>\n",
       "      <td>1</td>\n",
       "      <td>-4</td>\n",
       "      <td>3</td>\n",
       "      <td>-2</td>\n",
       "      <td>5</td>\n",
       "      <td>0</td>\n",
       "      <td>-5</td>\n",
       "      <td>2</td>\n",
       "      <td>-3</td>\n",
       "    </tr>\n",
       "    <tr>\n",
       "      <th>A</th>\n",
       "      <td>-3</td>\n",
       "      <td>4</td>\n",
       "      <td>-1</td>\n",
       "      <td>6</td>\n",
       "      <td>1</td>\n",
       "      <td>-4</td>\n",
       "      <td>3</td>\n",
       "      <td>-2</td>\n",
       "      <td>5</td>\n",
       "      <td>0</td>\n",
       "      <td>-5</td>\n",
       "      <td>2</td>\n",
       "    </tr>\n",
       "    <tr>\n",
       "      <th>A#/Bb</th>\n",
       "      <td>2</td>\n",
       "      <td>-3</td>\n",
       "      <td>4</td>\n",
       "      <td>-1</td>\n",
       "      <td>6</td>\n",
       "      <td>1</td>\n",
       "      <td>-4</td>\n",
       "      <td>3</td>\n",
       "      <td>-2</td>\n",
       "      <td>5</td>\n",
       "      <td>0</td>\n",
       "      <td>-5</td>\n",
       "    </tr>\n",
       "    <tr>\n",
       "      <th>B</th>\n",
       "      <td>-5</td>\n",
       "      <td>2</td>\n",
       "      <td>-3</td>\n",
       "      <td>4</td>\n",
       "      <td>-1</td>\n",
       "      <td>6</td>\n",
       "      <td>1</td>\n",
       "      <td>-4</td>\n",
       "      <td>3</td>\n",
       "      <td>-2</td>\n",
       "      <td>5</td>\n",
       "      <td>0</td>\n",
       "    </tr>\n",
       "  </tbody>\n",
       "</table>\n",
       "</div>"
      ],
      "text/plain": [
       "       C  C#/Db  D  D#/Eb  E  F  F#/Gb  G  G#/Ab  A  A#/Bb  B\n",
       "C      0     -5  2     -3  4 -1      6  1     -4  3     -2  5\n",
       "C#/Db  5      0 -5      2 -3  4     -1  6      1 -4      3 -2\n",
       "D     -2      5  0     -5  2 -3      4 -1      6  1     -4  3\n",
       "D#/Eb  3     -2  5      0 -5  2     -3  4     -1  6      1 -4\n",
       "E     -4      3 -2      5  0 -5      2 -3      4 -1      6  1\n",
       "F      1     -4  3     -2  5  0     -5  2     -3  4     -1  6\n",
       "F#/Gb  6      1 -4      3 -2  5      0 -5      2 -3      4 -1\n",
       "G     -1      6  1     -4  3 -2      5  0     -5  2     -3  4\n",
       "G#/Ab  4     -1  6      1 -4  3     -2  5      0 -5      2 -3\n",
       "A     -3      4 -1      6  1 -4      3 -2      5  0     -5  2\n",
       "A#/Bb  2     -3  4     -1  6  1     -4  3     -2  5      0 -5\n",
       "B     -5      2 -3      4 -1  6      1 -4      3 -2      5  0"
      ]
     },
     "execution_count": 7,
     "metadata": {},
     "output_type": "execute_result"
    }
   ],
   "source": [
    "def key_distance(key1: int, key2: int):\n",
    "  return inv_fifth_table[(key2 - key1) % 12]\n",
    "pd.DataFrame(\n",
    "  [ [ key_distance(i, j) for j in range(12) ] for i in range(12) ],\n",
    "  index = note_table,\n",
    "  columns = note_table)"
   ]
  },
  {
   "cell_type": "markdown",
   "id": "f62405f0-60bf-40c7-b51d-a325be618efc",
   "metadata": {},
   "source": [
    "#### Metric that calculates euclidean distance but aware of the cyclic key distance:"
   ]
  },
  {
   "cell_type": "code",
   "execution_count": 8,
   "id": "086ab90e-b8ef-4919-a769-62afacae2c44",
   "metadata": {
    "tags": []
   },
   "outputs": [],
   "source": [
    "def key_aware_metric(X, Y, key_index=None):\n",
    "  if key_index == None:\n",
    "    return (sum((X - Y)**2))**.5\n",
    "  \n",
    "  ordinary_columns = [ i for i in range(len(X)) if i != key_index ]\n",
    "  sum2 = sum((X[ordinary_columns] - Y[ordinary_columns])**2)\n",
    "  sum2 += key_distance(int(X[key_index]), int(Y[key_index]))**2\n",
    "  return sum2**.5"
   ]
  },
  {
   "cell_type": "markdown",
   "id": "9b1b47ac-eaae-4040-8caa-9d1623d3b902",
   "metadata": {},
   "source": [
    "#### And a variant of `pairwise_distances` that recognizes the `key` column and applies the `key_aware_metric`:"
   ]
  },
  {
   "cell_type": "code",
   "execution_count": 9,
   "id": "76e829a0-d6ab-4309-9f64-26bf1c0fc625",
   "metadata": {
    "tags": []
   },
   "outputs": [],
   "source": [
    "def key_aware_pairwise_distances(df):\n",
    "  try:\n",
    "    key_index = df.columns.values.tolist().index('key')\n",
    "  except:\n",
    "    key_index = None\n",
    "  return pairwise_distances(df, metric=key_aware_metric, key_index=key_index)"
   ]
  },
  {
   "cell_type": "markdown",
   "id": "45a21e3b-9d84-4f12-96c3-9360258ffed8",
   "metadata": {},
   "source": [
    "#### Example:"
   ]
  },
  {
   "cell_type": "code",
   "execution_count": 22,
   "id": "a986e991-2636-478c-bc58-bed0da5e6679",
   "metadata": {
    "tags": []
   },
   "outputs": [
    {
     "data": {
      "text/html": [
       "<div>\n",
       "<style scoped>\n",
       "    .dataframe tbody tr th:only-of-type {\n",
       "        vertical-align: middle;\n",
       "    }\n",
       "\n",
       "    .dataframe tbody tr th {\n",
       "        vertical-align: top;\n",
       "    }\n",
       "\n",
       "    .dataframe thead th {\n",
       "        text-align: right;\n",
       "    }\n",
       "</style>\n",
       "<table border=\"1\" class=\"dataframe\">\n",
       "  <thead>\n",
       "    <tr style=\"text-align: right;\">\n",
       "      <th></th>\n",
       "      <th>key</th>\n",
       "    </tr>\n",
       "    <tr>\n",
       "      <th>song</th>\n",
       "      <th></th>\n",
       "    </tr>\n",
       "  </thead>\n",
       "  <tbody>\n",
       "    <tr>\n",
       "      <th>Song in C</th>\n",
       "      <td>0</td>\n",
       "    </tr>\n",
       "    <tr>\n",
       "      <th>Song in C#/Db</th>\n",
       "      <td>1</td>\n",
       "    </tr>\n",
       "    <tr>\n",
       "      <th>Song in B</th>\n",
       "      <td>11</td>\n",
       "    </tr>\n",
       "    <tr>\n",
       "      <th>Song in G</th>\n",
       "      <td>7</td>\n",
       "    </tr>\n",
       "  </tbody>\n",
       "</table>\n",
       "</div>"
      ],
      "text/plain": [
       "               key\n",
       "song              \n",
       "Song in C        0\n",
       "Song in C#/Db    1\n",
       "Song in B       11\n",
       "Song in G        7"
      ]
     },
     "execution_count": 22,
     "metadata": {},
     "output_type": "execute_result"
    }
   ],
   "source": [
    "df = (\n",
    "  pd.DataFrame([\n",
    "      [ f'Song in {key}', note_table.index(key) ] \n",
    "      for key in ['C', 'C#/Db', 'B', 'G']\n",
    "    ],\n",
    "    columns=['song', 'key'])\n",
    "  .set_index('song')\n",
    ")\n",
    "df"
   ]
  },
  {
   "cell_type": "markdown",
   "id": "e479b005-a97d-4518-bb58-fa0c705ef92c",
   "metadata": {},
   "source": [
    "Notice how 'C' and 'C#' are considered close while 'G' is considered far away. Also, 'B' and 'C' are not considered close because wrapping the scale is not implemented:"
   ]
  },
  {
   "cell_type": "code",
   "execution_count": 23,
   "id": "69f291d4-e9d5-43ad-98b3-f7e61c20bd53",
   "metadata": {
    "tags": []
   },
   "outputs": [
    {
     "data": {
      "text/html": [
       "<div>\n",
       "<style scoped>\n",
       "    .dataframe tbody tr th:only-of-type {\n",
       "        vertical-align: middle;\n",
       "    }\n",
       "\n",
       "    .dataframe tbody tr th {\n",
       "        vertical-align: top;\n",
       "    }\n",
       "\n",
       "    .dataframe thead th {\n",
       "        text-align: right;\n",
       "    }\n",
       "</style>\n",
       "<table border=\"1\" class=\"dataframe\">\n",
       "  <thead>\n",
       "    <tr style=\"text-align: right;\">\n",
       "      <th>song</th>\n",
       "      <th>Song in C</th>\n",
       "      <th>Song in C#/Db</th>\n",
       "      <th>Song in B</th>\n",
       "      <th>Song in G</th>\n",
       "    </tr>\n",
       "    <tr>\n",
       "      <th>song</th>\n",
       "      <th></th>\n",
       "      <th></th>\n",
       "      <th></th>\n",
       "      <th></th>\n",
       "    </tr>\n",
       "  </thead>\n",
       "  <tbody>\n",
       "    <tr>\n",
       "      <th>Song in C</th>\n",
       "      <td>0.0</td>\n",
       "      <td>1.0</td>\n",
       "      <td>11.0</td>\n",
       "      <td>7.0</td>\n",
       "    </tr>\n",
       "    <tr>\n",
       "      <th>Song in C#/Db</th>\n",
       "      <td>1.0</td>\n",
       "      <td>0.0</td>\n",
       "      <td>10.0</td>\n",
       "      <td>6.0</td>\n",
       "    </tr>\n",
       "    <tr>\n",
       "      <th>Song in B</th>\n",
       "      <td>11.0</td>\n",
       "      <td>10.0</td>\n",
       "      <td>0.0</td>\n",
       "      <td>4.0</td>\n",
       "    </tr>\n",
       "    <tr>\n",
       "      <th>Song in G</th>\n",
       "      <td>7.0</td>\n",
       "      <td>6.0</td>\n",
       "      <td>4.0</td>\n",
       "      <td>0.0</td>\n",
       "    </tr>\n",
       "  </tbody>\n",
       "</table>\n",
       "</div>"
      ],
      "text/plain": [
       "song           Song in C  Song in C#/Db  Song in B  Song in G\n",
       "song                                                         \n",
       "Song in C            0.0            1.0       11.0        7.0\n",
       "Song in C#/Db        1.0            0.0       10.0        6.0\n",
       "Song in B           11.0           10.0        0.0        4.0\n",
       "Song in G            7.0            6.0        4.0        0.0"
      ]
     },
     "execution_count": 23,
     "metadata": {},
     "output_type": "execute_result"
    }
   ],
   "source": [
    "pd.DataFrame(\n",
    "  pairwise_distances(df),\n",
    "  index=df.index,\n",
    "  columns=df.index)  "
   ]
  },
  {
   "cell_type": "markdown",
   "id": "5cc2a875-3bde-4d94-9f6a-30a5c7bbf02d",
   "metadata": {},
   "source": [
    "In contrast, notice now, how 'C' and 'C#' are now considered harmonically far apart while 'C' and 'G' are close. And 'C' and 'B' is now equally far apart as 'C' and 'C#' which are both a single half-tone apart, i.e. scale wrapping works:"
   ]
  },
  {
   "cell_type": "code",
   "execution_count": 24,
   "id": "52904263-5812-49dd-a9c1-accc2254def3",
   "metadata": {
    "tags": []
   },
   "outputs": [
    {
     "data": {
      "text/html": [
       "<div>\n",
       "<style scoped>\n",
       "    .dataframe tbody tr th:only-of-type {\n",
       "        vertical-align: middle;\n",
       "    }\n",
       "\n",
       "    .dataframe tbody tr th {\n",
       "        vertical-align: top;\n",
       "    }\n",
       "\n",
       "    .dataframe thead th {\n",
       "        text-align: right;\n",
       "    }\n",
       "</style>\n",
       "<table border=\"1\" class=\"dataframe\">\n",
       "  <thead>\n",
       "    <tr style=\"text-align: right;\">\n",
       "      <th>song</th>\n",
       "      <th>Song in C</th>\n",
       "      <th>Song in C#/Db</th>\n",
       "      <th>Song in B</th>\n",
       "      <th>Song in G</th>\n",
       "    </tr>\n",
       "    <tr>\n",
       "      <th>song</th>\n",
       "      <th></th>\n",
       "      <th></th>\n",
       "      <th></th>\n",
       "      <th></th>\n",
       "    </tr>\n",
       "  </thead>\n",
       "  <tbody>\n",
       "    <tr>\n",
       "      <th>Song in C</th>\n",
       "      <td>0.0</td>\n",
       "      <td>5.0</td>\n",
       "      <td>5.0</td>\n",
       "      <td>1.0</td>\n",
       "    </tr>\n",
       "    <tr>\n",
       "      <th>Song in C#/Db</th>\n",
       "      <td>5.0</td>\n",
       "      <td>0.0</td>\n",
       "      <td>2.0</td>\n",
       "      <td>6.0</td>\n",
       "    </tr>\n",
       "    <tr>\n",
       "      <th>Song in B</th>\n",
       "      <td>5.0</td>\n",
       "      <td>2.0</td>\n",
       "      <td>0.0</td>\n",
       "      <td>4.0</td>\n",
       "    </tr>\n",
       "    <tr>\n",
       "      <th>Song in G</th>\n",
       "      <td>1.0</td>\n",
       "      <td>6.0</td>\n",
       "      <td>4.0</td>\n",
       "      <td>0.0</td>\n",
       "    </tr>\n",
       "  </tbody>\n",
       "</table>\n",
       "</div>"
      ],
      "text/plain": [
       "song           Song in C  Song in C#/Db  Song in B  Song in G\n",
       "song                                                         \n",
       "Song in C            0.0            5.0        5.0        1.0\n",
       "Song in C#/Db        5.0            0.0        2.0        6.0\n",
       "Song in B            5.0            2.0        0.0        4.0\n",
       "Song in G            1.0            6.0        4.0        0.0"
      ]
     },
     "execution_count": 24,
     "metadata": {},
     "output_type": "execute_result"
    }
   ],
   "source": [
    "pd.DataFrame(\n",
    "  key_aware_pairwise_distances(df),\n",
    "  index=df.index,\n",
    "  columns=df.index)  "
   ]
  }
 ],
 "metadata": {
  "kernelspec": {
   "display_name": "Python 3 (ipykernel)",
   "language": "python",
   "name": "python3"
  },
  "language_info": {
   "codemirror_mode": {
    "name": "ipython",
    "version": 3
   },
   "file_extension": ".py",
   "mimetype": "text/x-python",
   "name": "python",
   "nbconvert_exporter": "python",
   "pygments_lexer": "ipython3",
   "version": "3.11.5"
  }
 },
 "nbformat": 4,
 "nbformat_minor": 5
}
