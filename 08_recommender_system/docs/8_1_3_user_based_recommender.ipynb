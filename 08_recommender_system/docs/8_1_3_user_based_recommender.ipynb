{
  "cells": [
    {
      "cell_type": "markdown",
      "metadata": {
        "id": "6I2fbF7h7HzP"
      },
      "source": [
        "# User-based recommender\n",
        "User-based recommenders are like having a knowledgeable friend who knows your preferences inside out and suggests things tailored specifically to your taste. These recommenders analyse your past interactions, such as previous purchases or ratings, to find users with similar preferences and recommend items they have enjoyed. By leveraging the wisdom of like-minded users, user-based recommenders aim to provide personalised recommendations that align with your individual interests. They excel at capturing the nuances of your preferences and offering suggestions that are more tailored to your unique taste. However, it's important to keep in mind that user-based recommenders may have limitations when there is limited data available or when users' preferences change over time."
      ]
    },
    {
      "cell_type": "markdown",
      "metadata": {
        "id": "c1G0zcnO7w48"
      },
      "source": [
        "---\n",
        "## 1.&nbsp; Import libraries and files 💾\n",
        "We'll be using the same book ratings csv as in the Popularity and Item-based recommender notebooks."
      ]
    },
    {
      "cell_type": "code",
      "execution_count": 1,
      "metadata": {
        "id": "lIYdn1woOS1n"
      },
      "outputs": [],
      "source": [
        "import pandas as pd"
      ]
    },
    {
      "cell_type": "code",
      "execution_count": 2,
      "metadata": {
        "id": "i5aN4HjngSEM"
      },
      "outputs": [],
      "source": [
        "url = 'https://drive.google.com/file/d/1yFwxNVF0MuAsiFTAZMfoVGt1nIOatByg/view?usp=sharing'\n",
        "path = 'https://drive.google.com/uc?id='+url.split('/')[-2]\n",
        "df = pd.read_csv(path)"
      ]
    },
    {
      "cell_type": "markdown",
      "metadata": {
        "id": "ct7pyuHM8D5i"
      },
      "source": [
        "---\n",
        "## 2.&nbsp;The Surprise library 🎉\n",
        "[Surprise](https://surpriselib.com/) is a versatile and user-friendly library that provides a wide range of collaborative filtering algorithms and evaluation metrics for building recommendation systems. With Surprise, we can effortlessly implement user-based recommenders.\n",
        "\n",
        "However, it's worth noting that while we will be focusing on Surprise as our tool of choice, it's important to understand that there are alternative ways to build user-based recommenders, including manual implementation of algorithms. By introducing you to Surprise, we aim to showcase the potential and convenience of using dedicated machine learning libraries, but it's always beneficial to have a comprehensive understanding of the underlying concepts and techniques, such as what we learnt manually building an item-based recommender."
      ]
    },
    {
      "cell_type": "markdown",
      "metadata": {
        "id": "ZOgbfoX1hRoT"
      },
      "source": [
        "Install Surprise:\n",
        " - Since Colab doesn't have surprise pre-installed, you'll need to perform this step at the beginning of each session on Colab\n",
        " - If you're working locally, you'll only need to install once"
      ]
    },
    {
      "cell_type": "code",
      "execution_count": 3,
      "metadata": {
        "id": "VcAxB6oCguCy"
      },
      "outputs": [],
      "source": [
        "%%capture\n",
        "pip install scikit-surprise"
      ]
    },
    {
      "cell_type": "markdown",
      "metadata": {
        "id": "z7AHVLt35NJp"
      },
      "source": [
        "Import the necessary modules:"
      ]
    },
    {
      "cell_type": "code",
      "execution_count": 3,
      "metadata": {
        "id": "Kaxf2UlNh5CD"
      },
      "outputs": [],
      "source": [
        "from surprise import Reader, Dataset, KNNBasic, accuracy\n",
        "from surprise.model_selection import train_test_split"
      ]
    },
    {
      "cell_type": "markdown",
      "metadata": {
        "id": "JvSscnDdEBRB"
      },
      "source": [
        "### 2.1.&nbsp;Preparing the data\n",
        "Preparing data is a crucial step in building a model with Surprise. The Reader class acts as a guide for the library to understand the structure and format of the data. It provides a convenient way to parse and interpret the dataset by specifying the rating scale and other relevant information.\n",
        "\n",
        "In addition to the Reader, Surprise employs the Dataset class, which serves as a container for our data. This class enables us to organise, manipulate, and analyse the dataset effectively. By utilising the Dataset class, we can conveniently load data from various sources, such as CSV files or Pandas DataFrames, and transform it into a format suitable for Surprise. The Dataset class plays a crucial role in facilitating seamless integration between the data and the library, ensuring that the data is prepared and structured in a way that allows us to apply collaborative filtering algorithms and generate meaningful recommendations."
      ]
    },
    {
      "cell_type": "markdown",
      "metadata": {
        "id": "74io2mIDG-UV"
      },
      "source": [
        "When working with the Surprise library, it is important to note that the expected file format assumes a single rating per line. Each line in the file should adhere to the structure below to ensure compatibility with the library.\n",
        "\n",
        "> user | item | rating"
      ]
    },
    {
      "cell_type": "code",
      "execution_count": 4,
      "metadata": {
        "id": "4QOMSBCM5UI7"
      },
      "outputs": [],
      "source": [
        "df_1 = df[['user_id', 'book_isbn', 'book_rating']]"
      ]
    },
    {
      "cell_type": "markdown",
      "metadata": {
        "id": "TmfHgq245XEQ"
      },
      "source": [
        "Create a surprise dataset from the DataFrame"
      ]
    },
    {
      "cell_type": "code",
      "execution_count": 5,
      "metadata": {
        "id": "ijOmhgdzmCnO"
      },
      "outputs": [],
      "source": [
        "reader = Reader(rating_scale=(1, 10))\n",
        "data = Dataset.load_from_df(df_1, reader)"
      ]
    },
    {
      "cell_type": "markdown",
      "metadata": {
        "id": "IqdgtSHQ5nwb"
      },
      "source": [
        "Split the dataset into train and test sets:"
      ]
    },
    {
      "cell_type": "code",
      "execution_count": 6,
      "metadata": {
        "id": "UZ_WHfzX5ok_"
      },
      "outputs": [],
      "source": [
        "trainset, testset = train_test_split(data, test_size=0.2, random_state=142)"
      ]
    },
    {
      "cell_type": "markdown",
      "metadata": {
        "id": "FelcMPUwBd-Z"
      },
      "source": [
        "### 2.2.&nbsp;Making a model to test\n",
        "In this section, we will demonstrate the process of constructing a recommender and evaluating its effectiveness. It is advisable to experiment with diverse models and various parameters to effectively determine the optimal configuration for your final recommender system.\n",
        "\n",
        "When it comes to building recommendation models using surprise, a wealth of options and parameters are at your disposal. Surprise provides a wide range of collaborative filtering algorithms, such as Singular Value Decomposition (SVD), K-Nearest Neighbors (KNN), and Non-negative Matrix Factorization (NMF), each with its own set of configurable parameters. Whether you want to experiment with different similarity measures, adjust the number of neighbors to consider, or fine-tune regularisation parameters, surprise offers a comprehensive toolkit to explore and create models that cater to your specific requirements.\n",
        "\n",
        "In this tutorial, we will guide you through the process of creating a simple KNN model. You might notice that `sim_options`  behaves similarly to the `param_grid` we used in our supervised machine learning project. If you're eager to dive deeper into the topic, we encourage you to explore the documentation and discover more about the various options and configurations available."
      ]
    },
    {
      "cell_type": "code",
      "execution_count": 7,
      "metadata": {
        "id": "VTLxV1jsCMPH"
      },
      "outputs": [],
      "source": [
        "sim_options = {\n",
        "    'name': 'cosine',\n",
        "    'user_based': True\n",
        "}\n",
        "\n",
        "knn = KNNBasic(sim_options=sim_options)"
      ]
    },
    {
      "cell_type": "markdown",
      "metadata": {
        "id": "Ot6aiiU3CQYW"
      },
      "source": [
        "Train the algorithm on the training set:"
      ]
    },
    {
      "cell_type": "code",
      "execution_count": 8,
      "metadata": {
        "colab": {
          "base_uri": "https://localhost:8080/"
        },
        "id": "4V2R5vzeCQqJ",
        "outputId": "66f94546-2560-46a8-f261-e9e763c2ba3f"
      },
      "outputs": [
        {
          "name": "stdout",
          "output_type": "stream",
          "text": [
            "Computing the cosine similarity matrix...\n",
            "Done computing similarity matrix.\n"
          ]
        },
        {
          "data": {
            "text/plain": [
              "<surprise.prediction_algorithms.knns.KNNBasic at 0x7efd7c3aabd0>"
            ]
          },
          "execution_count": 8,
          "metadata": {},
          "output_type": "execute_result"
        }
      ],
      "source": [
        "knn.fit(trainset)"
      ]
    },
    {
      "cell_type": "markdown",
      "metadata": {
        "id": "9AIhECyHCT3j"
      },
      "source": [
        "Make predictions on the test set:"
      ]
    },
    {
      "cell_type": "code",
      "execution_count": 9,
      "metadata": {
        "id": "TY7yvfBeCSb_"
      },
      "outputs": [],
      "source": [
        "predictions = knn.test(testset)"
      ]
    },
    {
      "cell_type": "markdown",
      "metadata": {
        "id": "t7zb7Fp5_lr9"
      },
      "source": [
        "#### 2.2.1.&nbsp;Exploring the predictions\n",
        "The predictions provide us with a list of named tuples. These named tuples are specifically created to hold the results of a prediction. They are packaged within a class primarily for documentation and printing purposes. The named tuple comprises the following parameters:\n",
        "\n",
        "- `uid`: Represents the raw user id\n",
        "- `iid`: Represents the raw item id\n",
        "- `r_ui`: Denotes the true rating provided by the user\n",
        "- `est`: Represents the estimated rating calculated by the model\n",
        "- `details`: Stores additional information about the prediction, which can be valuable for further analysis. It provides a space to include any relevant details that might enhance the understanding or interpretation of the prediction results"
      ]
    },
    {
      "cell_type": "code",
      "execution_count": 10,
      "metadata": {
        "colab": {
          "base_uri": "https://localhost:8080/"
        },
        "id": "PQDEMJmksRpz",
        "outputId": "29c8e68b-e2ba-4e24-f1e2-b4cd91f18a3e"
      },
      "outputs": [
        {
          "data": {
            "text/plain": [
              "[Prediction(uid=53140, iid='0345370775', r_ui=10.0, est=8.5, details={'actual_k': 4, 'was_impossible': False}),\n",
              " Prediction(uid=202353, iid='0375725784', r_ui=4.0, est=7.828028578553752, details={'actual_k': 6, 'was_impossible': False}),\n",
              " Prediction(uid=151101, iid='0312980140', r_ui=8.0, est=8.4, details={'actual_k': 5, 'was_impossible': False}),\n",
              " Prediction(uid=145737, iid='0375703861', r_ui=6.0, est=9.0, details={'actual_k': 1, 'was_impossible': False}),\n",
              " Prediction(uid=248398, iid='0451160525', r_ui=5.0, est=7.849415509863271, details={'was_impossible': True, 'reason': 'User and/or item is unknown.'})]"
            ]
          },
          "execution_count": 10,
          "metadata": {},
          "output_type": "execute_result"
        }
      ],
      "source": [
        "predictions[:5]"
      ]
    },
    {
      "cell_type": "markdown",
      "metadata": {
        "id": "1a-4OOfDQjLt"
      },
      "source": [
        "To enhance readability, let's convert this into a DataFrame, making it more visually appealing and easier to interpret."
      ]
    },
    {
      "cell_type": "code",
      "execution_count": 12,
      "metadata": {
        "colab": {
          "base_uri": "https://localhost:8080/",
          "height": 293
        },
        "id": "96R7JvwIbOPt",
        "outputId": "d9b20abe-755c-411d-97e0-e39327452ff2"
      },
      "outputs": [
        {
          "data": {
            "text/html": [
              "<div>\n",
              "<style scoped>\n",
              "    .dataframe tbody tr th:only-of-type {\n",
              "        vertical-align: middle;\n",
              "    }\n",
              "\n",
              "    .dataframe tbody tr th {\n",
              "        vertical-align: top;\n",
              "    }\n",
              "\n",
              "    .dataframe thead th {\n",
              "        text-align: right;\n",
              "    }\n",
              "</style>\n",
              "<table border=\"1\" class=\"dataframe\">\n",
              "  <thead>\n",
              "    <tr style=\"text-align: right;\">\n",
              "      <th></th>\n",
              "      <th>raw_user_id</th>\n",
              "      <th>raw_item_id</th>\n",
              "      <th>actual_user_rating</th>\n",
              "      <th>estimated_user_rating</th>\n",
              "      <th>details</th>\n",
              "    </tr>\n",
              "  </thead>\n",
              "  <tbody>\n",
              "    <tr>\n",
              "      <th>0</th>\n",
              "      <td>53140</td>\n",
              "      <td>0345370775</td>\n",
              "      <td>10.0</td>\n",
              "      <td>8.500000</td>\n",
              "      <td>{'actual_k': 4, 'was_impossible': False}</td>\n",
              "    </tr>\n",
              "    <tr>\n",
              "      <th>1</th>\n",
              "      <td>202353</td>\n",
              "      <td>0375725784</td>\n",
              "      <td>4.0</td>\n",
              "      <td>7.828029</td>\n",
              "      <td>{'actual_k': 6, 'was_impossible': False}</td>\n",
              "    </tr>\n",
              "    <tr>\n",
              "      <th>2</th>\n",
              "      <td>151101</td>\n",
              "      <td>0312980140</td>\n",
              "      <td>8.0</td>\n",
              "      <td>8.400000</td>\n",
              "      <td>{'actual_k': 5, 'was_impossible': False}</td>\n",
              "    </tr>\n",
              "    <tr>\n",
              "      <th>3</th>\n",
              "      <td>145737</td>\n",
              "      <td>0375703861</td>\n",
              "      <td>6.0</td>\n",
              "      <td>9.000000</td>\n",
              "      <td>{'actual_k': 1, 'was_impossible': False}</td>\n",
              "    </tr>\n",
              "    <tr>\n",
              "      <th>4</th>\n",
              "      <td>248398</td>\n",
              "      <td>0451160525</td>\n",
              "      <td>5.0</td>\n",
              "      <td>7.849416</td>\n",
              "      <td>{'was_impossible': True, 'reason': 'User and/o...</td>\n",
              "    </tr>\n",
              "  </tbody>\n",
              "</table>\n",
              "</div>"
            ],
            "text/plain": [
              "   raw_user_id raw_item_id  actual_user_rating  estimated_user_rating  \\\n",
              "0        53140  0345370775                10.0               8.500000   \n",
              "1       202353  0375725784                 4.0               7.828029   \n",
              "2       151101  0312980140                 8.0               8.400000   \n",
              "3       145737  0375703861                 6.0               9.000000   \n",
              "4       248398  0451160525                 5.0               7.849416   \n",
              "\n",
              "                                             details  \n",
              "0           {'actual_k': 4, 'was_impossible': False}  \n",
              "1           {'actual_k': 6, 'was_impossible': False}  \n",
              "2           {'actual_k': 5, 'was_impossible': False}  \n",
              "3           {'actual_k': 1, 'was_impossible': False}  \n",
              "4  {'was_impossible': True, 'reason': 'User and/o...  "
            ]
          },
          "execution_count": 12,
          "metadata": {},
          "output_type": "execute_result"
        }
      ],
      "source": [
        "predictions_df = pd.DataFrame(predictions, columns=[\"raw_user_id\", \"raw_item_id\", \"actual_user_rating\", \"estimated_user_rating\", \"details\"])\n",
        "predictions_df.head()"
      ]
    },
    {
      "cell_type": "markdown",
      "metadata": {
        "id": "wEt26fEnBOb5"
      },
      "source": [
        "#### 2.2.2.&nbsp;Evaluation\n",
        "Evaluating recommendation systems is a crucial step in assessing their performance and effectiveness. While the ideal approach is to conduct online evaluations with real users, we often face limitations that confine us to offline evaluation methods.\n",
        "\n",
        "Surprise offers a range of evaluation metrics, including mean average error (MAE), root mean square error (RMSE), and fraction of concordant pairs (FCP). These metrics enable us to quantitatively measure the accuracy and performance of recommenders by comparing predicted ratings with actual user ratings. However, it is important to note that there are alternative methods for offline evaluation beyond these popular metrics."
      ]
    },
    {
      "cell_type": "markdown",
      "metadata": {
        "id": "6TajIynNDKbE"
      },
      "source": [
        "##### 2.2.2.1.&nbsp;Mean Absolute Error\n",
        "Mean Absolute Error (MAE) is a simple way to find out how good or bad our recommender system is at guessing the ratings that users give to books. It helps us understand how \"off\" our guesses are from the real ratings. To calculate MAE, we first find the difference between the actual rating and the estimated rating for each user and book pair. Then, we take the absolute value of these differences (which means we ignore negative signs) and find the average of all these absolute differences.\n",
        "\n",
        "Here's an example using the first row of the above DataFrame:\n",
        "\n",
        "1. Actual rating: 10.0, Estimated rating: 8.5\n",
        "2. Difference: 10.0 - 8.5 = 1.5\n",
        "3. Absolute difference: |1.5| = 1.5\n",
        "\n",
        "We repeat this process for all rows and find the average of the absolute differences. That's our Mean Absolute Error! The smaller the MAE, the better our recommender system is at guessing the ratings."
      ]
    },
    {
      "cell_type": "code",
      "execution_count": 13,
      "metadata": {
        "colab": {
          "base_uri": "https://localhost:8080/"
        },
        "id": "0P0PhSk-_CSu",
        "outputId": "94c93aaa-15c9-4706-f875-b0a25d62fa26"
      },
      "outputs": [
        {
          "name": "stdout",
          "output_type": "stream",
          "text": [
            "MAE:  1.3811\n"
          ]
        },
        {
          "data": {
            "text/plain": [
              "1.3811129021262851"
            ]
          },
          "execution_count": 13,
          "metadata": {},
          "output_type": "execute_result"
        }
      ],
      "source": [
        "accuracy.mae(predictions)"
      ]
    },
    {
      "cell_type": "markdown",
      "metadata": {
        "id": "DMy5WifNHvhn"
      },
      "source": [
        "In the context of a recommender system, a Mean Absolute Error (MAE) of 1.3811 means that, on average, the predictions made by the system are about 1.3811 units away from the actual ratings given by users. This appears to be pretty good, all of our ratings are normally only about 1 point away from where they should be."
      ]
    },
    {
      "cell_type": "markdown",
      "metadata": {
        "id": "_T3UJw8G-Gcp"
      },
      "source": [
        "##### 2.2.2.2.&nbsp;Root Mean Square Error\n",
        "Root Mean Squared Error (RMSE) is another way to find out how good our recommender system is at guessing the ratings users give to books. Like MAE, it helps us understand how \"off\" our guesses are from the real ratings. To calculate RMSE, we first find the difference between the actual rating and the estimated rating for each user and book pair. Then, we square these differences and find the average of all these squared differences. Finally, we take the square root of this average.\n",
        "\n",
        "Here's an example using the first row of your dataframe:\n",
        "\n",
        "1. Actual rating: 10.0, Estimated rating: 8.5\n",
        "2. Difference: 10.0 - 8.5 = 1.5\n",
        "3. Squared difference: 1.5 * 1.5 = 2.25\n",
        "\n",
        "We repeat this process for all rows and find the average of the squared differences, and then take the square root of that average. That's our Root Mean Squared Error! The smaller the RMSE, the better our recommender system is at guessing the ratings. RMSE is more sensitive to large errors than MAE because it squares the differences, so it \"punishes\" bigger errors more than MAE does."
      ]
    },
    {
      "cell_type": "code",
      "execution_count": 14,
      "metadata": {
        "colab": {
          "base_uri": "https://localhost:8080/"
        },
        "id": "PlQtmcvP77nY",
        "outputId": "c861c455-7588-4bf3-b58f-619e1a175c1b"
      },
      "outputs": [
        {
          "name": "stdout",
          "output_type": "stream",
          "text": [
            "RMSE: 1.8056\n"
          ]
        },
        {
          "data": {
            "text/plain": [
              "1.805564219310232"
            ]
          },
          "execution_count": 14,
          "metadata": {},
          "output_type": "execute_result"
        }
      ],
      "source": [
        "accuracy.rmse(predictions)"
      ]
    },
    {
      "cell_type": "markdown",
      "metadata": {
        "id": "ujJsrdq-G6a6"
      },
      "source": [
        "##### 2.2.2.3.&nbsp;Fraction of Concordant Pairs\n",
        "Fraction of Concordant Pairs (FCP) is a way to find out how good our recommender system is at ranking books by comparing pairs of actual ratings and estimated ratings. It helps us understand if our recommender system is correctly ranking books for users. To calculate FCP, we first create pairs of actual ratings and estimated ratings for each user. Then, we count the number of pairs where the relative order of the ratings is the same. This means that if a user rated book A higher than book B, our recommender system should also estimate that the user would rate book A higher than book B. These pairs are called \"concordant pairs\".\n",
        "\n",
        "Now, we'll divide the number of concordant pairs by the total number of pairs. That's our Fraction of Concordant Pairs! The higher the FCP, the better our recommender system is at ranking books for users. Unlike MAE and RMSE, which focus on the differences between actual and estimated ratings, FCP focuses on the relative order of the ratings."
      ]
    },
    {
      "cell_type": "code",
      "execution_count": 15,
      "metadata": {
        "colab": {
          "base_uri": "https://localhost:8080/"
        },
        "id": "p3iQX6gvBnL9",
        "outputId": "530d5bc9-6856-40e8-9787-8728bdd771a8"
      },
      "outputs": [
        {
          "name": "stdout",
          "output_type": "stream",
          "text": [
            "FCP:  0.5351\n"
          ]
        },
        {
          "data": {
            "text/plain": [
              "0.5351019091287695"
            ]
          },
          "execution_count": 15,
          "metadata": {},
          "output_type": "execute_result"
        }
      ],
      "source": [
        "accuracy.fcp(predictions)"
      ]
    },
    {
      "cell_type": "markdown",
      "metadata": {
        "id": "Y5cqTdGpIgrk"
      },
      "source": [
        "> **Note:** the combination of a low Fraction of Concordant Pairs (FCP) and a good Root Mean Square Error (RMSE) should raise our awareness that the RMSE alone may not accurately reflect the effectiveness of the recommender. This observation prompts us to delve deeper into the analysis and explore additional factors. To conduct a comprehensive evaluation of the recommender, it is advisable to combine both manual and pre-made evaluation methods."
      ]
    },
    {
      "cell_type": "markdown",
      "metadata": {
        "id": "cH5GAjg2peJF"
      },
      "source": [
        "##### 2.2.2.4.&nbsp;The manual approach\n",
        "In our exploration of supervised machine learning, we examined a histogram of errors and a scatterplot of errors. Here, we will employ a similar approach. We'll begin by analysing a histogram of errors, but we'll replace the scatterplot with a box plot. Given the discrete nature of the data, using a scatterplot results in dots forming lines and overlapping, providing limited insight into density. To gain a better understanding of density and variance, we'll utilise a box plot instead."
      ]
    },
    {
      "cell_type": "markdown",
      "metadata": {
        "id": "w5rnjNe4s7fh"
      },
      "source": [
        "###### Histogram of errors\n",
        "To generate a histogram of errors and a scatterplot of errors, we must initially calculate the difference between the actual and predicted ratings — this difference is referred to as the \"error.\""
      ]
    },
    {
      "cell_type": "code",
      "execution_count": 16,
      "metadata": {
        "id": "JTw1trqBRcNX"
      },
      "outputs": [],
      "source": [
        "predictions_df[\"difference\"] = predictions_df[\"actual_user_rating\"] - predictions_df[\"estimated_user_rating\"]"
      ]
    },
    {
      "cell_type": "code",
      "execution_count": 17,
      "metadata": {
        "colab": {
          "base_uri": "https://localhost:8080/",
          "height": 676
        },
        "id": "LPLyDhC59JqT",
        "outputId": "1106caca-ecfb-4b28-8a49-a1b4050c25b6"
      },
      "outputs": [
        {
          "data": {
            "image/png": "[encoded data removed]",
            "text/plain": [
              "<Figure size 1000x800 with 1 Axes>"
            ]
          },
          "metadata": {},
          "output_type": "display_data"
        }
      ],
      "source": [
        "predictions_df[\"difference\"].hist(bins=30,\n",
        "                                  figsize=(10, 8));"
      ]
    },
    {
      "cell_type": "markdown",
      "metadata": {
        "id": "iSw9k7jeTdZQ"
      },
      "source": [
        "Our model displays a left skew, suggesting that it tends to overestimate ratings to a greater extent than underestimating them. It could be intriguing to experiment with various parameters and observe their impact on this behavior. However, it doesn't tell us a great deal about the discord between our FCP and RMSE, so let's take a look at the boxplot."
      ]
    },
    {
      "cell_type": "markdown",
      "metadata": {
        "id": "Mc1IlESfv73x"
      },
      "source": [
        "###### Boxplot of errors"
      ]
    },
    {
      "cell_type": "code",
      "execution_count": null,
      "metadata": {
        "colab": {
          "base_uri": "https://localhost:8080/",
          "height": 699
        },
        "id": "d_z0joyl8-zq",
        "outputId": "282d86df-538f-4481-c09d-7ccd194b1a1e"
      },
      "outputs": [
        {
          "data": {
            "image/png": "[encoded data removed]",
            "text/plain": [
              "<Figure size 1000x800 with 1 Axes>"
            ]
          },
          "metadata": {},
          "output_type": "display_data"
        }
      ],
      "source": [
        "predictions_df.plot(kind='box',\n",
        "                    column='estimated_user_rating',\n",
        "                    by='actual_user_rating',\n",
        "                    figsize=(10, 8));"
      ]
    },
    {
      "cell_type": "markdown",
      "metadata": {
        "id": "W8buxbr7ZNhf"
      },
      "source": [
        "Irrespective of the actual rating, it is evident that the median predicted rating for each category consistently centres around 8. This observation sheds light on why we obtained a seemingly good Root Mean Squared Error (RMSE), despite the recommender system performing poorly in predicting low values. As we discovered during our data exploration in the popularity recommender notebook, most users tend to provide generous ratings, with the majority falling within the range of 7-9. It appears that our recommender system is consistently predicting a rating of 8, aligning with the abundance of ratings clustered around this value. While this may contribute to a favourable RMSE, it indicates a lack of nuance and adaptability in our recommender system, as it tends to generalise and treat all items uniformly."
      ]
    },
    {
      "cell_type": "markdown",
      "metadata": {
        "id": "h0WfxnoZyHrA"
      },
      "source": [
        "### 2.3.&nbsp; Making a model to use\n",
        "After identifying your preferred model and parameters, you can construct a recommender using the entire dataset.\n",
        "\n",
        "To illustrate the process of creating a recommender using Surprise, we'll make a quick example of how to get the top n recommendations for a user. Feel encouraged to modify and tailor the code to suit your specific requirements.\n",
        "\n",
        "Our objective is to generate predictions for items that the user has not yet rated, leveraging the patterns observed from the items they have rated. To achieve this, we utilise the `build_full_trainset()` method. This method constructs a comprehensive training set encompassing all user-item ratings.\n",
        "\n",
        "> This cell has the potential to cause Colab to crash. In the event of a crash, simply uncomment the first cell to re-import pandas, surprise, and the data. Then run it again. This occurrence is a common challenge when working with free resources, as they are subject to resource limitations."
      ]
    },
    {
      "cell_type": "code",
      "execution_count": 19,
      "metadata": {
        "id": "atcEBAJS23LU"
      },
      "outputs": [],
      "source": [
        "# What to do if colab crashes\n",
        "\n",
        "'''\n",
        "import pandas as pd\n",
        "\n",
        "from surprise import Reader, Dataset, KNNBasic, accuracy\n",
        "from surprise.model_selection import train_test_split\n",
        "\n",
        "url = 'https://drive.google.com/file/d/1yFwxNVF0MuAsiFTAZMfoVGt1nIOatByg/view?usp=sharing'\n",
        "path = 'https://drive.google.com/uc?id='+url.split('/')[-2]\n",
        "df = pd.read_csv(path)\n",
        "\n",
        "df_1 = df[['user_id', 'book_isbn', 'book_rating']]\n",
        "\n",
        "reader = Reader(rating_scale=(1, 10))\n",
        "data = Dataset.load_from_df(df_1, reader)\n",
        "''';"
      ]
    },
    {
      "cell_type": "code",
      "execution_count": 20,
      "metadata": {
        "colab": {
          "base_uri": "https://localhost:8080/"
        },
        "id": "LmXMPimAyXQn",
        "outputId": "42c8337c-e7ae-40fa-bef3-9eb8e5eaf6b2"
      },
      "outputs": [
        {
          "name": "stdout",
          "output_type": "stream",
          "text": [
            "Computing the cosine similarity matrix...\n",
            "Done computing similarity matrix.\n"
          ]
        },
        {
          "data": {
            "text/plain": [
              "<surprise.prediction_algorithms.knns.KNNBasic at 0x7efd46816390>"
            ]
          },
          "execution_count": 20,
          "metadata": {},
          "output_type": "execute_result"
        }
      ],
      "source": [
        "# building the full_trainset\n",
        "\n",
        "sim_options = {\n",
        "    'name': 'cosine',\n",
        "    'user_based': True\n",
        "}\n",
        "\n",
        "full_train = data.build_full_trainset()\n",
        "algo = KNNBasic(sim_options=sim_options)\n",
        "algo.fit(full_train)"
      ]
    },
    {
      "cell_type": "markdown",
      "metadata": {
        "id": "4wtRtvZyybLl"
      },
      "source": [
        "When using `build_full_trainset`, we pair it with `build_anti_testset()`. This method creates a test set for predicting items that users haven't rated yet. It simulates scenarios where the recommendation system suggests new items to users."
      ]
    },
    {
      "cell_type": "code",
      "execution_count": 21,
      "metadata": {
        "id": "aQlc3OQlycF-"
      },
      "outputs": [],
      "source": [
        "testset = full_train.build_anti_testset()"
      ]
    },
    {
      "cell_type": "markdown",
      "metadata": {
        "id": "ETlzPaCK6Te-"
      },
      "source": [
        "Typically, the next step involves predicting ratings for all unread books across all users. However, executing this code may lead to a RAM crash due to its resource-intensive nature. To mitigate this issue, you can clear variables and free up RAM by restarting the runtime and then re-importing the required data and modules. Nevertheless, be prepared for a time-consuming process, potentially exceeding 10 minutes. As a precaution, we will leave this code commented out. Instead, we will opt for a less computationally demanding approach - predicting ratings for a single user, not all users."
      ]
    },
    {
      "cell_type": "code",
      "execution_count": null,
      "metadata": {
        "id": "7WDXLXAeyiMc"
      },
      "outputs": [],
      "source": [
        "# predictions = algo.test(testset)"
      ]
    },
    {
      "cell_type": "markdown",
      "metadata": {
        "id": "M-dfOEGazFRM"
      },
      "source": [
        "We can identify all the unread books by utilising the `user_id` within the testset, which is structured as a tuple of (user_id, item_id, rating).\n",
        "> Since these are all the unread books, they are initially assigned a default average rating, which will be updated as the algorithm processes the data."
      ]
    },
    {
      "cell_type": "code",
      "execution_count": 22,
      "metadata": {
        "colab": {
          "base_uri": "https://localhost:8080/"
        },
        "id": "AX6d2jljzQja",
        "outputId": "5bbadd17-90b7-4b53-9116-78c2ebdfae02"
      },
      "outputs": [
        {
          "data": {
            "text/plain": [
              "[(3329, '0452264464', 7.854503705249974),\n",
              " (3329, '0971880107', 7.854503705249974),\n",
              " (3329, '0345402871', 7.854503705249974),\n",
              " (3329, '0345417623', 7.854503705249974),\n",
              " (3329, '0446310786', 7.854503705249974)]"
            ]
          },
          "execution_count": 22,
          "metadata": {},
          "output_type": "execute_result"
        }
      ],
      "source": [
        "testset[:5]"
      ]
    },
    {
      "cell_type": "markdown",
      "metadata": {
        "id": "nZJcirkGV-Qy"
      },
      "source": [
        "Next, let's create a function that will provide the top n recommendations for a specified user."
      ]
    },
    {
      "cell_type": "code",
      "execution_count": 23,
      "metadata": {
        "id": "f4FKTyVSWMGy"
      },
      "outputs": [],
      "source": [
        "def get_top_n(testset, user_id, n):\n",
        "    # Filter the testset to include only rows with the specified user_id\n",
        "    filtered_testset = [row for row in testset if row[0] == user_id]\n",
        "\n",
        "    # Make predictions on the filtered testset\n",
        "    predictions = algo.test(filtered_testset)\n",
        "\n",
        "    # Create a DataFrame from the predictions and return the top n predictions based on the estimated ratings ('est')\n",
        "    top_n_predictions_df = pd.DataFrame(predictions).nlargest(n, 'est')\n",
        "\n",
        "    return top_n_predictions_df"
      ]
    },
    {
      "cell_type": "markdown",
      "metadata": {
        "id": "eZkP_uHxmW_w"
      },
      "source": [
        "Let's see if the function works 👀"
      ]
    },
    {
      "cell_type": "code",
      "execution_count": 24,
      "metadata": {
        "colab": {
          "base_uri": "https://localhost:8080/",
          "height": 363
        },
        "id": "EWpSOyBzWlVM",
        "outputId": "fe5a1aae-3348-4c85-99d9-a16a684c4052"
      },
      "outputs": [
        {
          "data": {
            "text/html": [
              "<div>\n",
              "<style scoped>\n",
              "    .dataframe tbody tr th:only-of-type {\n",
              "        vertical-align: middle;\n",
              "    }\n",
              "\n",
              "    .dataframe tbody tr th {\n",
              "        vertical-align: top;\n",
              "    }\n",
              "\n",
              "    .dataframe thead th {\n",
              "        text-align: right;\n",
              "    }\n",
              "</style>\n",
              "<table border=\"1\" class=\"dataframe\">\n",
              "  <thead>\n",
              "    <tr style=\"text-align: right;\">\n",
              "      <th></th>\n",
              "      <th>uid</th>\n",
              "      <th>iid</th>\n",
              "      <th>r_ui</th>\n",
              "      <th>est</th>\n",
              "      <th>details</th>\n",
              "    </tr>\n",
              "  </thead>\n",
              "  <tbody>\n",
              "    <tr>\n",
              "      <th>340</th>\n",
              "      <td>251844</td>\n",
              "      <td>043936213X</td>\n",
              "      <td>7.854504</td>\n",
              "      <td>9.553773</td>\n",
              "      <td>{'actual_k': 9, 'was_impossible': False}</td>\n",
              "    </tr>\n",
              "    <tr>\n",
              "      <th>269</th>\n",
              "      <td>251844</td>\n",
              "      <td>0345339738</td>\n",
              "      <td>7.854504</td>\n",
              "      <td>9.506679</td>\n",
              "      <td>{'actual_k': 16, 'was_impossible': False}</td>\n",
              "    </tr>\n",
              "    <tr>\n",
              "      <th>259</th>\n",
              "      <td>251844</td>\n",
              "      <td>059035342X</td>\n",
              "      <td>7.854504</td>\n",
              "      <td>9.375000</td>\n",
              "      <td>{'actual_k': 40, 'was_impossible': False}</td>\n",
              "    </tr>\n",
              "    <tr>\n",
              "      <th>266</th>\n",
              "      <td>251844</td>\n",
              "      <td>0812550706</td>\n",
              "      <td>7.854504</td>\n",
              "      <td>9.370984</td>\n",
              "      <td>{'actual_k': 27, 'was_impossible': False}</td>\n",
              "    </tr>\n",
              "    <tr>\n",
              "      <th>131</th>\n",
              "      <td>251844</td>\n",
              "      <td>0345348036</td>\n",
              "      <td>7.854504</td>\n",
              "      <td>9.364284</td>\n",
              "      <td>{'actual_k': 11, 'was_impossible': False}</td>\n",
              "    </tr>\n",
              "    <tr>\n",
              "      <th>73</th>\n",
              "      <td>251844</td>\n",
              "      <td>0439139597</td>\n",
              "      <td>7.854504</td>\n",
              "      <td>9.327510</td>\n",
              "      <td>{'actual_k': 25, 'was_impossible': False}</td>\n",
              "    </tr>\n",
              "    <tr>\n",
              "      <th>95</th>\n",
              "      <td>251844</td>\n",
              "      <td>0156528207</td>\n",
              "      <td>7.854504</td>\n",
              "      <td>9.303376</td>\n",
              "      <td>{'actual_k': 10, 'was_impossible': False}</td>\n",
              "    </tr>\n",
              "    <tr>\n",
              "      <th>322</th>\n",
              "      <td>251844</td>\n",
              "      <td>0553208845</td>\n",
              "      <td>7.854504</td>\n",
              "      <td>9.250000</td>\n",
              "      <td>{'actual_k': 4, 'was_impossible': False}</td>\n",
              "    </tr>\n",
              "    <tr>\n",
              "      <th>71</th>\n",
              "      <td>251844</td>\n",
              "      <td>0439136350</td>\n",
              "      <td>7.854504</td>\n",
              "      <td>9.249443</td>\n",
              "      <td>{'actual_k': 29, 'was_impossible': False}</td>\n",
              "    </tr>\n",
              "    <tr>\n",
              "      <th>217</th>\n",
              "      <td>251844</td>\n",
              "      <td>0345339703</td>\n",
              "      <td>7.854504</td>\n",
              "      <td>9.239713</td>\n",
              "      <td>{'actual_k': 25, 'was_impossible': False}</td>\n",
              "    </tr>\n",
              "  </tbody>\n",
              "</table>\n",
              "</div>"
            ],
            "text/plain": [
              "        uid         iid      r_ui       est  \\\n",
              "340  251844  043936213X  7.854504  9.553773   \n",
              "269  251844  0345339738  7.854504  9.506679   \n",
              "259  251844  059035342X  7.854504  9.375000   \n",
              "266  251844  0812550706  7.854504  9.370984   \n",
              "131  251844  0345348036  7.854504  9.364284   \n",
              "73   251844  0439139597  7.854504  9.327510   \n",
              "95   251844  0156528207  7.854504  9.303376   \n",
              "322  251844  0553208845  7.854504  9.250000   \n",
              "71   251844  0439136350  7.854504  9.249443   \n",
              "217  251844  0345339703  7.854504  9.239713   \n",
              "\n",
              "                                       details  \n",
              "340   {'actual_k': 9, 'was_impossible': False}  \n",
              "269  {'actual_k': 16, 'was_impossible': False}  \n",
              "259  {'actual_k': 40, 'was_impossible': False}  \n",
              "266  {'actual_k': 27, 'was_impossible': False}  \n",
              "131  {'actual_k': 11, 'was_impossible': False}  \n",
              "73   {'actual_k': 25, 'was_impossible': False}  \n",
              "95   {'actual_k': 10, 'was_impossible': False}  \n",
              "322   {'actual_k': 4, 'was_impossible': False}  \n",
              "71   {'actual_k': 29, 'was_impossible': False}  \n",
              "217  {'actual_k': 25, 'was_impossible': False}  "
            ]
          },
          "execution_count": 24,
          "metadata": {},
          "output_type": "execute_result"
        }
      ],
      "source": [
        "user_id = 251844\n",
        "n = 10\n",
        "\n",
        "top_n_df = get_top_n(testset, user_id, n)\n",
        "top_n_df"
      ]
    },
    {
      "cell_type": "markdown",
      "metadata": {
        "id": "87GaYnMXmW_w"
      },
      "source": [
        "Success! 🎉 Now, our final task is to match the ISBNs with their respective book titles and other relevant information."
      ]
    },
    {
      "cell_type": "code",
      "execution_count": 25,
      "metadata": {
        "colab": {
          "base_uri": "https://localhost:8080/",
          "height": 537
        },
        "id": "IaozMUppmW_w",
        "outputId": "8ad65e57-291d-4373-8bac-3eab77c29140"
      },
      "outputs": [
        {
          "data": {
            "text/html": [
              "<div>\n",
              "<style scoped>\n",
              "    .dataframe tbody tr th:only-of-type {\n",
              "        vertical-align: middle;\n",
              "    }\n",
              "\n",
              "    .dataframe tbody tr th {\n",
              "        vertical-align: top;\n",
              "    }\n",
              "\n",
              "    .dataframe thead th {\n",
              "        text-align: right;\n",
              "    }\n",
              "</style>\n",
              "<table border=\"1\" class=\"dataframe\">\n",
              "  <thead>\n",
              "    <tr style=\"text-align: right;\">\n",
              "      <th></th>\n",
              "      <th>book_isbn</th>\n",
              "      <th>book_title</th>\n",
              "      <th>book_author</th>\n",
              "      <th>book_year_of_publication</th>\n",
              "      <th>estimated_rating</th>\n",
              "    </tr>\n",
              "  </thead>\n",
              "  <tbody>\n",
              "    <tr>\n",
              "      <th>0</th>\n",
              "      <td>043936213X</td>\n",
              "      <td>Harry Potter and the Sorcerer's Stone (Book 1)</td>\n",
              "      <td>J. K. Rowling</td>\n",
              "      <td>2001.0</td>\n",
              "      <td>9.553773</td>\n",
              "    </tr>\n",
              "    <tr>\n",
              "      <th>1</th>\n",
              "      <td>0345339738</td>\n",
              "      <td>The Return of the King (The Lord of the Rings,...</td>\n",
              "      <td>J.R.R. TOLKIEN</td>\n",
              "      <td>1986.0</td>\n",
              "      <td>9.506679</td>\n",
              "    </tr>\n",
              "    <tr>\n",
              "      <th>2</th>\n",
              "      <td>059035342X</td>\n",
              "      <td>Harry Potter and the Sorcerer's Stone (Harry P...</td>\n",
              "      <td>J. K. Rowling</td>\n",
              "      <td>1999.0</td>\n",
              "      <td>9.375000</td>\n",
              "    </tr>\n",
              "    <tr>\n",
              "      <th>3</th>\n",
              "      <td>0812550706</td>\n",
              "      <td>Ender's Game (Ender Wiggins Saga (Paperback))</td>\n",
              "      <td>Orson Scott Card</td>\n",
              "      <td>1994.0</td>\n",
              "      <td>9.370984</td>\n",
              "    </tr>\n",
              "    <tr>\n",
              "      <th>4</th>\n",
              "      <td>0345348036</td>\n",
              "      <td>The Princess Bride: S Morgenstern's Classic Ta...</td>\n",
              "      <td>WILLIAM GOLDMAN</td>\n",
              "      <td>1987.0</td>\n",
              "      <td>9.364284</td>\n",
              "    </tr>\n",
              "    <tr>\n",
              "      <th>5</th>\n",
              "      <td>0439139597</td>\n",
              "      <td>Harry Potter and the Goblet of Fire (Book 4)</td>\n",
              "      <td>J. K. Rowling</td>\n",
              "      <td>2000.0</td>\n",
              "      <td>9.327510</td>\n",
              "    </tr>\n",
              "    <tr>\n",
              "      <th>6</th>\n",
              "      <td>0156528207</td>\n",
              "      <td>The Little Prince</td>\n",
              "      <td>Antoine de Saint-ExupÃ©ry</td>\n",
              "      <td>1968.0</td>\n",
              "      <td>9.303376</td>\n",
              "    </tr>\n",
              "    <tr>\n",
              "      <th>7</th>\n",
              "      <td>0553208845</td>\n",
              "      <td>Siddhartha</td>\n",
              "      <td>Hermann Hesse</td>\n",
              "      <td>1981.0</td>\n",
              "      <td>9.250000</td>\n",
              "    </tr>\n",
              "    <tr>\n",
              "      <th>8</th>\n",
              "      <td>0439136350</td>\n",
              "      <td>Harry Potter and the Prisoner of Azkaban (Book 3)</td>\n",
              "      <td>J. K. Rowling</td>\n",
              "      <td>1999.0</td>\n",
              "      <td>9.249443</td>\n",
              "    </tr>\n",
              "    <tr>\n",
              "      <th>9</th>\n",
              "      <td>0345339703</td>\n",
              "      <td>The Fellowship of the Ring (The Lord of the Ri...</td>\n",
              "      <td>J.R.R. TOLKIEN</td>\n",
              "      <td>1986.0</td>\n",
              "      <td>9.239713</td>\n",
              "    </tr>\n",
              "  </tbody>\n",
              "</table>\n",
              "</div>"
            ],
            "text/plain": [
              "    book_isbn                                         book_title  \\\n",
              "0  043936213X     Harry Potter and the Sorcerer's Stone (Book 1)   \n",
              "1  0345339738  The Return of the King (The Lord of the Rings,...   \n",
              "2  059035342X  Harry Potter and the Sorcerer's Stone (Harry P...   \n",
              "3  0812550706      Ender's Game (Ender Wiggins Saga (Paperback))   \n",
              "4  0345348036  The Princess Bride: S Morgenstern's Classic Ta...   \n",
              "5  0439139597       Harry Potter and the Goblet of Fire (Book 4)   \n",
              "6  0156528207                                  The Little Prince   \n",
              "7  0553208845                                         Siddhartha   \n",
              "8  0439136350  Harry Potter and the Prisoner of Azkaban (Book 3)   \n",
              "9  0345339703  The Fellowship of the Ring (The Lord of the Ri...   \n",
              "\n",
              "                 book_author  book_year_of_publication  estimated_rating  \n",
              "0              J. K. Rowling                    2001.0          9.553773  \n",
              "1             J.R.R. TOLKIEN                    1986.0          9.506679  \n",
              "2              J. K. Rowling                    1999.0          9.375000  \n",
              "3           Orson Scott Card                    1994.0          9.370984  \n",
              "4            WILLIAM GOLDMAN                    1987.0          9.364284  \n",
              "5              J. K. Rowling                    2000.0          9.327510  \n",
              "6  Antoine de Saint-ExupÃ©ry                    1968.0          9.303376  \n",
              "7              Hermann Hesse                    1981.0          9.250000  \n",
              "8              J. K. Rowling                    1999.0          9.249443  \n",
              "9             J.R.R. TOLKIEN                    1986.0          9.239713  "
            ]
          },
          "execution_count": 25,
          "metadata": {},
          "output_type": "execute_result"
        }
      ],
      "source": [
        "# Creating a DataFrame from the top_n with columns 'book_isbn' and 'estimated_rating'\n",
        "reduced_top_n_df = top_n_df.loc[:, [\"iid\", \"est\"]].rename(columns={\"iid\": \"book_isbn\", \"est\": \"estimated_rating\"})\n",
        "\n",
        "# Creating a copy of the original DataFrame with duplicate 'book_isbn' entries removed\n",
        "reduced__original_df = df.drop_duplicates(subset='book_isbn').copy()\n",
        "\n",
        "# Merging the 2 created DataFrames based on 'book_isbn', retaining only the matching rows\n",
        "merged_df = reduced_top_n_df.merge(reduced__original_df, on=\"book_isbn\", how='left')\n",
        "\n",
        "# Selecting specific columns from the merged DataFrame to include in the final result\n",
        "final_df = merged_df[['book_isbn', 'book_title', 'book_author', 'book_year_of_publication', 'estimated_rating']]\n",
        "\n",
        "# Displaying the DataFrame\n",
        "final_df"
      ]
    },
    {
      "cell_type": "markdown",
      "metadata": {
        "id": "BUDOHeO812l6"
      },
      "source": [
        "---\n",
        "## 3.&nbsp;Challenge: build a surprise recommender 😃\n",
        "Use the skills that you've learnt in this notebook to build a recommender for your movie dataset using surprise. Use the [surprise docs](https://surpriselib.com/) to try out other recommenders and other parameters. Be creative and have fun 😃"
      ]
    },
    {
      "cell_type": "code",
      "execution_count": null,
      "metadata": {
        "id": "nbq7CVql2UuH"
      },
      "outputs": [],
      "source": []
    }
  ],
  "metadata": {
    "colab": {
      "provenance": [],
      "toc_visible": true
    },
    "kernelspec": {
      "display_name": "Python 3",
      "name": "python3"
    },
    "language_info": {
      "codemirror_mode": {
        "name": "ipython",
        "version": 3
      },
      "file_extension": ".py",
      "mimetype": "text/x-python",
      "name": "python",
      "nbconvert_exporter": "python",
      "pygments_lexer": "ipython3",
      "version": "3.11.7"
    }
  },
  "nbformat": 4,
  "nbformat_minor": 0
}
