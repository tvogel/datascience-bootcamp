{
 "cells": [
  {
   "cell_type": "code",
   "execution_count": 15,
   "metadata": {},
   "outputs": [],
   "source": [
    "import os\n",
    "import dotenv\n",
    "import requests\n",
    "\n",
    "dotenv.load_dotenv()\n",
    "\n",
    "def get_tmdb_config():\n",
    "  url = \"https://api.themoviedb.org/3/configuration\"\n",
    "\n",
    "  headers = {\n",
    "    \"accept\": \"application/json\",\n",
    "    \"Authorization\": f\"Bearer {os.environ['TMDB_API_KEY']}\"\n",
    "  }\n",
    "\n",
    "  return requests.get(url, headers=headers).json()\n"
   ]
  },
  {
   "cell_type": "code",
   "execution_count": 16,
   "metadata": {},
   "outputs": [
    {
     "data": {
      "text/plain": [
       "'http://image.tmdb.org/t/p/w185/pB8BM7pdSp6B6Ih7QZ4DrQ3PmJK.jpg'"
      ]
     },
     "execution_count": 16,
     "metadata": {},
     "output_type": "execute_result"
    }
   ],
   "source": [
    "def get_movie_poster_url(movie_id=550):\n",
    "  try:\n",
    "    tmdb_config = get_movie_poster_url.config\n",
    "  except AttributeError:\n",
    "    get_movie_poster_url.config = tmdb_config = get_tmdb_config()\n",
    "\n",
    "  tmdb_poster_size = get_movie_poster_url.poster_size\n",
    "\n",
    "  url = f\"https://api.themoviedb.org/3/movie/{movie_id}?language=en-US\"\n",
    "\n",
    "  headers = {\n",
    "    \"accept\": \"application/json\",\n",
    "    \"Authorization\": f\"Bearer {os.environ['TMDB_API_KEY']}\"\n",
    "  }\n",
    "\n",
    "  response = requests.get(url, headers=headers).json()\n",
    "\n",
    "  return f\"{tmdb_config['images']['base_url']}{tmdb_config['images']['poster_sizes'][tmdb_poster_size]}{response['poster_path']}\"\n",
    "get_movie_poster_url.poster_size = 2\n",
    "\n",
    "get_movie_poster_url(550)"
   ]
  },
  {
   "cell_type": "code",
   "execution_count": null,
   "metadata": {},
   "outputs": [],
   "source": []
  }
 ],
 "metadata": {
  "kernelspec": {
   "display_name": "base",
   "language": "python",
   "name": "python3"
  },
  "language_info": {
   "codemirror_mode": {
    "name": "ipython",
    "version": 3
   },
   "file_extension": ".py",
   "mimetype": "text/x-python",
   "name": "python",
   "nbconvert_exporter": "python",
   "pygments_lexer": "ipython3",
   "version": "3.11.7"
  }
 },
 "nbformat": 4,
 "nbformat_minor": 2
}
